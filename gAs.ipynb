{
  "nbformat": 4,
  "nbformat_minor": 0,
  "metadata": {
    "colab": {
      "name": "gAs.ipynb",
      "private_outputs": true,
      "provenance": [],
      "collapsed_sections": [],
      "mount_file_id": "1R5N15YwqKPCbm_3Z47mOTaCEJrgmOrTn",
      "authorship_tag": "ABX9TyOxnT/alE6BbbED7auUvOCV",
      "include_colab_link": true
    },
    "kernelspec": {
      "name": "python3",
      "display_name": "Python 3"
    },
    "language_info": {
      "name": "python"
    },
    "accelerator": "GPU"
  },
  "cells": [
    {
      "cell_type": "markdown",
      "metadata": {
        "id": "view-in-github",
        "colab_type": "text"
      },
      "source": [
        "<a href=\"https://colab.research.google.com/github/YoonJiHwan98/dacon_code/blob/main/gAs.ipynb\" target=\"_parent\"><img src=\"https://colab.research.google.com/assets/colab-badge.svg\" alt=\"Open In Colab\"/></a>"
      ]
    },
    {
      "cell_type": "code",
      "metadata": {
        "id": "tbJWqQCB3Mnb"
      },
      "source": [
        "import pandas as pd\n",
        "import numpy as np\n",
        "import matplotlib.pyplot as plt\n",
        "import seaborn as sns\n",
        "import datetime\n",
        "\n",
        "from statsmodels.tsa.arima_model import ARIMA\n",
        "import statsmodels.api as sm\n",
        "from statsmodels.tsa.api import ExponentialSmoothing, SimpleExpSmoothing, Holt"
      ],
      "execution_count": null,
      "outputs": []
    },
    {
      "cell_type": "code",
      "metadata": {
        "id": "5sJelL2Lwv9a"
      },
      "source": [
        "!git clone https://github.com/YoonJiHwan98/TIL.git"
      ],
      "execution_count": null,
      "outputs": []
    },
    {
      "cell_type": "code",
      "metadata": {
        "id": "orT4IwJt85qq"
      },
      "source": [
        "!sudo apt-get install -y fonts-nanum\n",
        "!sudo fc-cache -fv\n",
        "!rm ~/.cache/matplotlib -rf\n",
        "\n",
        "plt.rc('font', family='NanumBarunGothic') "
      ],
      "execution_count": null,
      "outputs": []
    },
    {
      "cell_type": "code",
      "metadata": {
        "id": "GWX0g1gx3TnO"
      },
      "source": [
        "data = pd.read_csv('/content/drive/MyDrive/TAVE 머신러닝 스터디/Gas/한국가스공사_시간별 공급량_20181231.csv',encoding = 'cp949')\n",
        "test = pd.read_csv('/content/drive/MyDrive/TAVE 머신러닝 스터디/Gas/test.csv')\n",
        "submission = pd.read_csv('/content/drive/MyDrive/TAVE 머신러닝 스터디/Gas/sample_submission.csv')"
      ],
      "execution_count": null,
      "outputs": []
    },
    {
      "cell_type": "code",
      "metadata": {
        "id": "YD6e_GBrC3S_"
      },
      "source": [
        "test"
      ],
      "execution_count": null,
      "outputs": []
    },
    {
      "cell_type": "code",
      "metadata": {
        "id": "PGHZe2zQlISC"
      },
      "source": [
        "data"
      ],
      "execution_count": null,
      "outputs": []
    },
    {
      "cell_type": "code",
      "metadata": {
        "id": "c0ru0hHa30Ey"
      },
      "source": [
        "#data['연월일시'] = \n",
        "data['시간'] = data['시간'].astype(str)"
      ],
      "execution_count": null,
      "outputs": []
    },
    {
      "cell_type": "code",
      "metadata": {
        "id": "6ycnk0tw3_sI"
      },
      "source": [
        "data['시간'] = data['시간'].map({'1' : '01','2' : '02','3' : '03','4' : '04','5' : '05','6' : '06','7' : '07','8' : '08','9' : '09','10' : '10','11' : '11','12' : '12','13' : '13','14' : '14','15' : '15','16' : '16','17' : '17','18' : '18','19' : '19','20' : '20','21' : '21','22' : '22','23' : '23','24' : '00'})"
      ],
      "execution_count": null,
      "outputs": []
    },
    {
      "cell_type": "code",
      "metadata": {
        "id": "J3_RCbDyL0Xi"
      },
      "source": [
        "data['시간'] = data['시간'].astype(str)"
      ],
      "execution_count": null,
      "outputs": []
    },
    {
      "cell_type": "code",
      "metadata": {
        "id": "ClBdP8uJkBha"
      },
      "source": [
        "data['연월일시'] = data['연월일'] + '-' + data['시간']\n",
        "data"
      ],
      "execution_count": null,
      "outputs": []
    },
    {
      "cell_type": "code",
      "metadata": {
        "id": "b6s5jNsINdSx"
      },
      "source": [
        "data1 = data.copy()"
      ],
      "execution_count": null,
      "outputs": []
    },
    {
      "cell_type": "code",
      "metadata": {
        "id": "1KRCLoMnP0WE"
      },
      "source": [
        "data1['연월일'] = data1['연월일'].astype(str)\n",
        "data1['연월일시'] = data1['연월일'] + ' ' + data1['시간']"
      ],
      "execution_count": null,
      "outputs": []
    },
    {
      "cell_type": "code",
      "metadata": {
        "id": "wPOur3GzPUDl"
      },
      "source": [
        "data1['연월일시'] = data1['연월일시'].apply(lambda x : pd.to_datetime(x.split()[0]) + datetime.timedelta(days=1) if x.split()[1] == '24' else x)\n",
        "data1['연월일시'] = pd.to_datetime(data1['연월일시'])\n",
        "data1"
      ],
      "execution_count": null,
      "outputs": []
    },
    {
      "cell_type": "code",
      "metadata": {
        "id": "lh4JwzEEnkgo"
      },
      "source": [
        "data1"
      ],
      "execution_count": null,
      "outputs": []
    },
    {
      "cell_type": "code",
      "metadata": {
        "id": "2PaSrCIdJej_"
      },
      "source": [
        "df_A = data[data['구분'] == \"A\"]"
      ],
      "execution_count": null,
      "outputs": []
    },
    {
      "cell_type": "code",
      "metadata": {
        "id": "ab7uYV3fBgHD"
      },
      "source": [
        ""
      ],
      "execution_count": null,
      "outputs": []
    },
    {
      "cell_type": "markdown",
      "metadata": {
        "id": "oL1gS8BCUbYc"
      },
      "source": [
        "https://dacon.io/codeshare/2326\n",
        "\n",
        "https://dacon.io/codeshare/2327?page&dtype&ptype"
      ]
    },
    {
      "cell_type": "code",
      "metadata": {
        "id": "JhcE5UYAM0hZ"
      },
      "source": [
        "#df['time'].apply(lambda x: pd.to_datetime(x.split()[0]) + timedelta)"
      ],
      "execution_count": null,
      "outputs": []
    },
    {
      "cell_type": "code",
      "metadata": {
        "id": "B9SU8BwAWKYQ"
      },
      "source": [
        "#pred_df = forecast.iloc[19008:]\n",
        "#pred_df['DateTime'] = pred_df['ds'].apply(lambda x: datetime.datetime.strftime(x,'%Y-%m-%d'))"
      ],
      "execution_count": null,
      "outputs": []
    },
    {
      "cell_type": "code",
      "metadata": {
        "id": "8DqvBlt8WsYi"
      },
      "source": [
        "#pred_df.groupby('DateTime')['yhat'].mean().reset_index(name = 'pred').head()"
      ],
      "execution_count": null,
      "outputs": []
    },
    {
      "cell_type": "code",
      "metadata": {
        "id": "7RpzrGn8CBYV"
      },
      "source": [
        "data1"
      ],
      "execution_count": null,
      "outputs": []
    },
    {
      "cell_type": "code",
      "metadata": {
        "id": "bK6CSKBZGOnA"
      },
      "source": [
        "#data['year'] = data['연월일'].dt.year\n",
        "#data['month'] = data['연월일'].dt.month\n",
        "#data['day'] = data['연월일'].dt.day\n",
        "#data['weekday'] = data['연월일'].dt.weekday"
      ],
      "execution_count": null,
      "outputs": []
    },
    {
      "cell_type": "code",
      "metadata": {
        "id": "TgXuE_lmGeFf"
      },
      "source": [
        "data1['구분'].unique()"
      ],
      "execution_count": null,
      "outputs": []
    },
    {
      "cell_type": "code",
      "metadata": {
        "id": "DTsGO34yO4WY"
      },
      "source": [
        "df_a = data1[data1['구분'] == 'A']\n",
        "df_b = data1[data1['구분'] == 'B']\n",
        "df_c = data1[data1['구분'] == 'C']\n",
        "df_d = data1[data1['구분'] == 'D']\n",
        "df_g = data1[data1['구분'] == 'G']\n",
        "df_h = data1[data1['구분'] == 'H']\n",
        "df_e = data1[data1['구분'] == 'E']\n"
      ],
      "execution_count": null,
      "outputs": []
    },
    {
      "cell_type": "code",
      "metadata": {
        "id": "prZewPQoPGyZ"
      },
      "source": [
        "sns.lineplot(data=df_h , x = '연월일시',y = '공급량')\n",
        "plt.show()"
      ],
      "execution_count": null,
      "outputs": []
    },
    {
      "cell_type": "code",
      "metadata": {
        "id": "dmR5WrrRSx4q"
      },
      "source": [
        "sns.lineplot(data=df_e , x = '연월일시',y = '공급량')\n",
        "plt.show()"
      ],
      "execution_count": null,
      "outputs": []
    },
    {
      "cell_type": "code",
      "metadata": {
        "id": "4y_QWzQXJknq"
      },
      "source": [
        "df_h.loc[237216,'공급량'] =None\n",
        "df_h.loc[237217,'공급량'] =None\n",
        "df_h.loc[239116,'공급량']= None\n",
        "df_h.loc[303299,'공급량']= None\n",
        "df_h.loc[303300,'공급량']= None\n",
        "\n",
        "# 아니면 람다 함수\n",
        "#data1['연월일시'] = \n",
        "#df_h['공급량'].apply(lambda x : None if x.split()[1] == '24' else x)"
      ],
      "execution_count": null,
      "outputs": []
    },
    {
      "cell_type": "code",
      "metadata": {
        "id": "8Xtx2nsrKJGP"
      },
      "source": [
        "df_h.fillna(method='ffill',inplace = True)"
      ],
      "execution_count": null,
      "outputs": []
    },
    {
      "cell_type": "code",
      "metadata": {
        "id": "9i93GMeNUZJB"
      },
      "source": [
        "#sns.lineplot(data=df_h , x = '연월일시',y = '공급량')\n",
        "plt.show()"
      ],
      "execution_count": null,
      "outputs": []
    },
    {
      "cell_type": "code",
      "metadata": {
        "id": "aiWzDEbi3YLe"
      },
      "source": [
        "df_a[['ds','y']] = df_a[['연월일시','공급량']]\n",
        "df_b[['ds','y']] = df_b[['연월일시','공급량']]\n",
        "df_c[['ds','y']] = df_c[['연월일시','공급량']]\n",
        "df_d[['ds','y']] = df_d[['연월일시','공급량']]\n",
        "df_e[['ds','y']] = df_e[['연월일시','공급량']]\n",
        "df_h[['ds','y']] = df_h[['연월일시','공급량']]\n",
        "df_g[['ds','y']] = df_g[['연월일시','공급량']]"
      ],
      "execution_count": null,
      "outputs": []
    },
    {
      "cell_type": "code",
      "metadata": {
        "id": "xa7NADjoejOl"
      },
      "source": [
        "train_a = df_a[['ds','y']]\n",
        "train_b = df_b[['ds','y']]\n",
        "train_c = df_c[['ds','y']]\n",
        "train_d = df_d[['ds','y']]\n",
        "train_e = df_e[['ds','y']]\n",
        "train_h = df_h[['ds','y']]\n",
        "train_g = df_g[['ds','y']]"
      ],
      "execution_count": null,
      "outputs": []
    },
    {
      "cell_type": "code",
      "metadata": {
        "id": "gnVPi9kCfvsd"
      },
      "source": [
        ""
      ],
      "execution_count": null,
      "outputs": []
    },
    {
      "cell_type": "code",
      "metadata": {
        "id": "y2HMdOHf45h-"
      },
      "source": [
        "!pip install pystan==2.19.1.1\n",
        "!pip install prophet\n",
        "!pip install statsmodels==0.11.1\n",
        "!pip install fbprophet==0.7.1"
      ],
      "execution_count": null,
      "outputs": []
    },
    {
      "cell_type": "code",
      "metadata": {
        "id": "poLmnv63CODc"
      },
      "source": [
        "from fbprophet import Prophet\n",
        "model_a =Prophet() \n",
        "model_a.fit(train_a) \n",
        "future_A = model_a.make_future_dataframe(periods=2161, freq='H') \n",
        "forecast_A = model_a.predict(future_A)"
      ],
      "execution_count": null,
      "outputs": []
    },
    {
      "cell_type": "code",
      "metadata": {
        "id": "UK5tr-borqdH"
      },
      "source": [
        "model_b =Prophet() \n",
        "model_b.fit(train_b) \n",
        "future_b = model_b.make_future_dataframe(periods=2161, freq='H') \n",
        "forecast_b = model_a.predict(future_b)"
      ],
      "execution_count": null,
      "outputs": []
    },
    {
      "cell_type": "code",
      "metadata": {
        "id": "eZrC55ZNrrMH"
      },
      "source": [
        "model_c = Prophet() \n",
        "model_c.fit(train_c) \n",
        "future_c = model_c.make_future_dataframe(periods=2161, freq='H') \n",
        "forecast_c = model_c.predict(future_A)"
      ],
      "execution_count": null,
      "outputs": []
    },
    {
      "cell_type": "code",
      "metadata": {
        "id": "w3dOro5Frs6X"
      },
      "source": [
        "model_d =Prophet() \n",
        "model_d.fit(train_d) \n",
        "future_d = model_d.make_future_dataframe(periods=2161, freq='H') \n",
        "forecast_d = model_d.predict(future_d)"
      ],
      "execution_count": null,
      "outputs": []
    },
    {
      "cell_type": "code",
      "metadata": {
        "id": "gv4-MJvLrtgm"
      },
      "source": [
        "model_e =Prophet() \n",
        "model_e.fit(train_e) \n",
        "future_e = model_e.make_future_dataframe(periods=2161, freq='H') \n",
        "forecast_e = model_e.predict(future_A)"
      ],
      "execution_count": null,
      "outputs": []
    },
    {
      "cell_type": "code",
      "metadata": {
        "id": "PyvxPTtrrtxk"
      },
      "source": [
        "model_h =Prophet() \n",
        "model_h.fit(train_h) \n",
        "future_h = model_h.make_future_dataframe(periods=2161, freq='H') \n",
        "forecast_h = model_h.predict(future_A)"
      ],
      "execution_count": null,
      "outputs": []
    },
    {
      "cell_type": "code",
      "metadata": {
        "id": "kMjkUWIgruAR"
      },
      "source": [
        "model_g =Prophet() \n",
        "model_g.fit(train_g) \n",
        "future_g = model_g.make_future_dataframe(periods=2161, freq='H') \n",
        "forecast_g = model_g.predict(future_A)"
      ],
      "execution_count": null,
      "outputs": []
    },
    {
      "cell_type": "code",
      "metadata": {
        "id": "SibiKwkkOvVV"
      },
      "source": [
        " pred_a = forecast_A.loc[52585:,'yhat']\n",
        " pred_b = forecast_b.loc[52585:,'yhat']\n",
        " pred_c = forecast_c.loc[52585:,'yhat']\n",
        " pred_d = forecast_d.loc[52585:,'yhat']\n",
        " pred_e = forecast_e.loc[52585:,'yhat']\n",
        " pred_h = forecast_h.loc[52585:,'yhat']\n",
        " pred_g = forecast_g.loc[52585:,'yhat']"
      ],
      "execution_count": null,
      "outputs": []
    },
    {
      "cell_type": "code",
      "metadata": {
        "id": "1iBUd2lvkCoO"
      },
      "source": [
        "#testA = test[test['일자|시간|구분'].str.contains('A')]\n",
        "#testB = test[test['일자|시간|구분'].str.contains('B')]\n",
        "#testC = test[test['일자|시간|구분'].str.contains('C')]\n",
        "#testD = test[test['일자|시간|구분'].str.contains('D')]\n",
        "#testE = test[test['일자|시간|구분'].str.contains('E')]\n",
        "#testG = test[test['일자|시간|구분'].str.contains('G')]\n",
        "#testH = test[test['일자|시간|구분'].str.contains('H')]"
      ],
      "execution_count": null,
      "outputs": []
    },
    {
      "cell_type": "code",
      "metadata": {
        "id": "wv0VoTwRz-Op"
      },
      "source": [
        "#pred_a = pred_a.reset_index()\n",
        "pred_a['yhat']"
      ],
      "execution_count": null,
      "outputs": []
    },
    {
      "cell_type": "code",
      "metadata": {
        "id": "Nc8r26LXkQ6Q"
      },
      "source": [
        "pred_a"
      ],
      "execution_count": null,
      "outputs": []
    },
    {
      "cell_type": "code",
      "metadata": {
        "id": "xuyaMV8985K3"
      },
      "source": [
        "#total = \n",
        "total = pd.concat([pred_a,pred_b,pred_c,pred_d,pred_e,pred_h,pred_g])"
      ],
      "execution_count": null,
      "outputs": []
    },
    {
      "cell_type": "code",
      "metadata": {
        "id": "Iat9aO2600ej"
      },
      "source": [
        "#total.to_frame().reset_index()['yhat']"
      ],
      "execution_count": null,
      "outputs": []
    },
    {
      "cell_type": "code",
      "metadata": {
        "id": "jg3lmfYd73Q2"
      },
      "source": [
        "submission['공급량'] = total.to_frame().reset_index()['yhat']\n",
        "submission"
      ],
      "execution_count": null,
      "outputs": []
    },
    {
      "cell_type": "code",
      "metadata": {
        "id": "kfb9FRt9DYpB"
      },
      "source": [
        "submission.head(30)"
      ],
      "execution_count": null,
      "outputs": []
    },
    {
      "cell_type": "code",
      "metadata": {
        "id": "iSQ5E0N8HoIM"
      },
      "source": [
        "data['구분'] = data['구분'].astype('category')\n",
        "data['weekday'] = data['weekday'].astype('category')\n",
        "data['구분'] = data['구분'].map({'A' : '1','B' : '2','C' : '3','D' : '4','E' : '5','G' : '6','H' : '7'})"
      ],
      "execution_count": null,
      "outputs": []
    },
    {
      "cell_type": "code",
      "metadata": {
        "id": "e3EG9h5ZBeLw"
      },
      "source": [
        "submission.to_csv('/content/drive/MyDrive/TAVE 머신러닝 스터디/Gas/211105_1.csv', index = False,encoding = 'cp949')"
      ],
      "execution_count": null,
      "outputs": []
    },
    {
      "cell_type": "code",
      "metadata": {
        "id": "NWeEcpDJhHf2"
      },
      "source": [
        "total.to_frame().reset_index()"
      ],
      "execution_count": null,
      "outputs": []
    },
    {
      "cell_type": "code",
      "metadata": {
        "id": "WUUC19dkilXr"
      },
      "source": [
        "submission"
      ],
      "execution_count": null,
      "outputs": []
    }
  ]
}