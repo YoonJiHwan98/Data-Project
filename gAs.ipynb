{
  "nbformat": 4,
  "nbformat_minor": 0,
  "metadata": {
    "colab": {
      "name": "gAs.ipynb",
      "private_outputs": true,
      "provenance": [],
      "collapsed_sections": [
        "gtRQXOu0Oj3b",
        "kcl1UUTLPw6z"
      ],
      "mount_file_id": "1R5N15YwqKPCbm_3Z47mOTaCEJrgmOrTn",
      "authorship_tag": "ABX9TyNR++4mNB97uVpvVkFQg7ap",
      "include_colab_link": true
    },
    "kernelspec": {
      "name": "python3",
      "display_name": "Python 3"
    },
    "language_info": {
      "name": "python"
    },
    "accelerator": "GPU"
  },
  "cells": [
    {
      "cell_type": "markdown",
      "metadata": {
        "id": "view-in-github",
        "colab_type": "text"
      },
      "source": [
        "<a href=\"https://colab.research.google.com/github/YoonJiHwan98/dacon_code/blob/main/gAs.ipynb\" target=\"_parent\"><img src=\"https://colab.research.google.com/assets/colab-badge.svg\" alt=\"Open In Colab\"/></a>"
      ]
    },
    {
      "cell_type": "code",
      "metadata": {
        "id": "tbJWqQCB3Mnb"
      },
      "source": [
        "import pandas as pd\n",
        "import numpy as np\n",
        "import matplotlib.pyplot as plt\n",
        "import seaborn as sns\n",
        "import datetime\n",
        "\n",
        "from statsmodels.tsa.arima_model import ARIMA\n",
        "import statsmodels.api as sm\n",
        "from statsmodels.tsa.api import ExponentialSmoothing, SimpleExpSmoothing, Holt"
      ],
      "execution_count": null,
      "outputs": []
    },
    {
      "cell_type": "code",
      "metadata": {
        "id": "5sJelL2Lwv9a"
      },
      "source": [
        "!git clone https://github.com/YoonJiHwan98/TIL.git"
      ],
      "execution_count": null,
      "outputs": []
    },
    {
      "cell_type": "code",
      "metadata": {
        "id": "orT4IwJt85qq"
      },
      "source": [
        "!sudo apt-get install -y fonts-nanum\n",
        "!sudo fc-cache -fv\n",
        "!rm ~/.cache/matplotlib -rf\n",
        "\n",
        "plt.rc('font', family='NanumBarunGothic') "
      ],
      "execution_count": null,
      "outputs": []
    },
    {
      "cell_type": "code",
      "metadata": {
        "id": "GWX0g1gx3TnO"
      },
      "source": [
        "data = pd.read_csv('/content/drive/MyDrive/TAVE 머신러닝 스터디/Gas/한국가스공사_시간별 공급량_20181231.csv',encoding = 'cp949')\n",
        "test = pd.read_csv('/content/drive/MyDrive/TAVE 머신러닝 스터디/Gas/test.csv')\n",
        "submission = pd.read_csv('/content/drive/MyDrive/TAVE 머신러닝 스터디/Gas/sample_submission.csv')"
      ],
      "execution_count": null,
      "outputs": []
    },
    {
      "cell_type": "code",
      "metadata": {
        "id": "YD6e_GBrC3S_"
      },
      "source": [
        "test"
      ],
      "execution_count": null,
      "outputs": []
    },
    {
      "cell_type": "code",
      "metadata": {
        "id": "PGHZe2zQlISC"
      },
      "source": [
        "data"
      ],
      "execution_count": null,
      "outputs": []
    },
    {
      "cell_type": "code",
      "metadata": {
        "id": "c0ru0hHa30Ey"
      },
      "source": [
        "#data['연월일시'] = \n",
        "data['시간'] = data['시간'].astype(str)"
      ],
      "execution_count": null,
      "outputs": []
    },
    {
      "cell_type": "code",
      "metadata": {
        "id": "6ycnk0tw3_sI"
      },
      "source": [
        "data['시간'] = data['시간'].map({'1' : '01','2' : '02','3' : '03','4' : '04','5' : '05','6' : '06','7' : '07','8' : '08','9' : '09','10' : '10','11' : '11','12' : '12','13' : '13','14' : '14','15' : '15','16' : '16','17' : '17','18' : '18','19' : '19','20' : '20','21' : '21','22' : '22','23' : '23','24' : '00'})"
      ],
      "execution_count": null,
      "outputs": []
    },
    {
      "cell_type": "code",
      "metadata": {
        "id": "J3_RCbDyL0Xi"
      },
      "source": [
        "data['시간'] = data['시간'].astype(str)"
      ],
      "execution_count": null,
      "outputs": []
    },
    {
      "cell_type": "code",
      "metadata": {
        "id": "ClBdP8uJkBha"
      },
      "source": [
        "data['연월일시'] = data['연월일'] + '-' + data['시간']\n",
        "data"
      ],
      "execution_count": null,
      "outputs": []
    },
    {
      "cell_type": "code",
      "metadata": {
        "id": "b6s5jNsINdSx"
      },
      "source": [
        "data1 = data.copy()"
      ],
      "execution_count": null,
      "outputs": []
    },
    {
      "cell_type": "code",
      "metadata": {
        "id": "1KRCLoMnP0WE"
      },
      "source": [
        "data1['연월일'] = data1['연월일'].astype(str)\n",
        "data1['연월일시'] = data1['연월일'] + ' ' + data1['시간']"
      ],
      "execution_count": null,
      "outputs": []
    },
    {
      "cell_type": "code",
      "metadata": {
        "id": "wPOur3GzPUDl"
      },
      "source": [
        "data1['연월일시'] = data1['연월일시'].apply(lambda x : pd.to_datetime(x.split()[0]) + datetime.timedelta(days=1) if x.split()[1] == '24' else x)\n",
        "data1['연월일시'] = pd.to_datetime(data1['연월일시'])\n",
        "data1"
      ],
      "execution_count": null,
      "outputs": []
    },
    {
      "cell_type": "code",
      "metadata": {
        "id": "lh4JwzEEnkgo"
      },
      "source": [
        "data1"
      ],
      "execution_count": null,
      "outputs": []
    },
    {
      "cell_type": "code",
      "metadata": {
        "id": "DTsGO34yO4WY"
      },
      "source": [
        "df_a = data1[data1['구분'] == 'A']\n",
        "df_b = data1[data1['구분'] == 'B']\n",
        "df_c = data1[data1['구분'] == 'C']\n",
        "df_d = data1[data1['구분'] == 'D']\n",
        "df_g = data1[data1['구분'] == 'G']\n",
        "df_h = data1[data1['구분'] == 'H']\n",
        "df_e = data1[data1['구분'] == 'E']\n"
      ],
      "execution_count": null,
      "outputs": []
    },
    {
      "cell_type": "markdown",
      "metadata": {
        "id": "6zPbCnBAPLcy"
      },
      "source": [
        "## 이상치 처리"
      ]
    },
    {
      "cell_type": "code",
      "metadata": {
        "id": "4y_QWzQXJknq"
      },
      "source": [
        "#df_h.loc[237216,'공급량'] =None\n",
        "#df_h.loc[237217,'공급량'] =None\n",
        "#df_h.loc[239116,'공급량']= None\n",
        "#df_h.loc[303299,'공급량']= None\n",
        "#df_h.loc[303300,'공급량']= None\n",
        "\n",
        "# 아니면 람다 함수\n",
        "#data1['연월일시'] = \n",
        "df_c['공급량'] = df_c['공급량'].apply(lambda x : None if x < 10 else x)"
      ],
      "execution_count": null,
      "outputs": []
    },
    {
      "cell_type": "code",
      "metadata": {
        "id": "8Xtx2nsrKJGP"
      },
      "source": [
        "df_c.fillna(method='ffill',inplace = True)\n"
      ],
      "execution_count": null,
      "outputs": []
    },
    {
      "cell_type": "markdown",
      "metadata": {
        "id": "gtRQXOu0Oj3b"
      },
      "source": [
        "\n",
        "# Prophet 분석 \n",
        "\n"
      ]
    },
    {
      "cell_type": "code",
      "metadata": {
        "id": "ab7uYV3fBgHD"
      },
      "source": [
        "import tensorflow as tf\n",
        "tf.test.gpu_device_name()"
      ],
      "execution_count": null,
      "outputs": []
    },
    {
      "cell_type": "markdown",
      "metadata": {
        "id": "oL1gS8BCUbYc"
      },
      "source": [
        "https://dacon.io/codeshare/2326\n",
        "\n",
        "https://dacon.io/codeshare/2327?page&dtype&ptype"
      ]
    },
    {
      "cell_type": "code",
      "metadata": {
        "id": "JhcE5UYAM0hZ"
      },
      "source": [
        "#df['time'].apply(lambda x: pd.to_datetime(x.split()[0]) + timedelta)"
      ],
      "execution_count": null,
      "outputs": []
    },
    {
      "cell_type": "code",
      "metadata": {
        "id": "TgXuE_lmGeFf"
      },
      "source": [
        "data1['구분'].unique()"
      ],
      "execution_count": null,
      "outputs": []
    },
    {
      "cell_type": "code",
      "metadata": {
        "id": "prZewPQoPGyZ"
      },
      "source": [
        "sns.lineplot(data=df_h , x = '연월일시',y = '공급량')\n",
        "plt.show()"
      ],
      "execution_count": null,
      "outputs": []
    },
    {
      "cell_type": "code",
      "metadata": {
        "id": "dmR5WrrRSx4q"
      },
      "source": [
        "sns.lineplot(data=df_e , x = '연월일시',y = '공급량')\n",
        "plt.show()"
      ],
      "execution_count": null,
      "outputs": []
    },
    {
      "cell_type": "code",
      "metadata": {
        "id": "pjxRjSRtPZ-e"
      },
      "source": [
        "df_c['공급량'].min()"
      ],
      "execution_count": null,
      "outputs": []
    },
    {
      "cell_type": "code",
      "metadata": {
        "id": "9i93GMeNUZJB"
      },
      "source": [
        "#sns.lineplot(data=df_h , x = '연월일시',y = '공급량')\n",
        "plt.show()"
      ],
      "execution_count": null,
      "outputs": []
    },
    {
      "cell_type": "code",
      "metadata": {
        "id": "aiWzDEbi3YLe"
      },
      "source": [
        "df_a[['ds','y']] = df_a[['연월일시','공급량']]\n",
        "df_b[['ds','y']] = df_b[['연월일시','공급량']]\n",
        "df_c[['ds','y']] = df_c[['연월일시','공급량']]\n",
        "df_d[['ds','y']] = df_d[['연월일시','공급량']]\n",
        "df_e[['ds','y']] = df_e[['연월일시','공급량']]\n",
        "df_h[['ds','y']] = df_h[['연월일시','공급량']]\n",
        "df_g[['ds','y']] = df_g[['연월일시','공급량']]"
      ],
      "execution_count": null,
      "outputs": []
    },
    {
      "cell_type": "code",
      "metadata": {
        "id": "xa7NADjoejOl"
      },
      "source": [
        "train_a = df_a[['ds','y']]\n",
        "train_b = df_b[['ds','y']]\n",
        "train_c = df_c[['ds','y']]\n",
        "train_d = df_d[['ds','y']]\n",
        "train_e = df_e[['ds','y']]\n",
        "train_h = df_h[['ds','y']]\n",
        "train_g = df_g[['ds','y']]"
      ],
      "execution_count": null,
      "outputs": []
    },
    {
      "cell_type": "code",
      "metadata": {
        "id": "gnVPi9kCfvsd"
      },
      "source": [
        ""
      ],
      "execution_count": null,
      "outputs": []
    },
    {
      "cell_type": "code",
      "metadata": {
        "id": "y2HMdOHf45h-"
      },
      "source": [
        "!pip install pystan==2.19.1.1\n",
        "!pip install prophet\n",
        "!pip install statsmodels==0.11.1\n",
        "!pip install fbprophet==0.7.1"
      ],
      "execution_count": null,
      "outputs": []
    },
    {
      "cell_type": "code",
      "metadata": {
        "id": "poLmnv63CODc"
      },
      "source": [
        "from fbprophet import Prophet\n",
        "\n",
        "model_a =Prophet() \n",
        "model_a.fit(train_a) \n",
        "future_A = model_a.make_future_dataframe(periods=2161, freq='H') \n",
        "forecast_A = model_a.predict(future_A)"
      ],
      "execution_count": null,
      "outputs": []
    },
    {
      "cell_type": "code",
      "metadata": {
        "id": "UK5tr-borqdH"
      },
      "source": [
        "model_b =Prophet() \n",
        "model_b.fit(train_b) \n",
        "future_b = model_b.make_future_dataframe(periods=2161, freq='H') \n",
        "forecast_b = model_a.predict(future_b)"
      ],
      "execution_count": null,
      "outputs": []
    },
    {
      "cell_type": "code",
      "metadata": {
        "id": "eZrC55ZNrrMH"
      },
      "source": [
        "model_c = Prophet() \n",
        "model_c.fit(train_c) \n",
        "future_c = model_c.make_future_dataframe(periods=2161, freq='H') \n",
        "forecast_c = model_c.predict(future_c)"
      ],
      "execution_count": null,
      "outputs": []
    },
    {
      "cell_type": "code",
      "metadata": {
        "id": "w3dOro5Frs6X"
      },
      "source": [
        "model_d =Prophet() \n",
        "model_d.fit(train_d) \n",
        "future_d = model_d.make_future_dataframe(periods=2161, freq='H') \n",
        "forecast_d = model_d.predict(future_d)"
      ],
      "execution_count": null,
      "outputs": []
    },
    {
      "cell_type": "code",
      "metadata": {
        "id": "gv4-MJvLrtgm"
      },
      "source": [
        "model_e =Prophet() \n",
        "model_e.fit(train_e) \n",
        "future_e = model_e.make_future_dataframe(periods=2161, freq='H') \n",
        "forecast_e = model_e.predict(future_e)"
      ],
      "execution_count": null,
      "outputs": []
    },
    {
      "cell_type": "code",
      "metadata": {
        "id": "PyvxPTtrrtxk"
      },
      "source": [
        "model_h =Prophet() \n",
        "model_h.fit(train_h) \n",
        "future_h = model_h.make_future_dataframe(periods=2161, freq='H') \n",
        "forecast_h = model_h.predict(future_h)"
      ],
      "execution_count": null,
      "outputs": []
    },
    {
      "cell_type": "code",
      "metadata": {
        "id": "kMjkUWIgruAR"
      },
      "source": [
        "model_g =Prophet() \n",
        "model_g.fit(train_g) \n",
        "future_g = model_g.make_future_dataframe(periods=2161, freq='H') \n",
        "forecast_g = model_g.predict(future_g)"
      ],
      "execution_count": null,
      "outputs": []
    },
    {
      "cell_type": "code",
      "metadata": {
        "id": "SibiKwkkOvVV"
      },
      "source": [
        "pred_a = forecast_A.loc[52585:,'yhat']\n",
        "pred_b = forecast_b.loc[52585:,'yhat']\n",
        "pred_c = forecast_c.loc[52585:,'yhat']\n",
        "pred_d = forecast_d.loc[52585:,'yhat']\n",
        "pred_e = forecast_e.loc[52585:,'yhat']\n",
        "pred_h = forecast_h.loc[52585:,'yhat']\n",
        "pred_g = forecast_g.loc[52585:,'yhat']"
      ],
      "execution_count": null,
      "outputs": []
    },
    {
      "cell_type": "code",
      "metadata": {
        "id": "1iBUd2lvkCoO"
      },
      "source": [
        "#testA = test[test['일자|시간|구분'].str.contains('A')]\n",
        "#testB = test[test['일자|시간|구분'].str.contains('B')]\n",
        "#testC = test[test['일자|시간|구분'].str.contains('C')]\n",
        "#testD = test[test['일자|시간|구분'].str.contains('D')]\n",
        "#testE = test[test['일자|시간|구분'].str.contains('E')]\n",
        "#testG = test[test['일자|시간|구분'].str.contains('G')]\n",
        "#testH = test[test['일자|시간|구분'].str.contains('H')]"
      ],
      "execution_count": null,
      "outputs": []
    },
    {
      "cell_type": "code",
      "metadata": {
        "id": "wv0VoTwRz-Op"
      },
      "source": [
        "#pred_a = pred_a.reset_index()\n",
        "pred_a['yhat']"
      ],
      "execution_count": null,
      "outputs": []
    },
    {
      "cell_type": "code",
      "metadata": {
        "id": "Nc8r26LXkQ6Q"
      },
      "source": [
        "pred_a"
      ],
      "execution_count": null,
      "outputs": []
    },
    {
      "cell_type": "code",
      "metadata": {
        "id": "xuyaMV8985K3"
      },
      "source": [
        "#total = \n",
        "total = pd.concat([pred_a,pred_b,pred_c,pred_d,pred_e,pred_h,pred_g])"
      ],
      "execution_count": null,
      "outputs": []
    },
    {
      "cell_type": "code",
      "metadata": {
        "id": "Iat9aO2600ej"
      },
      "source": [
        "#total.to_frame().reset_index()['yhat']"
      ],
      "execution_count": null,
      "outputs": []
    },
    {
      "cell_type": "code",
      "metadata": {
        "id": "jg3lmfYd73Q2"
      },
      "source": [
        "submission['공급량'] = total.to_frame().reset_index()['yhat']\n",
        "submission"
      ],
      "execution_count": null,
      "outputs": []
    },
    {
      "cell_type": "markdown",
      "metadata": {
        "id": "zaGALvtgOvgu"
      },
      "source": [
        "# XGB 전처리"
      ]
    },
    {
      "cell_type": "markdown",
      "metadata": {
        "id": "AWmVOGjPV-aU"
      },
      "source": [
        "## 공휴일 추가\n"
      ]
    },
    {
      "cell_type": "code",
      "metadata": {
        "id": "SgjTu6HLWEVd"
      },
      "source": [
        "import requests\n",
        "from bs4 import BeautifulSoup\n",
        "\n",
        "year = ['2013','2014','2015','2016','2017','2018','2019']\n",
        "mykey = 'Don6mGjM44JCPM9uD%2BkYCd%2B2%2FVgt5LkThBs3hQcWfZ86%2BYGimSBbHDi9FZoQMOphty4wZmgnzlj2tAKctLqDHA%3D%3D'\n",
        "\n",
        "for month in range(1 , 13):\n",
        "    if month < 10 : \n",
        "        month = '0' + str(month)\n",
        "    else:\n",
        "        month = str(month)\n",
        "\n",
        "    url = 'http://apis.data.go.kr/B090041/openapi/service/SpcdeInfoService/getAnniversaryInfo'\n",
        "    params ={'serviceKey' : mykey , 'pageNo' : '1', 'numOfRows' : '10', 'solYear' : '2019', 'solMonth' : '02' }\n",
        "\n",
        "    response = requests.get(url, params=params)\n",
        "print(response.content)"
      ],
      "execution_count": null,
      "outputs": []
    },
    {
      "cell_type": "code",
      "metadata": {
        "id": "A0Bv9To35R4w"
      },
      "source": [
        "!pip install optuna"
      ],
      "execution_count": null,
      "outputs": []
    },
    {
      "cell_type": "code",
      "metadata": {
        "id": "7RpzrGn8CBYV"
      },
      "source": [
        "data2 = data.copy()"
      ],
      "execution_count": null,
      "outputs": []
    },
    {
      "cell_type": "code",
      "metadata": {
        "id": "8DqvBlt8WsYi"
      },
      "source": [
        "#pred_df.groupby('DateTime')['yhat'].mean().reset_index(name = 'pred').head()\n",
        "data2['연월일'] = data2['연월일'].apply(lambda x : datetime.datetime.strptime(x,'%Y-%m-%d'))"
      ],
      "execution_count": null,
      "outputs": []
    },
    {
      "cell_type": "code",
      "metadata": {
        "id": "bK6CSKBZGOnA"
      },
      "source": [
        "data2['year'] = data2['연월일'].dt.year\n",
        "data2['month'] = data2['연월일'].dt.month\n",
        "data2['day'] = data2['연월일'].dt.day\n",
        "data2['weekday'] = data2['연월일'].dt.weekday"
      ],
      "execution_count": null,
      "outputs": []
    },
    {
      "cell_type": "code",
      "metadata": {
        "id": "kfb9FRt9DYpB"
      },
      "source": [
        "day = ['월요일','화요일','수요일','목요일','금요일','토요일','일요일']\n"
      ],
      "execution_count": null,
      "outputs": []
    },
    {
      "cell_type": "code",
      "metadata": {
        "id": "iSQ5E0N8HoIM"
      },
      "source": [
        "data2['구분'] = data2['구분'].astype('category')\n",
        "data2['weekday'] = data2['weekday'].astype('category')\n",
        "data2['구분'] = data2['구분'].map({'A' : '1','B' : '2','C' : '3','D' : '4','E' : '5','G' : '6','H' : '7'})"
      ],
      "execution_count": null,
      "outputs": []
    },
    {
      "cell_type": "code",
      "metadata": {
        "id": "WqDMaqsPTaen"
      },
      "source": [
        "data2"
      ],
      "execution_count": null,
      "outputs": []
    },
    {
      "cell_type": "markdown",
      "metadata": {
        "id": "kcl1UUTLPw6z"
      },
      "source": [
        "# 정확도 측정 / submission 제출 "
      ]
    },
    {
      "cell_type": "code",
      "metadata": {
        "id": "e3EG9h5ZBeLw"
      },
      "source": [
        "submission.to_csv('/content/drive/MyDrive/TAVE 머신러닝 스터디/Gas/211105_1.csv', index = False,encoding = 'cp949')"
      ],
      "execution_count": null,
      "outputs": []
    },
    {
      "cell_type": "code",
      "metadata": {
        "id": "NWeEcpDJhHf2"
      },
      "source": [
        "total.to_frame().reset_index()['yhat']"
      ],
      "execution_count": null,
      "outputs": []
    },
    {
      "cell_type": "code",
      "metadata": {
        "id": "WUUC19dkilXr"
      },
      "source": [
        "submission.head(10)"
      ],
      "execution_count": null,
      "outputs": []
    },
    {
      "cell_type": "code",
      "metadata": {
        "id": "iXvpRtJgl6MP"
      },
      "source": [
        "test['공급량'] = total.to_frame().reset_index()['yhat']"
      ],
      "execution_count": null,
      "outputs": []
    },
    {
      "cell_type": "code",
      "metadata": {
        "id": "g-emnM5Nn5w9"
      },
      "source": [
        "test.to_csv('/content/drive/MyDrive/TAVE 머신러닝 스터디/Gas/211105_2.csv', index = False,encoding = 'cp949')"
      ],
      "execution_count": null,
      "outputs": []
    },
    {
      "cell_type": "code",
      "metadata": {
        "id": "Tl0b-gaToCSz"
      },
      "source": [
        "df_h['공급량'].rolling(window=5).mean()"
      ],
      "execution_count": null,
      "outputs": []
    },
    {
      "cell_type": "code",
      "metadata": {
        "id": "8v5miCgZr_yp"
      },
      "source": [
        "df_h[df_h['공급량'] > 2000]"
      ],
      "execution_count": null,
      "outputs": []
    },
    {
      "cell_type": "code",
      "metadata": {
        "id": "aLMCo-4ePoPu"
      },
      "source": [
        ""
      ],
      "execution_count": null,
      "outputs": []
    },
    {
      "cell_type": "code",
      "metadata": {
        "id": "juHgGhVOtfJx"
      },
      "source": [
        "def nmae(true_df, pred_df):\n",
        "    target_idx = true_df.iloc[:,0]\n",
        "    pred_df = pred_df[pred_df.iloc[:,0].isin(target_idx)]\n",
        "    pred_df = pred_df.sort_values(by=[pred_df.columns[0]], ascending=[True])\n",
        "    true_df = true_df.sort_values(by=[true_df.columns[0]], ascending=[True])\n",
        "    true = true_df.iloc[:,1].to_numpy()\n",
        "    pred = pred_df.iloc[:,1].to_numpy()\n",
        "    \n",
        "    score = np.mean((np.abs(true-pred))/true)\n",
        "    \n",
        "    return score"
      ],
      "execution_count": null,
      "outputs": []
    },
    {
      "cell_type": "code",
      "metadata": {
        "id": "MgREAk9FEGI2"
      },
      "source": [
        " #predict_c = \n",
        " predict_c = forecast_c.loc[:52583,'yhat'].to_frame().reset_index()\n",
        " true_c = train_c['y'].to_frame().reset_index().drop(columns = 'index').reset_index()\n",
        " nmae(true_c,predict_c)"
      ],
      "execution_count": null,
      "outputs": []
    },
    {
      "cell_type": "code",
      "metadata": {
        "id": "ZWvWmG72Gg7L"
      },
      "source": [
        " predict_a = forecast_A.loc[:52583,'yhat'].to_frame().reset_index()\n",
        " true_a = train_a['y'].to_frame().reset_index().drop(columns = 'index').reset_index()\n",
        " nmae(true_a,predict_a)"
      ],
      "execution_count": null,
      "outputs": []
    },
    {
      "cell_type": "code",
      "metadata": {
        "id": "FuP5U3MgHAxw"
      },
      "source": [
        "nmae(true_c,predict_c)"
      ],
      "execution_count": null,
      "outputs": []
    },
    {
      "cell_type": "code",
      "metadata": {
        "id": "g_X1VspDJhWX"
      },
      "source": [
        "data1"
      ],
      "execution_count": null,
      "outputs": []
    },
    {
      "cell_type": "code",
      "metadata": {
        "id": "6NhQCMzjNav0"
      },
      "source": [
        ""
      ],
      "execution_count": null,
      "outputs": []
    }
  ]
}