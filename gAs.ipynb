{
  "nbformat": 4,
  "nbformat_minor": 0,
  "metadata": {
    "colab": {
      "name": "gAs.ipynb",
      "private_outputs": true,
      "provenance": [],
      "collapsed_sections": [
        "gtRQXOu0Oj3b"
      ],
      "mount_file_id": "1R5N15YwqKPCbm_3Z47mOTaCEJrgmOrTn",
      "authorship_tag": "ABX9TyMytplAwxblW+T6ZMUCZOsd",
      "include_colab_link": true
    },
    "kernelspec": {
      "name": "python3",
      "display_name": "Python 3"
    },
    "language_info": {
      "name": "python"
    },
    "accelerator": "GPU"
  },
  "cells": [
    {
      "cell_type": "markdown",
      "metadata": {
        "id": "view-in-github",
        "colab_type": "text"
      },
      "source": [
        "<a href=\"https://colab.research.google.com/github/YoonJiHwan98/dacon_code/blob/main/gAs.ipynb\" target=\"_parent\"><img src=\"https://colab.research.google.com/assets/colab-badge.svg\" alt=\"Open In Colab\"/></a>"
      ]
    },
    {
      "cell_type": "code",
      "metadata": {
        "id": "tbJWqQCB3Mnb"
      },
      "source": [
        "import pandas as pd\n",
        "import numpy as np\n",
        "import matplotlib.pyplot as plt\n",
        "import seaborn as sns\n",
        "import datetime\n",
        "\n",
        "from statsmodels.tsa.arima_model import ARIMA\n",
        "import statsmodels.api as sm\n",
        "from statsmodels.tsa.api import ExponentialSmoothing, SimpleExpSmoothing, Holt"
      ],
      "execution_count": null,
      "outputs": []
    },
    {
      "cell_type": "code",
      "metadata": {
        "id": "5sJelL2Lwv9a"
      },
      "source": [
        "!git clone https://github.com/YoonJiHwan98/TIL.git"
      ],
      "execution_count": null,
      "outputs": []
    },
    {
      "cell_type": "code",
      "metadata": {
        "id": "orT4IwJt85qq"
      },
      "source": [
        "!sudo apt-get install -y fonts-nanum\n",
        "!sudo fc-cache -fv\n",
        "!rm ~/.cache/matplotlib -rf\n",
        "\n",
        "plt.rc('font', family='NanumBarunGothic') "
      ],
      "execution_count": null,
      "outputs": []
    },
    {
      "cell_type": "code",
      "metadata": {
        "id": "GWX0g1gx3TnO"
      },
      "source": [
        "data = pd.read_csv('/content/drive/MyDrive/TAVE 머신러닝 스터디/Gas/한국가스공사_시간별 공급량_20181231.csv',encoding = 'cp949')\n",
        "test = pd.read_csv('/content/drive/MyDrive/TAVE 머신러닝 스터디/Gas/test.csv')\n",
        "submission = pd.read_csv('/content/drive/MyDrive/TAVE 머신러닝 스터디/Gas/sample_submission.csv')"
      ],
      "execution_count": null,
      "outputs": []
    },
    {
      "cell_type": "code",
      "metadata": {
        "id": "b6s5jNsINdSx"
      },
      "source": [
        "data1 = data.copy()\n"
      ],
      "execution_count": null,
      "outputs": []
    },
    {
      "cell_type": "code",
      "metadata": {
        "id": "uuIRUIWKsacH"
      },
      "source": [
        ""
      ],
      "execution_count": null,
      "outputs": []
    },
    {
      "cell_type": "markdown",
      "metadata": {
        "id": "ho1IUyrYpV-y"
      },
      "source": [
        "# 데이터 전처리"
      ]
    },
    {
      "cell_type": "markdown",
      "metadata": {
        "id": "AWmVOGjPV-aU"
      },
      "source": [
        "## 공휴일 추가\n"
      ]
    },
    {
      "cell_type": "code",
      "metadata": {
        "id": "lh4JwzEEnkgo"
      },
      "source": [
        ""
      ],
      "execution_count": null,
      "outputs": []
    },
    {
      "cell_type": "code",
      "metadata": {
        "id": "wZYlLYUgUvZP"
      },
      "source": [
        "data1['연월일'] = pd.to_datetime(data1['연월일'])"
      ],
      "execution_count": null,
      "outputs": []
    },
    {
      "cell_type": "code",
      "metadata": {
        "id": "bK6CSKBZGOnA"
      },
      "source": [
        "data1['year'] = data1['연월일'].dt.year\n",
        "data1['month'] = data1['연월일'].dt.month\n",
        "data1['day'] = data1['연월일'].dt.day\n",
        "data1['weekday'] = data1['연월일'].dt.weekday"
      ],
      "execution_count": null,
      "outputs": []
    },
    {
      "cell_type": "code",
      "metadata": {
        "id": "SgjTu6HLWEVd"
      },
      "source": [
        "# %%\n",
        "# 휴일 목록 \n",
        "hol = '''\n",
        "20130101\n",
        "20130211\n",
        "20130301\n",
        "20130517\n",
        "20130606\n",
        "20130815\n",
        "20130918\n",
        "20130919\n",
        "20130920\n",
        "20131003\n",
        "20131009\n",
        "20131225\n",
        "20140101\n",
        "20140130\n",
        "20140131\n",
        "20140505\n",
        "20140506\n",
        "20140604\n",
        "20140606\n",
        "20140815\n",
        "20140908\n",
        "20140909\n",
        "20140910\n",
        "20141003\n",
        "20141009\n",
        "20141225\n",
        "20150101\n",
        "20150218\n",
        "20150219\n",
        "20150220\n",
        "20150505\n",
        "20150525\n",
        "20150814\n",
        "20150928\n",
        "20150929\n",
        "20151009\n",
        "20151225\n",
        "20160101\n",
        "20160208\n",
        "20160209\n",
        "20160210\n",
        "20160301\n",
        "20160413\n",
        "20160505\n",
        "20160506\n",
        "20160606\n",
        "20160815\n",
        "20160914\n",
        "20160915\n",
        "20160916\n",
        "20161003\n",
        "20170127\n",
        "20170130\n",
        "20170301\n",
        "20170503\n",
        "20170505\n",
        "20170509\n",
        "20170606\n",
        "20170815\n",
        "20171002\n",
        "20171003\n",
        "20171004\n",
        "20171005\n",
        "20171006\n",
        "20171009\n",
        "20171225\n",
        "20180101\n",
        "20180215\n",
        "20180216\n",
        "20180301\n",
        "20180507\n",
        "20180522\n",
        "20180606\n",
        "20180613\n",
        "20180815\n",
        "20180924\n",
        "20180925\n",
        "20180926\n",
        "20181003\n",
        "20181009\n",
        "20181225\n",
        "20190101\n",
        "20190204\n",
        "20190205\n",
        "20190206\n",
        "20190301\n",
        "'''\n",
        "hol\n",
        "#%%\n",
        "holiday = hol.split('\\n')\n",
        "holiday.pop(0)\n",
        "holiday.pop(-1)\n",
        "for i in range(len(holiday)) :\n",
        "  holiday[i] = holiday[i][0:4] + '-' + holiday[i][4:6] + '-' + holiday[i][6:8]\n",
        "\n",
        "holiday\n",
        "# %%\n",
        "data1[data1['연월일'].isin(holiday)]\n",
        "data1['휴일'] = 0\n",
        "data1.loc[data1['연월일'].isin(holiday), '휴일'] = 1\n",
        "data1.loc[(data1['weekday']==5) | (data1['weekday']==6),'휴일'] = 1"
      ],
      "execution_count": null,
      "outputs": []
    },
    {
      "cell_type": "code",
      "metadata": {
        "id": "FsG8dzMDOhpP"
      },
      "source": [
        "data1"
      ],
      "execution_count": null,
      "outputs": []
    },
    {
      "cell_type": "code",
      "metadata": {
        "id": "iSQ5E0N8HoIM"
      },
      "source": [
        "data1['구분'] = data1['구분'].astype('category')\n",
        "data1['구분'] = data1['구분'].map({'A' : '1','B' : '2','C' : '3','D' : '4','E' : '5','G' : '6','H' : '7'})\n",
        "data1['weekday'] = data1['weekday'].astype('category')\n",
        "data1['휴일'] = data1['휴일'].astype('category')\n"
      ],
      "execution_count": null,
      "outputs": []
    },
    {
      "cell_type": "code",
      "metadata": {
        "id": "pRrUsDE4zeRx"
      },
      "source": [
        "data1"
      ],
      "execution_count": null,
      "outputs": []
    },
    {
      "cell_type": "markdown",
      "metadata": {
        "id": "6zPbCnBAPLcy"
      },
      "source": [
        "## 이상치 처리"
      ]
    },
    {
      "cell_type": "code",
      "metadata": {
        "id": "4y_QWzQXJknq"
      },
      "source": [
        " data1['공급량'] = data1['공급량'].apply(lambda x : None if x < 10 else x) # 10 보다 작은 이상치들은 Nan 처리"
      ],
      "execution_count": null,
      "outputs": []
    },
    {
      "cell_type": "code",
      "metadata": {
        "id": "8Xtx2nsrKJGP"
      },
      "source": [
        "# 그 전 값으로 채우는 방식과 그냥 삭제하는 방식\n",
        "df_fill = data1.fillna(method='ffill')\n",
        "df_drop = data1.dropna()"
      ],
      "execution_count": null,
      "outputs": []
    },
    {
      "cell_type": "code",
      "metadata": {
        "id": "7RpzrGn8CBYV"
      },
      "source": [
        "df_drop"
      ],
      "execution_count": null,
      "outputs": []
    },
    {
      "cell_type": "code",
      "metadata": {
        "id": "8DqvBlt8WsYi"
      },
      "source": [
        "#pred_df.groupby('DateTime')['yhat'].mean().reset_index(name = 'pred').head()\n"
      ],
      "execution_count": null,
      "outputs": []
    },
    {
      "cell_type": "code",
      "metadata": {
        "id": "A0Bv9To35R4w"
      },
      "source": [
        "!pip install optuna"
      ],
      "execution_count": null,
      "outputs": []
    },
    {
      "cell_type": "code",
      "metadata": {
        "id": "QefJdLg0pFmT"
      },
      "source": [
        "from sklearn.preprocessing import LabelEncoder , OneHotEncoder"
      ],
      "execution_count": null,
      "outputs": []
    },
    {
      "cell_type": "code",
      "metadata": {
        "id": "p2ImBNN43PzZ"
      },
      "source": [
        "X = df_drop[['시간','구분','year','month','day','weekday','휴일']]\n",
        "y = df_drop['공급량']"
      ],
      "execution_count": null,
      "outputs": []
    },
    {
      "cell_type": "code",
      "metadata": {
        "id": "RTP0sGM_mTib"
      },
      "source": [
        "X"
      ],
      "execution_count": null,
      "outputs": []
    },
    {
      "cell_type": "code",
      "metadata": {
        "id": "KC3_XIkG5w0B"
      },
      "source": [
        "one_hot_cols = X[['weekday','구분','휴일']].columns.tolist()\n",
        "X_enc = pd.get_dummies(X, columns=one_hot_cols,drop_first=True)\n",
        "X_enc"
      ],
      "execution_count": null,
      "outputs": []
    },
    {
      "cell_type": "code",
      "metadata": {
        "id": "OOBcB3gGvUVe"
      },
      "source": [
        ""
      ],
      "execution_count": null,
      "outputs": []
    },
    {
      "cell_type": "code",
      "metadata": {
        "id": "dPH9SeK74L2k"
      },
      "source": [
        "from sklearn.model_selection import train_test_split\n",
        "\n",
        "X_train, X_test, y_train, y_test = train_test_split(X_enc, y, test_size=0.2, shuffle=True, random_state=2021)"
      ],
      "execution_count": null,
      "outputs": []
    },
    {
      "cell_type": "code",
      "metadata": {
        "id": "hTl7Pz8f5F1c"
      },
      "source": [
        "X.info()"
      ],
      "execution_count": null,
      "outputs": []
    },
    {
      "cell_type": "markdown",
      "metadata": {
        "id": "olAlGTTA2PKp"
      },
      "source": [
        "# XGBOOST\n"
      ]
    },
    {
      "cell_type": "code",
      "metadata": {
        "id": "87Ro1Dtx3LLs"
      },
      "source": [
        "import xgboost as xgb\n",
        "from xgboost import plot_importance, plot_tree\n",
        "from xgboost import XGBRegressor"
      ],
      "execution_count": null,
      "outputs": []
    },
    {
      "cell_type": "code",
      "metadata": {
        "id": "37i4foN93CPy"
      },
      "source": [
        "model_xgb = xgb.XGBRegressor(n_estimators=1000, tree_method='gpu_hist')\n",
        "model_xgb.fit(X_train, y_train, eval_set=[(X_test, y_test)], early_stopping_rounds=50,verbose=False)\n"
      ],
      "execution_count": null,
      "outputs": []
    },
    {
      "cell_type": "code",
      "metadata": {
        "id": "vst_qScWm2j8"
      },
      "source": [
        "base_pred = model_xgb.predict(X_test)\n",
        "base_pred"
      ],
      "execution_count": null,
      "outputs": []
    },
    {
      "cell_type": "code",
      "metadata": {
        "id": "TExQMkK9odZ7"
      },
      "source": [
        "MAPE(y_test, base_pred)"
      ],
      "execution_count": null,
      "outputs": []
    },
    {
      "cell_type": "code",
      "metadata": {
        "id": "xhwqABH9aPhC"
      },
      "source": [
        "hyperparam = {'lambda': 0.2116482513616873, 'alpha': 0.2545592065777445, 'colsample_bytree': 0.9, 'subsample': 0.7, 'learning_rate': 0.018, 'max_depth': 20, 'random_state': 24, 'min_child_weight': 36}\n",
        "\n",
        "model_xgb_tued = xgb.XGBRegressor(max_depth = 20 ,learning_rate=0.018, n_estimators=1000, colsample_bytree = 0.9,random_state = 24 , min_child_weight = 36, sub_sample = 0.7 , tree_method='gpu_hist')\n",
        "\n",
        "model_xgb_tued.fit(X_train, y_train, eval_set=[(X_test, y_test)], early_stopping_rounds=50,verbose=False)\n",
        "\n"
      ],
      "execution_count": null,
      "outputs": []
    },
    {
      "cell_type": "code",
      "metadata": {
        "id": "CjkeG0N8fpCg"
      },
      "source": [
        "base_tuned = model_xgb_tued.predict(X_test)\n",
        "base_tuned"
      ],
      "execution_count": null,
      "outputs": []
    },
    {
      "cell_type": "code",
      "metadata": {
        "id": "LTQjho3Lg4LN"
      },
      "source": [
        "MAPE(y_test,base_tuned)"
      ],
      "execution_count": null,
      "outputs": []
    },
    {
      "cell_type": "code",
      "metadata": {
        "id": "ZEQg6S8OhZul"
      },
      "source": [
        "model_xgb_tued(test)"
      ],
      "execution_count": null,
      "outputs": []
    },
    {
      "cell_type": "markdown",
      "metadata": {
        "id": "_4KND24jhUcp"
      },
      "source": [
        "## CV"
      ]
    },
    {
      "cell_type": "code",
      "metadata": {
        "id": "-oEJGcGBhXpN"
      },
      "source": [
        ""
      ],
      "execution_count": null,
      "outputs": []
    },
    {
      "cell_type": "markdown",
      "metadata": {
        "id": "uSlgAPeQ96an"
      },
      "source": [
        "## 파라미터 튜닝\n"
      ]
    },
    {
      "cell_type": "code",
      "metadata": {
        "id": "kldh3pgQhgRu"
      },
      "source": [
        "!pip install optuna"
      ],
      "execution_count": null,
      "outputs": []
    },
    {
      "cell_type": "code",
      "metadata": {
        "id": "ZF4Kon_s-_I5"
      },
      "source": [
        "import optuna\n",
        "from optuna.visualization import plot_contour\n",
        "from optuna.visualization import plot_edf\n",
        "from optuna.visualization import plot_intermediate_values\n",
        "from optuna.visualization import plot_optimization_history\n",
        "from optuna.visualization import plot_parallel_coordinate\n",
        "from optuna.visualization import plot_param_importances\n",
        "from optuna.visualization import plot_slice"
      ],
      "execution_count": null,
      "outputs": []
    },
    {
      "cell_type": "code",
      "metadata": {
        "id": "QGKHg7sbmtj_"
      },
      "source": [
        "def objective(trial,data=X_enc,target=y):\n",
        "    \n",
        "    train_x, test_x, train_y, test_y = train_test_split(data, target, test_size=0.15,random_state=42)\n",
        "    param = {\n",
        "        'tree_method':'gpu_hist',  # this parameter means using the GPU when training our model to speedup the training process\n",
        "        'lambda': trial.suggest_loguniform('lambda', 1e-3, 10.0),\n",
        "        'alpha': trial.suggest_loguniform('alpha', 1e-3, 10.0),\n",
        "        'colsample_bytree': trial.suggest_categorical('colsample_bytree', [0.3,0.4,0.5,0.6,0.7,0.8,0.9, 1.0]),\n",
        "        'subsample': trial.suggest_categorical('subsample', [0.4,0.5,0.6,0.7,0.8,1.0]),\n",
        "        'learning_rate': trial.suggest_categorical('learning_rate', [0.008,0.009,0.01,0.012,0.014,0.016,0.018, 0.02]),\n",
        "        'n_estimators': 100,\n",
        "        'max_depth': trial.suggest_categorical('max_depth', [5,7,9,11,13,15,17,20]),\n",
        "        'random_state': trial.suggest_categorical('random_state', [24, 48,2020]),\n",
        "        'min_child_weight': trial.suggest_int('min_child_weight', 1, 300),\n",
        "    }\n",
        "    model = xgb.XGBRegressor(**param)  \n",
        "    \n",
        "    model.fit(train_x,train_y,eval_set=[(test_x,test_y)],early_stopping_rounds=100,verbose=False)\n",
        "    \n",
        "    preds = model.predict(test_x)\n",
        "    \n",
        "    rmse = MAPE(test_y, preds)\n",
        "    \n",
        "    return rmse"
      ],
      "execution_count": null,
      "outputs": []
    },
    {
      "cell_type": "code",
      "metadata": {
        "id": "kfWbm7QfuBWh"
      },
      "source": [
        "study = optuna.create_study(direction='minimize')\n",
        "study.optimize(objective, n_trials=50)\n",
        "print('Number of finished trials:', len(study.trials))\n",
        "print('Best trial:', study.best_trial.params)"
      ],
      "execution_count": null,
      "outputs": []
    },
    {
      "cell_type": "code",
      "metadata": {
        "id": "Wh9YpVOP7FR3"
      },
      "source": [
        "hyperparam = {'lambda': 0.2116482513616873, 'alpha': 0.2545592065777445, 'colsample_bytree': 0.9, 'subsample': 0.7, 'learning_rate': 0.018, 'max_depth': 20, 'random_state': 24, 'min_child_weight': 36}"
      ],
      "execution_count": null,
      "outputs": []
    },
    {
      "cell_type": "markdown",
      "metadata": {
        "id": "gtRQXOu0Oj3b"
      },
      "source": [
        "\n",
        "# Prophet\n",
        "\n"
      ]
    },
    {
      "cell_type": "code",
      "metadata": {
        "id": "ab7uYV3fBgHD"
      },
      "source": [
        "import tensorflow as tf\n",
        "tf.test.gpu_device_name()"
      ],
      "execution_count": null,
      "outputs": []
    },
    {
      "cell_type": "markdown",
      "metadata": {
        "id": "oL1gS8BCUbYc"
      },
      "source": [
        "https://dacon.io/codeshare/2326\n",
        "\n",
        "https://dacon.io/codeshare/2327?page&dtype&ptype"
      ]
    },
    {
      "cell_type": "code",
      "metadata": {
        "id": "c0ru0hHa30Ey"
      },
      "source": [
        "#data['연월일시'] = \n",
        "data['시간'] = data['시간'].astype(str)"
      ],
      "execution_count": null,
      "outputs": []
    },
    {
      "cell_type": "code",
      "metadata": {
        "id": "6ycnk0tw3_sI"
      },
      "source": [
        "data['시간'] = data['시간'].map({'1' : '01','2' : '02','3' : '03','4' : '04','5' : '05','6' : '06','7' : '07','8' : '08','9' : '09','10' : '10','11' : '11','12' : '12','13' : '13','14' : '14','15' : '15','16' : '16','17' : '17','18' : '18','19' : '19','20' : '20','21' : '21','22' : '22','23' : '23','24' : '00'})"
      ],
      "execution_count": null,
      "outputs": []
    },
    {
      "cell_type": "code",
      "metadata": {
        "id": "J3_RCbDyL0Xi"
      },
      "source": [
        "data['시간'] = data['시간'].astype(str)"
      ],
      "execution_count": null,
      "outputs": []
    },
    {
      "cell_type": "code",
      "metadata": {
        "id": "ClBdP8uJkBha"
      },
      "source": [
        "#data['연월일시'] = data['연월일'] + '-' + data['시간']\n",
        "data"
      ],
      "execution_count": null,
      "outputs": []
    },
    {
      "cell_type": "code",
      "metadata": {
        "id": "1KRCLoMnP0WE"
      },
      "source": [
        "data1['연월일'] = data1['연월일'].astype(str)\n",
        "#data1['연월일시'] = data1['연월일'] + ' ' + data1['시간']"
      ],
      "execution_count": null,
      "outputs": []
    },
    {
      "cell_type": "code",
      "metadata": {
        "id": "wPOur3GzPUDl"
      },
      "source": [
        "#data1['연월일시'] = data1['연월일시'].apply(lambda x : pd.to_datetime(x.split()[0]) + datetime.timedelta(days=1) if x.split()[1] == '24' else x)\n",
        "#data1['연월일시'] = pd.to_datetime(data1['연월일시'])\n",
        "data1"
      ],
      "execution_count": null,
      "outputs": []
    },
    {
      "cell_type": "code",
      "metadata": {
        "id": "DTsGO34yO4WY"
      },
      "source": [
        "df_a = data1[data1['구분'] == 'A']\n",
        "df_b = data1[data1['구분'] == 'B']\n",
        "df_c = data1[data1['구분'] == 'C']\n",
        "df_d = data1[data1['구분'] == 'D']\n",
        "df_g = data1[data1['구분'] == 'G']\n",
        "df_h = data1[data1['구분'] == 'H']\n",
        "df_e = data1[data1['구분'] == 'E']\n"
      ],
      "execution_count": null,
      "outputs": []
    },
    {
      "cell_type": "code",
      "metadata": {
        "id": "JhcE5UYAM0hZ"
      },
      "source": [
        "#df['time'].apply(lambda x: pd.to_datetime(x.split()[0]) + timedelta)"
      ],
      "execution_count": null,
      "outputs": []
    },
    {
      "cell_type": "code",
      "metadata": {
        "id": "TgXuE_lmGeFf"
      },
      "source": [
        "data1['구분'].unique()"
      ],
      "execution_count": null,
      "outputs": []
    },
    {
      "cell_type": "code",
      "metadata": {
        "id": "prZewPQoPGyZ"
      },
      "source": [
        "sns.lineplot(data=df_h , x = '연월일시',y = '공급량')\n",
        "plt.show()"
      ],
      "execution_count": null,
      "outputs": []
    },
    {
      "cell_type": "code",
      "metadata": {
        "id": "dmR5WrrRSx4q"
      },
      "source": [
        "sns.lineplot(data=df_e , x = '연월일시',y = '공급량')\n",
        "plt.show()"
      ],
      "execution_count": null,
      "outputs": []
    },
    {
      "cell_type": "code",
      "metadata": {
        "id": "pjxRjSRtPZ-e"
      },
      "source": [
        "df_c['공급량'].min()"
      ],
      "execution_count": null,
      "outputs": []
    },
    {
      "cell_type": "code",
      "metadata": {
        "id": "9i93GMeNUZJB"
      },
      "source": [
        "#sns.lineplot(data=df_h , x = '연월일시',y = '공급량')\n",
        "plt.show()"
      ],
      "execution_count": null,
      "outputs": []
    },
    {
      "cell_type": "code",
      "metadata": {
        "id": "aiWzDEbi3YLe"
      },
      "source": [
        "df_a[['ds','y']] = df_a[['연월일시','공급량']]\n",
        "df_b[['ds','y']] = df_b[['연월일시','공급량']]\n",
        "df_c[['ds','y']] = df_c[['연월일시','공급량']]\n",
        "df_d[['ds','y']] = df_d[['연월일시','공급량']]\n",
        "df_e[['ds','y']] = df_e[['연월일시','공급량']]\n",
        "df_h[['ds','y']] = df_h[['연월일시','공급량']]\n",
        "df_g[['ds','y']] = df_g[['연월일시','공급량']]"
      ],
      "execution_count": null,
      "outputs": []
    },
    {
      "cell_type": "code",
      "metadata": {
        "id": "xa7NADjoejOl"
      },
      "source": [
        "train_a = df_a[['ds','y']]\n",
        "train_b = df_b[['ds','y']]\n",
        "train_c = df_c[['ds','y']]\n",
        "train_d = df_d[['ds','y']]\n",
        "train_e = df_e[['ds','y']]\n",
        "train_h = df_h[['ds','y']]\n",
        "train_g = df_g[['ds','y']]"
      ],
      "execution_count": null,
      "outputs": []
    },
    {
      "cell_type": "code",
      "metadata": {
        "id": "gnVPi9kCfvsd"
      },
      "source": [
        ""
      ],
      "execution_count": null,
      "outputs": []
    },
    {
      "cell_type": "code",
      "metadata": {
        "id": "y2HMdOHf45h-"
      },
      "source": [
        "!pip install pystan==2.19.1.1\n",
        "!pip install prophet\n",
        "!pip install statsmodels==0.11.1\n",
        "!pip install fbprophet==0.7.1"
      ],
      "execution_count": null,
      "outputs": []
    },
    {
      "cell_type": "code",
      "metadata": {
        "id": "poLmnv63CODc"
      },
      "source": [
        "from fbprophet import Prophet\n",
        "\n",
        "model_a =Prophet() \n",
        "model_a.fit(train_a) \n",
        "future_A = model_a.make_future_dataframe(periods=2161, freq='H') \n",
        "forecast_A = model_a.predict(future_A)"
      ],
      "execution_count": null,
      "outputs": []
    },
    {
      "cell_type": "code",
      "metadata": {
        "id": "UK5tr-borqdH"
      },
      "source": [
        "model_b =Prophet() \n",
        "model_b.fit(train_b) \n",
        "future_b = model_b.make_future_dataframe(periods=2161, freq='H') \n",
        "forecast_b = model_a.predict(future_b)"
      ],
      "execution_count": null,
      "outputs": []
    },
    {
      "cell_type": "code",
      "metadata": {
        "id": "eZrC55ZNrrMH"
      },
      "source": [
        "model_c = Prophet() \n",
        "model_c.fit(train_c) \n",
        "future_c = model_c.make_future_dataframe(periods=2161, freq='H') \n",
        "forecast_c = model_c.predict(future_c)"
      ],
      "execution_count": null,
      "outputs": []
    },
    {
      "cell_type": "code",
      "metadata": {
        "id": "w3dOro5Frs6X"
      },
      "source": [
        "model_d =Prophet() \n",
        "model_d.fit(train_d) \n",
        "future_d = model_d.make_future_dataframe(periods=2161, freq='H') \n",
        "forecast_d = model_d.predict(future_d)"
      ],
      "execution_count": null,
      "outputs": []
    },
    {
      "cell_type": "code",
      "metadata": {
        "id": "gv4-MJvLrtgm"
      },
      "source": [
        "model_e =Prophet() \n",
        "model_e.fit(train_e) \n",
        "future_e = model_e.make_future_dataframe(periods=2161, freq='H') \n",
        "forecast_e = model_e.predict(future_e)"
      ],
      "execution_count": null,
      "outputs": []
    },
    {
      "cell_type": "code",
      "metadata": {
        "id": "PyvxPTtrrtxk"
      },
      "source": [
        "model_h =Prophet() \n",
        "model_h.fit(train_h) \n",
        "future_h = model_h.make_future_dataframe(periods=2161, freq='H') \n",
        "forecast_h = model_h.predict(future_h)"
      ],
      "execution_count": null,
      "outputs": []
    },
    {
      "cell_type": "code",
      "metadata": {
        "id": "kMjkUWIgruAR"
      },
      "source": [
        "model_g =Prophet() \n",
        "model_g.fit(train_g) \n",
        "future_g = model_g.make_future_dataframe(periods=2161, freq='H') \n",
        "forecast_g = model_g.predict(future_g)"
      ],
      "execution_count": null,
      "outputs": []
    },
    {
      "cell_type": "code",
      "metadata": {
        "id": "SibiKwkkOvVV"
      },
      "source": [
        "pred_a = forecast_A.loc[52585:,'yhat']\n",
        "pred_b = forecast_b.loc[52585:,'yhat']\n",
        "pred_c = forecast_c.loc[52585:,'yhat']\n",
        "pred_d = forecast_d.loc[52585:,'yhat']\n",
        "pred_e = forecast_e.loc[52585:,'yhat']\n",
        "pred_h = forecast_h.loc[52585:,'yhat']\n",
        "pred_g = forecast_g.loc[52585:,'yhat']"
      ],
      "execution_count": null,
      "outputs": []
    },
    {
      "cell_type": "code",
      "metadata": {
        "id": "1iBUd2lvkCoO"
      },
      "source": [
        "#testA = test[test['일자|시간|구분'].str.contains('A')]\n",
        "#testB = test[test['일자|시간|구분'].str.contains('B')]\n",
        "#testC = test[test['일자|시간|구분'].str.contains('C')]\n",
        "#testD = test[test['일자|시간|구분'].str.contains('D')]\n",
        "#testE = test[test['일자|시간|구분'].str.contains('E')]\n",
        "#testG = test[test['일자|시간|구분'].str.contains('G')]\n",
        "#testH = test[test['일자|시간|구분'].str.contains('H')]"
      ],
      "execution_count": null,
      "outputs": []
    },
    {
      "cell_type": "code",
      "metadata": {
        "id": "wv0VoTwRz-Op"
      },
      "source": [
        "#pred_a = pred_a.reset_index()\n",
        "pred_a['yhat']"
      ],
      "execution_count": null,
      "outputs": []
    },
    {
      "cell_type": "code",
      "metadata": {
        "id": "Nc8r26LXkQ6Q"
      },
      "source": [
        "pred_a"
      ],
      "execution_count": null,
      "outputs": []
    },
    {
      "cell_type": "code",
      "metadata": {
        "id": "xuyaMV8985K3"
      },
      "source": [
        "#total = \n",
        "total = pd.concat([pred_a,pred_b,pred_c,pred_d,pred_e,pred_h,pred_g])"
      ],
      "execution_count": null,
      "outputs": []
    },
    {
      "cell_type": "code",
      "metadata": {
        "id": "Iat9aO2600ej"
      },
      "source": [
        "#total.to_frame().reset_index()['yhat']"
      ],
      "execution_count": null,
      "outputs": []
    },
    {
      "cell_type": "code",
      "metadata": {
        "id": "jg3lmfYd73Q2"
      },
      "source": [
        "submission['공급량'] = total.to_frame().reset_index()['yhat']\n",
        "submission"
      ],
      "execution_count": null,
      "outputs": []
    },
    {
      "cell_type": "markdown",
      "metadata": {
        "id": "kcl1UUTLPw6z"
      },
      "source": [
        "# 정확도 측정 / submission 제출 "
      ]
    },
    {
      "cell_type": "code",
      "metadata": {
        "id": "e3EG9h5ZBeLw"
      },
      "source": [
        "#submission.to_csv('/content/drive/MyDrive/TAVE 머신러닝 스터디/Gas/211105_1.csv', index = False,encoding = 'cp949')\n"
      ],
      "execution_count": null,
      "outputs": []
    },
    {
      "cell_type": "code",
      "metadata": {
        "id": "-VvhtDZyiUm_"
      },
      "source": [
        "test['일자'] = test['일자|시간|구분'].str.split(' ').str[0]\n",
        "test['시간'] = test['일자|시간|구분'].str.split(' ').str[1].astype(int)\n",
        "test['구분'] = test['일자|시간|구분'].str.split(' ').str[2]"
      ],
      "execution_count": null,
      "outputs": []
    },
    {
      "cell_type": "code",
      "metadata": {
        "id": "MqpSnhYpinTK"
      },
      "source": [
        "test"
      ],
      "execution_count": null,
      "outputs": []
    },
    {
      "cell_type": "code",
      "metadata": {
        "id": "mrPE2ohwhsTn"
      },
      "source": [
        "test['일자'] = pd.to_datetime(test['일자'])\n",
        "test['year'] = test['일자'].dt.year\n",
        "test['month'] = test['일자'].dt.month\n",
        "test['day'] = test['일자'].dt.day\n",
        "test['weekday'] = test['일자'].dt.weekday\n",
        "test"
      ],
      "execution_count": null,
      "outputs": []
    },
    {
      "cell_type": "code",
      "metadata": {
        "id": "NWeEcpDJhHf2"
      },
      "source": [
        "test[test['일자'].isin(holiday)]\n",
        "test['휴일'] = 0\n",
        "test.loc[test['일자'].isin(holiday), '휴일'] = 1\n",
        "test.loc[(test['weekday']==5) | (test['weekday']==6),'휴일'] = 1"
      ],
      "execution_count": null,
      "outputs": []
    },
    {
      "cell_type": "code",
      "metadata": {
        "id": "X4aEnvlDjIny"
      },
      "source": [
        "test['구분'] = test['구분'].astype('category')\n",
        "test['weekday'] = test['weekday'].astype('category')\n",
        "test['구분'] = test['구분'].map({'A' : '1','B' : '2','C' : '3','D' : '4','E' : '5','G' : '6','H' : '7'})\n",
        "test['휴일'] = test['휴일'].astype('category')\n",
        "test['시간'] = test['시간'].astype('category')\n",
        "test['year'] = test['year'].astype('category')\n",
        "test['month'] = test['month'].astype('category')\n",
        "test['day'] = test['day'].astype('category')\n"
      ],
      "execution_count": null,
      "outputs": []
    },
    {
      "cell_type": "code",
      "metadata": {
        "id": "K509tJ73krW6"
      },
      "source": [
        "#test[['시간','구분','year','month','day','weekday','휴일']]\n",
        "\n",
        "one_hot_cols = test[['시간','구분','year','month','day','weekday','휴일']].columns.tolist()\n",
        "test_enc = pd.get_dummies(test[['시간','구분','year','month','day','weekday','휴일']], columns=one_hot_cols,drop_first=True)\n",
        "test_enc\n"
      ],
      "execution_count": null,
      "outputs": []
    },
    {
      "cell_type": "code",
      "metadata": {
        "id": "WUUC19dkilXr"
      },
      "source": [
        "submission.head(10)"
      ],
      "execution_count": null,
      "outputs": []
    },
    {
      "cell_type": "code",
      "metadata": {
        "id": "iXvpRtJgl6MP"
      },
      "source": [
        "test['공급량'] = total.to_frame().reset_index()['yhat']"
      ],
      "execution_count": null,
      "outputs": []
    },
    {
      "cell_type": "code",
      "metadata": {
        "id": "g-emnM5Nn5w9"
      },
      "source": [
        "test.to_csv('/content/drive/MyDrive/TAVE 머신러닝 스터디/Gas/211105_2.csv', index = False,encoding = 'cp949')"
      ],
      "execution_count": null,
      "outputs": []
    },
    {
      "cell_type": "code",
      "metadata": {
        "id": "juHgGhVOtfJx"
      },
      "source": [
        "def nmae(true_df, pred_df):\n",
        "    target_idx = true_df.iloc[:,0]\n",
        "    pred_df = pred_df[pred_df.iloc[:,0].isin(target_idx)]\n",
        "    pred_df = pred_df.sort_values(by=[pred_df.columns[0]], ascending=[True])\n",
        "    true_df = true_df.sort_values(by=[true_df.columns[0]], ascending=[True])\n",
        "    true = true_df.iloc[:,1].to_numpy()\n",
        "    pred = pred_df.iloc[:,1].to_numpy()\n",
        "    \n",
        "    score = np.mean((np.abs(true-pred))/true)\n",
        "    \n",
        "    return score"
      ],
      "execution_count": null,
      "outputs": []
    },
    {
      "cell_type": "code",
      "metadata": {
        "id": "MgREAk9FEGI2"
      },
      "source": [
        "def MAPE(y_test, y_pred):\n",
        "\treturn np.mean(np.abs((y_test - y_pred) / y_test))\n",
        "    "
      ],
      "execution_count": null,
      "outputs": []
    },
    {
      "cell_type": "code",
      "metadata": {
        "id": "ZWvWmG72Gg7L"
      },
      "source": [
        "submission"
      ],
      "execution_count": null,
      "outputs": []
    },
    {
      "cell_type": "code",
      "metadata": {
        "id": "FuP5U3MgHAxw"
      },
      "source": [
        "nmae(y_test,predict_c)"
      ],
      "execution_count": null,
      "outputs": []
    },
    {
      "cell_type": "code",
      "metadata": {
        "id": "g_X1VspDJhWX"
      },
      "source": [
        "data1"
      ],
      "execution_count": null,
      "outputs": []
    },
    {
      "cell_type": "code",
      "metadata": {
        "id": "6NhQCMzjNav0"
      },
      "source": [
        ""
      ],
      "execution_count": null,
      "outputs": []
    }
  ]
}