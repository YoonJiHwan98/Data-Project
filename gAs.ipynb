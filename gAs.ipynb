{
  "nbformat": 4,
  "nbformat_minor": 0,
  "metadata": {
    "colab": {
      "name": "gAs.ipynb",
      "private_outputs": true,
      "provenance": [],
      "collapsed_sections": [
        "u7LbpcIIRUN0",
        "ho1IUyrYpV-y",
        "M9oAKA4ehXmP",
        "_4KND24jhUcp",
        "uSlgAPeQ96an",
        "VWPjmbFOhJHC",
        "gtRQXOu0Oj3b",
        "kcl1UUTLPw6z"
      ],
      "mount_file_id": "1R5N15YwqKPCbm_3Z47mOTaCEJrgmOrTn",
      "authorship_tag": "ABX9TyNXC1jvl/qIzrItGtpwV1KD",
      "include_colab_link": true
    },
    "kernelspec": {
      "name": "python3",
      "display_name": "Python 3"
    },
    "language_info": {
      "name": "python"
    }
  },
  "cells": [
    {
      "cell_type": "markdown",
      "metadata": {
        "id": "view-in-github",
        "colab_type": "text"
      },
      "source": [
        "<a href=\"https://colab.research.google.com/github/YoonJiHwan98/dacon_code/blob/main/gAs.ipynb\" target=\"_parent\"><img src=\"https://colab.research.google.com/assets/colab-badge.svg\" alt=\"Open In Colab\"/></a>"
      ]
    },
    {
      "cell_type": "markdown",
      "metadata": {
        "id": "u7LbpcIIRUN0"
      },
      "source": [
        "#라이브 러리 폰트\n",
        "\n"
      ]
    },
    {
      "cell_type": "code",
      "metadata": {
        "id": "tbJWqQCB3Mnb"
      },
      "source": [
        "import pandas as pd\n",
        "import numpy as np\n",
        "import matplotlib.pyplot as plt\n",
        "import seaborn as sns\n",
        "import datetime\n",
        "\n",
        "from statsmodels.tsa.arima_model import ARIMA\n",
        "import statsmodels.api as sm\n",
        "from statsmodels.tsa.api import ExponentialSmoothing, SimpleExpSmoothing, Holt"
      ],
      "execution_count": null,
      "outputs": []
    },
    {
      "cell_type": "code",
      "metadata": {
        "id": "5sJelL2Lwv9a"
      },
      "source": [
        "!git clone https://github.com/YoonJiHwan98/TIL.git"
      ],
      "execution_count": null,
      "outputs": []
    },
    {
      "cell_type": "code",
      "metadata": {
        "id": "orT4IwJt85qq"
      },
      "source": [
        "!sudo apt-get install -y fonts-nanum\n",
        "!sudo fc-cache -fv\n",
        "!rm ~/.cache/matplotlib -rf\n",
        "\n",
        "plt.rc('font', family='NanumBarunGothic') "
      ],
      "execution_count": null,
      "outputs": []
    },
    {
      "cell_type": "code",
      "metadata": {
        "id": "GWX0g1gx3TnO"
      },
      "source": [
        "data = pd.read_csv('/content/drive/MyDrive/TAVE 머신러닝 스터디/Gas/한국가스공사_시간별 공급량_20181231.csv',encoding = 'cp949')\n",
        "test = pd.read_csv('/content/drive/MyDrive/TAVE 머신러닝 스터디/Gas/test.csv')\n",
        "submission = pd.read_csv('/content/drive/MyDrive/TAVE 머신러닝 스터디/Gas/sample_submission.csv')"
      ],
      "execution_count": null,
      "outputs": []
    },
    {
      "cell_type": "code",
      "metadata": {
        "id": "b6s5jNsINdSx"
      },
      "source": [
        "data1 = data.copy()\n"
      ],
      "execution_count": null,
      "outputs": []
    },
    {
      "cell_type": "code",
      "metadata": {
        "id": "uuIRUIWKsacH"
      },
      "source": [
        ""
      ],
      "execution_count": null,
      "outputs": []
    },
    {
      "cell_type": "markdown",
      "metadata": {
        "id": "ho1IUyrYpV-y"
      },
      "source": [
        "# 데이터 전처리"
      ]
    },
    {
      "cell_type": "markdown",
      "metadata": {
        "id": "AWmVOGjPV-aU"
      },
      "source": [
        "## 공휴일 추가\n"
      ]
    },
    {
      "cell_type": "code",
      "metadata": {
        "id": "lh4JwzEEnkgo"
      },
      "source": [
        ""
      ],
      "execution_count": null,
      "outputs": []
    },
    {
      "cell_type": "code",
      "metadata": {
        "id": "wZYlLYUgUvZP"
      },
      "source": [
        "data1['연월일'] = pd.to_datetime(data1['연월일'])"
      ],
      "execution_count": null,
      "outputs": []
    },
    {
      "cell_type": "code",
      "metadata": {
        "id": "bK6CSKBZGOnA"
      },
      "source": [
        "data1['year'] = data1['연월일'].dt.year\n",
        "data1['month'] = data1['연월일'].dt.month\n",
        "data1['day'] = data1['연월일'].dt.day\n",
        "data1['weekday'] = data1['연월일'].dt.weekday"
      ],
      "execution_count": null,
      "outputs": []
    },
    {
      "cell_type": "code",
      "metadata": {
        "id": "SgjTu6HLWEVd"
      },
      "source": [
        "# %%\n",
        "# 휴일 목록 \n",
        "hol = '''\n",
        "20130101\n",
        "20130211\n",
        "20130301\n",
        "20130517\n",
        "20130606\n",
        "20130815\n",
        "20130918\n",
        "20130919\n",
        "20130920\n",
        "20131003\n",
        "20131009\n",
        "20131225\n",
        "20140101\n",
        "20140130\n",
        "20140131\n",
        "20140505\n",
        "20140506\n",
        "20140604\n",
        "20140606\n",
        "20140815\n",
        "20140908\n",
        "20140909\n",
        "20140910\n",
        "20141003\n",
        "20141009\n",
        "20141225\n",
        "20150101\n",
        "20150218\n",
        "20150219\n",
        "20150220\n",
        "20150505\n",
        "20150525\n",
        "20150814\n",
        "20150928\n",
        "20150929\n",
        "20151009\n",
        "20151225\n",
        "20160101\n",
        "20160208\n",
        "20160209\n",
        "20160210\n",
        "20160301\n",
        "20160413\n",
        "20160505\n",
        "20160506\n",
        "20160606\n",
        "20160815\n",
        "20160914\n",
        "20160915\n",
        "20160916\n",
        "20161003\n",
        "20170127\n",
        "20170130\n",
        "20170301\n",
        "20170503\n",
        "20170505\n",
        "20170509\n",
        "20170606\n",
        "20170815\n",
        "20171002\n",
        "20171003\n",
        "20171004\n",
        "20171005\n",
        "20171006\n",
        "20171009\n",
        "20171225\n",
        "20180101\n",
        "20180215\n",
        "20180216\n",
        "20180301\n",
        "20180507\n",
        "20180522\n",
        "20180606\n",
        "20180613\n",
        "20180815\n",
        "20180924\n",
        "20180925\n",
        "20180926\n",
        "20181003\n",
        "20181009\n",
        "20181225\n",
        "20190101\n",
        "20190204\n",
        "20190205\n",
        "20190206\n",
        "20190301\n",
        "'''\n",
        "hol\n",
        "#%%\n",
        "holiday = hol.split('\\n')\n",
        "holiday.pop(0)\n",
        "holiday.pop(-1)\n",
        "for i in range(len(holiday)) :\n",
        "  holiday[i] = holiday[i][0:4] + '-' + holiday[i][4:6] + '-' + holiday[i][6:8]\n",
        "\n",
        "holiday\n",
        "# %%\n",
        "data1[data1['연월일'].isin(holiday)]\n",
        "data1['휴일'] = 0\n",
        "data1.loc[data1['연월일'].isin(holiday), '휴일'] = 1\n",
        "data1.loc[(data1['weekday']==5) | (data1['weekday']==6),'휴일'] = 1"
      ],
      "execution_count": null,
      "outputs": []
    },
    {
      "cell_type": "code",
      "metadata": {
        "id": "FsG8dzMDOhpP"
      },
      "source": [
        "data1"
      ],
      "execution_count": null,
      "outputs": []
    },
    {
      "cell_type": "code",
      "metadata": {
        "id": "iSQ5E0N8HoIM"
      },
      "source": [
        "data1['구분'] = data1['구분'].astype('category')\n",
        "data1['구분'] = data1['구분'].map({'A' : '1','B' : '2','C' : '3','D' : '4','E' : '5','G' : '6','H' : '7'})\n",
        "data1['weekday'] = data1['weekday'].astype('category')\n",
        "data1['휴일'] = data1['휴일'].astype('category')\n"
      ],
      "execution_count": null,
      "outputs": []
    },
    {
      "cell_type": "code",
      "metadata": {
        "id": "pRrUsDE4zeRx"
      },
      "source": [
        "data1"
      ],
      "execution_count": null,
      "outputs": []
    },
    {
      "cell_type": "markdown",
      "metadata": {
        "id": "6zPbCnBAPLcy"
      },
      "source": [
        "## 이상치 처리"
      ]
    },
    {
      "cell_type": "code",
      "metadata": {
        "id": "4y_QWzQXJknq"
      },
      "source": [
        " data1['공급량'] = data1['공급량'].apply(lambda x : None if x < 10 else x) # 10 보다 작은 이상치들은 Nan 처리"
      ],
      "execution_count": null,
      "outputs": []
    },
    {
      "cell_type": "code",
      "metadata": {
        "id": "8Xtx2nsrKJGP"
      },
      "source": [
        "# 그 전 값으로 채우는 방식과 그냥 삭제하는 방식\n",
        "df_fill = data1.fillna(method='ffill')\n",
        "df_drop = data1.dropna()"
      ],
      "execution_count": null,
      "outputs": []
    },
    {
      "cell_type": "code",
      "metadata": {
        "id": "7RpzrGn8CBYV"
      },
      "source": [
        "df_drop"
      ],
      "execution_count": null,
      "outputs": []
    },
    {
      "cell_type": "code",
      "metadata": {
        "id": "8DqvBlt8WsYi"
      },
      "source": [
        "#pred_df.groupby('DateTime')['yhat'].mean().reset_index(name = 'pred').head()\n"
      ],
      "execution_count": null,
      "outputs": []
    },
    {
      "cell_type": "code",
      "metadata": {
        "id": "A0Bv9To35R4w"
      },
      "source": [
        "!pip install optuna"
      ],
      "execution_count": null,
      "outputs": []
    },
    {
      "cell_type": "code",
      "metadata": {
        "id": "QefJdLg0pFmT"
      },
      "source": [
        "from sklearn.preprocessing import LabelEncoder , OneHotEncoder"
      ],
      "execution_count": null,
      "outputs": []
    },
    {
      "cell_type": "code",
      "metadata": {
        "id": "p2ImBNN43PzZ"
      },
      "source": [
        "X = df_drop[['시간','구분','year','month','day','weekday','휴일']]\n",
        "y = df_drop['공급량']"
      ],
      "execution_count": null,
      "outputs": []
    },
    {
      "cell_type": "code",
      "metadata": {
        "id": "RTP0sGM_mTib"
      },
      "source": [
        "X"
      ],
      "execution_count": null,
      "outputs": []
    },
    {
      "cell_type": "code",
      "metadata": {
        "id": "KC3_XIkG5w0B"
      },
      "source": [
        "one_hot_cols = X[['weekday','구분','휴일']].columns.tolist()\n",
        "X_enc = pd.get_dummies(X, columns=one_hot_cols,drop_first=True)\n",
        "X_enc"
      ],
      "execution_count": null,
      "outputs": []
    },
    {
      "cell_type": "code",
      "metadata": {
        "id": "OOBcB3gGvUVe"
      },
      "source": [
        ""
      ],
      "execution_count": null,
      "outputs": []
    },
    {
      "cell_type": "code",
      "metadata": {
        "id": "hTl7Pz8f5F1c"
      },
      "source": [
        "X.info()"
      ],
      "execution_count": null,
      "outputs": []
    },
    {
      "cell_type": "markdown",
      "metadata": {
        "id": "olAlGTTA2PKp"
      },
      "source": [
        "# XGBOOST\n"
      ]
    },
    {
      "cell_type": "markdown",
      "metadata": {
        "id": "VkSLOfKSRb0V"
      },
      "source": [
        "## 데이터 전처리"
      ]
    },
    {
      "cell_type": "code",
      "metadata": {
        "id": "87Ro1Dtx3LLs"
      },
      "source": [
        "import xgboost as xgb\n",
        "from xgboost import plot_importance, plot_tree\n",
        "from xgboost import XGBRegressor\n",
        "from sklearn.preprocessing import OneHotEncoder, LabelEncoder"
      ],
      "execution_count": null,
      "outputs": []
    },
    {
      "cell_type": "code",
      "metadata": {
        "id": "dwLg8dT7uC85"
      },
      "source": [
        "train = pd.read_csv('/content/drive/MyDrive/TAVE 머신러닝 스터디/Gas/gas_train.csv')\n",
        "test = pd.read_csv('/content/drive/MyDrive/TAVE 머신러닝 스터디/Gas/gas_test.csv')"
      ],
      "execution_count": null,
      "outputs": []
    },
    {
      "cell_type": "code",
      "metadata": {
        "id": "paC3ydxWua_b"
      },
      "source": [
        "test.drop(columns = ['Unnamed: 0','연월일'],inplace = True)"
      ],
      "execution_count": null,
      "outputs": []
    },
    {
      "cell_type": "code",
      "metadata": {
        "id": "uJ1gKBRXy7R-"
      },
      "source": [
        "train"
      ],
      "execution_count": null,
      "outputs": []
    },
    {
      "cell_type": "code",
      "metadata": {
        "id": "Y9LqeKAI3oXq"
      },
      "source": [
        "test"
      ],
      "execution_count": null,
      "outputs": []
    },
    {
      "cell_type": "code",
      "metadata": {
        "id": "CME859Z5zBGE"
      },
      "source": [
        "X = train[['Year','Month','Day','Weekday','시간','구분','휴일','기온']]\n",
        "y = train['공급량']"
      ],
      "execution_count": null,
      "outputs": []
    },
    {
      "cell_type": "code",
      "metadata": {
        "id": "7QTKsNXcyTIk"
      },
      "source": [
        "one_hot_cols = train[['Weekday','구분','휴일']].columns.tolist()\n",
        "X_enc = pd.get_dummies(X, columns=one_hot_cols,drop_first=True)\n",
        "X_enc"
      ],
      "execution_count": null,
      "outputs": []
    },
    {
      "cell_type": "code",
      "metadata": {
        "id": "vZWEZERI_aP-"
      },
      "source": [
        "test = test[['Year','Month','Day','Weekday','시간','구분','휴일','기온']]\n",
        "one_hot_cols = test[['Weekday','구분','휴일']].columns.tolist()\n",
        "test = pd.get_dummies(test, columns=one_hot_cols,drop_first=True)\n",
        "test"
      ],
      "execution_count": null,
      "outputs": []
    },
    {
      "cell_type": "code",
      "metadata": {
        "id": "dPH9SeK74L2k"
      },
      "source": [
        "from sklearn.model_selection import train_test_split\n",
        "\n",
        "X_train, X_test, y_train, y_test = train_test_split(X_enc, y, test_size=0.2, shuffle=True, random_state=2021)"
      ],
      "execution_count": null,
      "outputs": []
    },
    {
      "cell_type": "markdown",
      "metadata": {
        "id": "M9oAKA4ehXmP"
      },
      "source": [
        "## XGB 모델링"
      ]
    },
    {
      "cell_type": "code",
      "metadata": {
        "id": "37i4foN93CPy"
      },
      "source": [
        "model_xgb = xgb.XGBRegressor(n_estimators=1000, tree_method='gpu_hist')\n",
        "model_xgb.fit(X_train, y_train, eval_set=[(X_test, y_test)], early_stopping_rounds=50,verbose=False)\n"
      ],
      "execution_count": null,
      "outputs": []
    },
    {
      "cell_type": "code",
      "metadata": {
        "id": "vst_qScWm2j8"
      },
      "source": [
        "base_pred = model_xgb.predict(X_test)\n",
        "base_pred"
      ],
      "execution_count": null,
      "outputs": []
    },
    {
      "cell_type": "code",
      "metadata": {
        "id": "TExQMkK9odZ7"
      },
      "source": [
        "MAPE(y_test, base_pred)"
      ],
      "execution_count": null,
      "outputs": []
    },
    {
      "cell_type": "code",
      "metadata": {
        "id": "UO8oDQzSjYGu"
      },
      "source": [
        ""
      ],
      "execution_count": null,
      "outputs": []
    },
    {
      "cell_type": "code",
      "metadata": {
        "id": "xhwqABH9aPhC"
      },
      "source": [
        "hyperparam = {'lambda': 0.2116482513616873, 'alpha': 0.2545592065777445, 'colsample_bytree': 0.9, 'subsample': 0.7, 'learning_rate': 0.018, 'max_depth': 20, 'random_state': 24, 'min_child_weight': 36}\n",
        "\n",
        "model_xgb_tued = xgb.XGBRegressor(max_depth = 20 ,learning_rate=0.018, n_estimators=1000, colsample_bytree = 0.9,random_state = 24 , min_child_weight = 36, sub_sample = 0.7 , tree_method='gpu_hist')\n",
        "\n",
        "model_xgb_tued.fit(X_train, y_train, eval_set=[(X_test, y_test)], early_stopping_rounds=50,verbose=False)\n",
        "\n"
      ],
      "execution_count": null,
      "outputs": []
    },
    {
      "cell_type": "code",
      "metadata": {
        "id": "CjkeG0N8fpCg"
      },
      "source": [
        "base_tuned = model_xgb_tued.predict(X_test)\n",
        "base_tuned"
      ],
      "execution_count": null,
      "outputs": []
    },
    {
      "cell_type": "code",
      "metadata": {
        "id": "LTQjho3Lg4LN"
      },
      "source": [
        "MAPE(y_test,base_tuned)"
      ],
      "execution_count": null,
      "outputs": []
    },
    {
      "cell_type": "code",
      "metadata": {
        "id": "ZEQg6S8OhZul"
      },
      "source": [
        "#model_xgb_tued(test)"
      ],
      "execution_count": null,
      "outputs": []
    },
    {
      "cell_type": "markdown",
      "metadata": {
        "id": "_4KND24jhUcp"
      },
      "source": [
        "## CV"
      ]
    },
    {
      "cell_type": "code",
      "metadata": {
        "id": "-oEJGcGBhXpN"
      },
      "source": [
        ""
      ],
      "execution_count": null,
      "outputs": []
    },
    {
      "cell_type": "markdown",
      "metadata": {
        "id": "uSlgAPeQ96an"
      },
      "source": [
        "## 파라미터 튜닝\n"
      ]
    },
    {
      "cell_type": "code",
      "metadata": {
        "id": "kldh3pgQhgRu"
      },
      "source": [
        "!pip install optuna"
      ],
      "execution_count": null,
      "outputs": []
    },
    {
      "cell_type": "code",
      "metadata": {
        "id": "ZF4Kon_s-_I5"
      },
      "source": [
        "import optuna\n",
        "from optuna.visualization import plot_contour\n",
        "from optuna.visualization import plot_edf\n",
        "from optuna.visualization import plot_intermediate_values\n",
        "from optuna.visualization import plot_optimization_history\n",
        "from optuna.visualization import plot_parallel_coordinate\n",
        "from optuna.visualization import plot_param_importances\n",
        "from optuna.visualization import plot_slice"
      ],
      "execution_count": null,
      "outputs": []
    },
    {
      "cell_type": "code",
      "metadata": {
        "id": "QGKHg7sbmtj_"
      },
      "source": [
        "def objective(trial,data=X_enc,target=y):\n",
        "    \n",
        "    train_x, test_x, train_y, test_y = train_test_split(X_enc, y, test_size=0.25,random_state=42)\n",
        "    param = {\n",
        "        'tree_method':'gpu_hist',  # this parameter means using the GPU when training our model to speedup the training process\n",
        "        'lambda': trial.suggest_loguniform('lambda', 1e-3, 10.0),\n",
        "        'alpha': trial.suggest_loguniform('alpha', 1e-3, 10.0),\n",
        "        'colsample_bytree': trial.suggest_categorical('colsample_bytree', [0.3,0.4,0.5,0.6,0.7,0.8,0.9, 1.0]),\n",
        "        'subsample': trial.suggest_categorical('subsample', [0.4,0.5,0.6,0.7,0.8,1.0]),\n",
        "        'learning_rate': trial.suggest_categorical('learning_rate', [0.008,0.009,0.01,0.012,0.014,0.016,0.018, 0.02]),\n",
        "        'n_estimators': 100,\n",
        "        'max_depth': trial.suggest_categorical('max_depth', [5,7,9,11,13,15,17,20]),\n",
        "        'random_state': trial.suggest_categorical('random_state', [24, 48,2020]),\n",
        "        'min_child_weight': trial.suggest_int('min_child_weight', 1, 300),\n",
        "    }\n",
        "    model = xgb.XGBRegressor(**param)  \n",
        "    \n",
        "    model.fit(train_x,train_y,eval_set=[(test_x,test_y)],early_stopping_rounds=75,verbose=False)\n",
        "    \n",
        "    preds = model.predict(test_x)\n",
        "    \n",
        "    rmse = MAPE(test_y, preds)\n",
        "    \n",
        "    return rmse"
      ],
      "execution_count": null,
      "outputs": []
    },
    {
      "cell_type": "code",
      "metadata": {
        "id": "kfWbm7QfuBWh"
      },
      "source": [
        "study = optuna.create_study(direction='minimize')\n",
        "study.optimize(objective, n_trials=100)\n",
        "print('Number of finished trials:', len(study.trials))\n",
        "print('Best trial:', study.best_trial.params)"
      ],
      "execution_count": null,
      "outputs": []
    },
    {
      "cell_type": "code",
      "metadata": {
        "id": "Wh9YpVOP7FR3"
      },
      "source": [
        "hyperparam50 = {'lambda': 0.8096315611323108, 'alpha': 0.11425328658197806, 'colsample_bytree': 0.9, 'subsample': 0.7, 'learning_rate': 0.02, 'max_depth': 9, 'random_state': 24, 'min_child_weight': 151}"
      ],
      "execution_count": null,
      "outputs": []
    },
    {
      "cell_type": "code",
      "metadata": {
        "id": "wGQZbZumKpjj"
      },
      "source": [
        "hyperparam50 = {'lambda': 0.8096315611323108, 'alpha': 0.11425328658197806, 'colsample_bytree': 0.9, 'subsample': 0.7, 'learning_rate': 0.02, 'max_depth': 9, 'random_state': 24, 'min_child_weight': 151}\n",
        "\n",
        "model_xgb_tued50 = xgb.XGBRegressor(max_depth = 9 ,learning_rate=0.02, n_estimators=1000, colsample_bytree = 0.9,random_state = 24 , min_child_weight = 151, sub_sample = 0.7 , tree_method='gpu_hist')\n",
        " reg_alpha=0.11425328658197806, reg_lambda=0.8096315611323108\n",
        "model_xgb_tued50.fit(X_train, y_train, eval_set=[(X_test, y_test)], early_stopping_rounds=50,verbose=False)"
      ],
      "execution_count": null,
      "outputs": []
    },
    {
      "cell_type": "code",
      "metadata": {
        "id": "l3ZgVI1iNKA8"
      },
      "source": [
        "pred_tuned50 = model_xgb_tued50.predict(X_test)\n",
        "pred_tuned50"
      ],
      "execution_count": null,
      "outputs": []
    },
    {
      "cell_type": "code",
      "metadata": {
        "id": "wF9JINB-NMIq"
      },
      "source": [
        "MAPE(y_test,pred_tuned50)"
      ],
      "execution_count": null,
      "outputs": []
    },
    {
      "cell_type": "code",
      "metadata": {
        "id": "YCbuapPDQFak"
      },
      "source": [
        ""
      ],
      "execution_count": null,
      "outputs": []
    },
    {
      "cell_type": "code",
      "metadata": {
        "id": "I7CJmRn4SOMd"
      },
      "source": [
        "hyperparam100 = {'lambda': 0.03383332279686637, 'alpha': 0.0019474261185779493, 'colsample_bytree': 0.9, 'subsample': 0.7, 'learning_rate': 0.02, 'max_depth': 13, 'random_state': 24, 'min_child_weight': 17}\n",
        "\n",
        "model_xgb_tued100 = xgb.XGBRegressor(max_depth = 13 ,learning_rate=0.02, n_estimators=1000, colsample_bytree = 0.9,random_state = 24 , min_child_weight = 17, sub_sample = 0.7 , reg_lambda = 0.03383332279686637, reg_alpha = 0.0019474261185779493, tree_method='gpu_hist')"
      ],
      "execution_count": null,
      "outputs": []
    },
    {
      "cell_type": "code",
      "metadata": {
        "id": "yYdurQnLS2YV"
      },
      "source": [
        "model_xgb_tued100.fit(X_train, y_train, eval_set=[(X_test, y_test)], early_stopping_rounds=50,verbose=False)"
      ],
      "execution_count": null,
      "outputs": []
    },
    {
      "cell_type": "code",
      "metadata": {
        "id": "rEMdsED6TC4V"
      },
      "source": [
        "pred_tuned100 = model_xgb_tued100.predict(X_test)\n",
        "MAPE(y_test,pred_tuned100)"
      ],
      "execution_count": null,
      "outputs": []
    },
    {
      "cell_type": "markdown",
      "metadata": {
        "id": "VWPjmbFOhJHC"
      },
      "source": [
        "## K-Fold"
      ]
    },
    {
      "cell_type": "code",
      "metadata": {
        "id": "ikfxqaE7hjuF"
      },
      "source": [
        "from sklearn.model_selection import TimeSeriesSplit\n",
        "from sklearn.model_selection import KFold\n",
        "kfold = KFold(n_splits=5, shuffle = True, random_state=0)\n",
        "tscv = TimeSeriesSplit(n_splits=5)"
      ],
      "execution_count": null,
      "outputs": []
    },
    {
      "cell_type": "code",
      "metadata": {
        "id": "U4lBaaOQksPM"
      },
      "source": [
        "from sklearn.model_selection import cross_val_score, cross_validate\n"
      ],
      "execution_count": null,
      "outputs": []
    },
    {
      "cell_type": "code",
      "metadata": {
        "id": "Yq268emLhw86"
      },
      "source": [
        "scores = cross_val_score(model_xgb , \n",
        "                        X_enc , \n",
        "                        y ,\n",
        "                        cv=kfold,\n",
        "                        n_jobs=-1,\n",
        "                        scoring='neg_mean_absolute_percentage_error')\n",
        "\n",
        "# 최종적으로 평균을 내어 정확도를 간단히 한다.\n",
        "print('교차 검증별 정확도:',np.round(scores * -1, 4))\n",
        "print('평균 검증 정확도:', np.round(np.mean(scores* -1), 4))"
      ],
      "execution_count": null,
      "outputs": []
    },
    {
      "cell_type": "code",
      "metadata": {
        "id": "pf4854LgqclB"
      },
      "source": [
        "scores_tued50 = cross_val_score(model_xgb_tued50 , \n",
        "                        X_enc , \n",
        "                        y ,\n",
        "                        cv=kfold,\n",
        "                        n_jobs=-1,\n",
        "                        scoring='neg_mean_absolute_percentage_error')\n",
        "\n",
        "# 최종적으로 평균을 내어 정확도를 간단히 한다.\n",
        "print('교차 검증별 정확도:',np.round(scores_tued50 * -1, 4))\n",
        "print('평균 검증 정확도:', np.round(np.mean(scores_tued50* -1), 4))"
      ],
      "execution_count": null,
      "outputs": []
    },
    {
      "cell_type": "code",
      "metadata": {
        "id": "62AjYMNkx90Q"
      },
      "source": [
        "scores_tued = cross_val_score(model_xgb_tued , \n",
        "                        X_enc , \n",
        "                        y ,\n",
        "                        cv=kfold,\n",
        "                        n_jobs=-1,\n",
        "                        scoring='neg_mean_absolute_percentage_error')\n",
        "\n",
        "# 최종적으로 평균을 내어 정확도를 간단히 한다.\n",
        "print('교차 검증별 정확도:',np.round(scores_tued * -1, 4))\n",
        "print('평균 검증 정확도:', np.round(np.mean(scores_tued* -1), 4))"
      ],
      "execution_count": null,
      "outputs": []
    },
    {
      "cell_type": "code",
      "metadata": {
        "id": "47nZOlFZuseo"
      },
      "source": [
        "test"
      ],
      "execution_count": null,
      "outputs": []
    },
    {
      "cell_type": "markdown",
      "metadata": {
        "id": "gtRQXOu0Oj3b"
      },
      "source": [
        "\n",
        "# Prophet\n",
        "\n"
      ]
    },
    {
      "cell_type": "code",
      "metadata": {
        "id": "ab7uYV3fBgHD"
      },
      "source": [
        "import tensorflow as tf\n",
        "tf.test.gpu_device_name()"
      ],
      "execution_count": null,
      "outputs": []
    },
    {
      "cell_type": "markdown",
      "metadata": {
        "id": "oL1gS8BCUbYc"
      },
      "source": [
        "https://dacon.io/codeshare/2326\n",
        "\n",
        "https://dacon.io/codeshare/2327?page&dtype&ptype"
      ]
    },
    {
      "cell_type": "code",
      "metadata": {
        "id": "c0ru0hHa30Ey"
      },
      "source": [
        "#data['연월일시'] = \n",
        "data['시간'] = data['시간'].astype(str)"
      ],
      "execution_count": null,
      "outputs": []
    },
    {
      "cell_type": "code",
      "metadata": {
        "id": "6ycnk0tw3_sI"
      },
      "source": [
        "data['시간'] = data['시간'].map({'1' : '01','2' : '02','3' : '03','4' : '04','5' : '05','6' : '06','7' : '07','8' : '08','9' : '09','10' : '10','11' : '11','12' : '12','13' : '13','14' : '14','15' : '15','16' : '16','17' : '17','18' : '18','19' : '19','20' : '20','21' : '21','22' : '22','23' : '23','24' : '00'})"
      ],
      "execution_count": null,
      "outputs": []
    },
    {
      "cell_type": "code",
      "metadata": {
        "id": "J3_RCbDyL0Xi"
      },
      "source": [
        "data['시간'] = data['시간'].astype(str)"
      ],
      "execution_count": null,
      "outputs": []
    },
    {
      "cell_type": "code",
      "metadata": {
        "id": "ClBdP8uJkBha"
      },
      "source": [
        "#data['연월일시'] = data['연월일'] + '-' + data['시간']\n",
        "data"
      ],
      "execution_count": null,
      "outputs": []
    },
    {
      "cell_type": "code",
      "metadata": {
        "id": "1KRCLoMnP0WE"
      },
      "source": [
        "data1['연월일'] = data1['연월일'].astype(str)\n",
        "#data1['연월일시'] = data1['연월일'] + ' ' + data1['시간']"
      ],
      "execution_count": null,
      "outputs": []
    },
    {
      "cell_type": "code",
      "metadata": {
        "id": "wPOur3GzPUDl"
      },
      "source": [
        "data1['연월일시'] = data1['연월일시'].apply(lambda x : pd.to_datetime(x.split()[0]) + datetime.timedelta(days=1) if x.split()[1] == '24' else x)\n",
        "#data1['연월일시'] = pd.to_datetime(data1['연월일시'])\n",
        "data1"
      ],
      "execution_count": null,
      "outputs": []
    },
    {
      "cell_type": "code",
      "metadata": {
        "id": "DTsGO34yO4WY"
      },
      "source": [
        "df_a = data1[data1['구분'] == 'A']\n",
        "df_b = data1[data1['구분'] == 'B']\n",
        "df_c = data1[data1['구분'] == 'C']\n",
        "df_d = data1[data1['구분'] == 'D']\n",
        "df_g = data1[data1['구분'] == 'G']\n",
        "df_h = data1[data1['구분'] == 'H']\n",
        "df_e = data1[data1['구분'] == 'E']\n"
      ],
      "execution_count": null,
      "outputs": []
    },
    {
      "cell_type": "code",
      "metadata": {
        "id": "JhcE5UYAM0hZ"
      },
      "source": [
        "#df['time'].apply(lambda x: pd.to_datetime(x.split()[0]) + timedelta)"
      ],
      "execution_count": null,
      "outputs": []
    },
    {
      "cell_type": "code",
      "metadata": {
        "id": "TgXuE_lmGeFf"
      },
      "source": [
        "data1['구분'].unique()"
      ],
      "execution_count": null,
      "outputs": []
    },
    {
      "cell_type": "code",
      "metadata": {
        "id": "prZewPQoPGyZ"
      },
      "source": [
        "sns.lineplot(data=df_h , x = '연월일시',y = '공급량')\n",
        "plt.show()"
      ],
      "execution_count": null,
      "outputs": []
    },
    {
      "cell_type": "code",
      "metadata": {
        "id": "dmR5WrrRSx4q"
      },
      "source": [
        "sns.lineplot(data=df_e , x = '연월일시',y = '공급량')\n",
        "plt.show()"
      ],
      "execution_count": null,
      "outputs": []
    },
    {
      "cell_type": "code",
      "metadata": {
        "id": "pjxRjSRtPZ-e"
      },
      "source": [
        "df_c['공급량'].min()"
      ],
      "execution_count": null,
      "outputs": []
    },
    {
      "cell_type": "code",
      "metadata": {
        "id": "9i93GMeNUZJB"
      },
      "source": [
        "#sns.lineplot(data=df_h , x = '연월일시',y = '공급량')\n",
        "plt.show()"
      ],
      "execution_count": null,
      "outputs": []
    },
    {
      "cell_type": "code",
      "metadata": {
        "id": "aiWzDEbi3YLe"
      },
      "source": [
        "df_a[['ds','y']] = df_a[['연월일시','공급량']]\n",
        "df_b[['ds','y']] = df_b[['연월일시','공급량']]\n",
        "df_c[['ds','y']] = df_c[['연월일시','공급량']]\n",
        "df_d[['ds','y']] = df_d[['연월일시','공급량']]\n",
        "df_e[['ds','y']] = df_e[['연월일시','공급량']]\n",
        "df_h[['ds','y']] = df_h[['연월일시','공급량']]\n",
        "df_g[['ds','y']] = df_g[['연월일시','공급량']]"
      ],
      "execution_count": null,
      "outputs": []
    },
    {
      "cell_type": "code",
      "metadata": {
        "id": "xa7NADjoejOl"
      },
      "source": [
        "train_a = df_a[['ds','y']]\n",
        "train_b = df_b[['ds','y']]\n",
        "train_c = df_c[['ds','y']]\n",
        "train_d = df_d[['ds','y']]\n",
        "train_e = df_e[['ds','y']]\n",
        "train_h = df_h[['ds','y']]\n",
        "train_g = df_g[['ds','y']]"
      ],
      "execution_count": null,
      "outputs": []
    },
    {
      "cell_type": "code",
      "metadata": {
        "id": "gnVPi9kCfvsd"
      },
      "source": [
        ""
      ],
      "execution_count": null,
      "outputs": []
    },
    {
      "cell_type": "code",
      "metadata": {
        "id": "y2HMdOHf45h-"
      },
      "source": [
        "!pip install pystan==2.19.1.1\n",
        "!pip install prophet\n",
        "!pip install statsmodels==0.11.1\n",
        "!pip install fbprophet==0.7.1"
      ],
      "execution_count": null,
      "outputs": []
    },
    {
      "cell_type": "code",
      "metadata": {
        "id": "poLmnv63CODc"
      },
      "source": [
        "from fbprophet import Prophet\n",
        "\n",
        "model_a =Prophet() \n",
        "model_a.fit(train_a) \n",
        "future_A = model_a.make_future_dataframe(periods=2161, freq='H') \n",
        "forecast_A = model_a.predict(future_A)"
      ],
      "execution_count": null,
      "outputs": []
    },
    {
      "cell_type": "code",
      "metadata": {
        "id": "UK5tr-borqdH"
      },
      "source": [
        "model_b =Prophet() \n",
        "model_b.fit(train_b) \n",
        "future_b = model_b.make_future_dataframe(periods=2161, freq='H') \n",
        "forecast_b = model_a.predict(future_b)"
      ],
      "execution_count": null,
      "outputs": []
    },
    {
      "cell_type": "code",
      "metadata": {
        "id": "eZrC55ZNrrMH"
      },
      "source": [
        "model_c = Prophet() \n",
        "model_c.fit(train_c) \n",
        "future_c = model_c.make_future_dataframe(periods=2161, freq='H') \n",
        "forecast_c = model_c.predict(future_c)"
      ],
      "execution_count": null,
      "outputs": []
    },
    {
      "cell_type": "code",
      "metadata": {
        "id": "w3dOro5Frs6X"
      },
      "source": [
        "model_d =Prophet() \n",
        "model_d.fit(train_d) \n",
        "future_d = model_d.make_future_dataframe(periods=2161, freq='H') \n",
        "forecast_d = model_d.predict(future_d)"
      ],
      "execution_count": null,
      "outputs": []
    },
    {
      "cell_type": "code",
      "metadata": {
        "id": "gv4-MJvLrtgm"
      },
      "source": [
        "model_e =Prophet() \n",
        "model_e.fit(train_e) \n",
        "future_e = model_e.make_future_dataframe(periods=2161, freq='H') \n",
        "forecast_e = model_e.predict(future_e)"
      ],
      "execution_count": null,
      "outputs": []
    },
    {
      "cell_type": "code",
      "metadata": {
        "id": "PyvxPTtrrtxk"
      },
      "source": [
        "model_h =Prophet() \n",
        "model_h.fit(train_h) \n",
        "future_h = model_h.make_future_dataframe(periods=2161, freq='H') \n",
        "forecast_h = model_h.predict(future_h)"
      ],
      "execution_count": null,
      "outputs": []
    },
    {
      "cell_type": "code",
      "metadata": {
        "id": "kMjkUWIgruAR"
      },
      "source": [
        "model_g =Prophet() \n",
        "model_g.fit(train_g) \n",
        "future_g = model_g.make_future_dataframe(periods=2161, freq='H') \n",
        "forecast_g = model_g.predict(future_g)"
      ],
      "execution_count": null,
      "outputs": []
    },
    {
      "cell_type": "code",
      "metadata": {
        "id": "SibiKwkkOvVV"
      },
      "source": [
        "pred_a = forecast_A.loc[52585:,'yhat']\n",
        "pred_b = forecast_b.loc[52585:,'yhat']\n",
        "pred_c = forecast_c.loc[52585:,'yhat']\n",
        "pred_d = forecast_d.loc[52585:,'yhat']\n",
        "pred_e = forecast_e.loc[52585:,'yhat']\n",
        "pred_h = forecast_h.loc[52585:,'yhat']\n",
        "pred_g = forecast_g.loc[52585:,'yhat']"
      ],
      "execution_count": null,
      "outputs": []
    },
    {
      "cell_type": "code",
      "metadata": {
        "id": "1iBUd2lvkCoO"
      },
      "source": [
        "#testA = test[test['일자|시간|구분'].str.contains('A')]\n",
        "#testB = test[test['일자|시간|구분'].str.contains('B')]\n",
        "#testC = test[test['일자|시간|구분'].str.contains('C')]\n",
        "#testD = test[test['일자|시간|구분'].str.contains('D')]\n",
        "#testE = test[test['일자|시간|구분'].str.contains('E')]\n",
        "#testG = test[test['일자|시간|구분'].str.contains('G')]\n",
        "#testH = test[test['일자|시간|구분'].str.contains('H')]"
      ],
      "execution_count": null,
      "outputs": []
    },
    {
      "cell_type": "code",
      "metadata": {
        "id": "wv0VoTwRz-Op"
      },
      "source": [
        "#pred_a = pred_a.reset_index()\n",
        "pred_a['yhat']"
      ],
      "execution_count": null,
      "outputs": []
    },
    {
      "cell_type": "code",
      "metadata": {
        "id": "Nc8r26LXkQ6Q"
      },
      "source": [
        "pred_a"
      ],
      "execution_count": null,
      "outputs": []
    },
    {
      "cell_type": "code",
      "metadata": {
        "id": "xuyaMV8985K3"
      },
      "source": [
        "#total = \n",
        "total = pd.concat([pred_a,pred_b,pred_c,pred_d,pred_e,pred_h,pred_g])"
      ],
      "execution_count": null,
      "outputs": []
    },
    {
      "cell_type": "code",
      "metadata": {
        "id": "Iat9aO2600ej"
      },
      "source": [
        "#total.to_frame().reset_index()['yhat']"
      ],
      "execution_count": null,
      "outputs": []
    },
    {
      "cell_type": "code",
      "metadata": {
        "id": "jg3lmfYd73Q2"
      },
      "source": [
        "submission['공급량'] = total.to_frame().reset_index()['yhat']\n",
        "submission"
      ],
      "execution_count": null,
      "outputs": []
    },
    {
      "cell_type": "markdown",
      "metadata": {
        "id": "kcl1UUTLPw6z"
      },
      "source": [
        "# 정확도 측정 / submission 제출 "
      ]
    },
    {
      "cell_type": "code",
      "metadata": {
        "id": "e3EG9h5ZBeLw"
      },
      "source": [
        "#submission.to_csv('/content/drive/MyDrive/TAVE 머신러닝 스터디/Gas/211105_1.csv', index = False,encoding = 'cp949')\n"
      ],
      "execution_count": null,
      "outputs": []
    },
    {
      "cell_type": "code",
      "metadata": {
        "id": "-VvhtDZyiUm_"
      },
      "source": [
        "test['일자'] = test['일자|시간|구분'].str.split(' ').str[0]\n",
        "test['시간'] = test['일자|시간|구분'].str.split(' ').str[1].astype(int)\n",
        "test['구분'] = test['일자|시간|구분'].str.split(' ').str[2]"
      ],
      "execution_count": null,
      "outputs": []
    },
    {
      "cell_type": "code",
      "metadata": {
        "id": "MqpSnhYpinTK"
      },
      "source": [
        "test"
      ],
      "execution_count": null,
      "outputs": []
    },
    {
      "cell_type": "code",
      "metadata": {
        "id": "mrPE2ohwhsTn"
      },
      "source": [
        "test['일자'] = pd.to_datetime(test['일자'])\n",
        "test['year'] = test['일자'].dt.year\n",
        "test['month'] = test['일자'].dt.month\n",
        "test['day'] = test['일자'].dt.day\n",
        "test['weekday'] = test['일자'].dt.weekday\n",
        "test"
      ],
      "execution_count": null,
      "outputs": []
    },
    {
      "cell_type": "code",
      "metadata": {
        "id": "NWeEcpDJhHf2"
      },
      "source": [
        "test[test['일자'].isin(holiday)]\n",
        "test['휴일'] = 0\n",
        "test.loc[test['일자'].isin(holiday), '휴일'] = 1\n",
        "test.loc[(test['weekday']==5) | (test['weekday']==6),'휴일'] = 1"
      ],
      "execution_count": null,
      "outputs": []
    },
    {
      "cell_type": "code",
      "metadata": {
        "id": "X4aEnvlDjIny"
      },
      "source": [
        "test['구분'] = test['구분'].astype('category')\n",
        "test['weekday'] = test['weekday'].astype('category')\n",
        "test['구분'] = test['구분'].map({'A' : '1','B' : '2','C' : '3','D' : '4','E' : '5','G' : '6','H' : '7'})\n",
        "test['휴일'] = test['휴일'].astype('category')\n",
        "test['시간'] = test['시간'].astype('category')\n",
        "test['year'] = test['year'].astype('category')\n",
        "test['month'] = test['month'].astype('category')\n",
        "test['day'] = test['day'].astype('category')\n"
      ],
      "execution_count": null,
      "outputs": []
    },
    {
      "cell_type": "code",
      "metadata": {
        "id": "K509tJ73krW6"
      },
      "source": [
        "#test[['시간','구분','year','month','day','weekday','휴일']]\n",
        "\n",
        "one_hot_cols = test[['시간','구분','year','month','day','weekday','휴일']].columns.tolist()\n",
        "test_enc = pd.get_dummies(test[['시간','구분','year','month','day','weekday','휴일']], columns=one_hot_cols,drop_first=True)\n",
        "test_enc\n"
      ],
      "execution_count": null,
      "outputs": []
    },
    {
      "cell_type": "code",
      "metadata": {
        "id": "WUUC19dkilXr"
      },
      "source": [
        "submission.head(10)"
      ],
      "execution_count": null,
      "outputs": []
    },
    {
      "cell_type": "code",
      "metadata": {
        "id": "iXvpRtJgl6MP"
      },
      "source": [
        "test['공급량'] = total.to_frame().reset_index()['yhat']"
      ],
      "execution_count": null,
      "outputs": []
    },
    {
      "cell_type": "code",
      "metadata": {
        "id": "g-emnM5Nn5w9"
      },
      "source": [
        "test.to_csv('/content/drive/MyDrive/TAVE 머신러닝 스터디/Gas/211105_2.csv', index = False,encoding = 'cp949')"
      ],
      "execution_count": null,
      "outputs": []
    },
    {
      "cell_type": "code",
      "metadata": {
        "id": "juHgGhVOtfJx"
      },
      "source": [
        "def nmae(true_df, pred_df):\n",
        "    target_idx = true_df.iloc[:,0]\n",
        "    pred_df = pred_df[pred_df.iloc[:,0].isin(target_idx)]\n",
        "    pred_df = pred_df.sort_values(by=[pred_df.columns[0]], ascending=[True])\n",
        "    true_df = true_df.sort_values(by=[true_df.columns[0]], ascending=[True])\n",
        "    true = true_df.iloc[:,1].to_numpy()\n",
        "    pred = pred_df.iloc[:,1].to_numpy()\n",
        "    \n",
        "    score = np.mean((np.abs(true-pred))/true)\n",
        "    \n",
        "    return score"
      ],
      "execution_count": null,
      "outputs": []
    },
    {
      "cell_type": "code",
      "metadata": {
        "id": "MgREAk9FEGI2"
      },
      "source": [
        "def MAPE(y_test, y_pred):\n",
        "\treturn np.mean(np.abs((y_test - y_pred) / y_test))\n",
        "    "
      ],
      "execution_count": null,
      "outputs": []
    },
    {
      "cell_type": "code",
      "metadata": {
        "id": "ZWvWmG72Gg7L"
      },
      "source": [
        "submission"
      ],
      "execution_count": null,
      "outputs": []
    },
    {
      "cell_type": "code",
      "metadata": {
        "id": "43Ns5FDWu2kF"
      },
      "source": [
        "#pred_tued50 = model_xgb_tued50.predict(test)\n",
        "pred_tued = model_xgb_tued.predict(test)\n",
        "pred_tued100 = model_xgb_tued100.predict(test)"
      ],
      "execution_count": null,
      "outputs": []
    },
    {
      "cell_type": "code",
      "metadata": {
        "id": "FuP5U3MgHAxw"
      },
      "source": [
        "nmae(y_test,predict_c)"
      ],
      "execution_count": null,
      "outputs": []
    },
    {
      "cell_type": "code",
      "metadata": {
        "id": "g_X1VspDJhWX"
      },
      "source": [
        "submission['공급량'] = pred_tued50"
      ],
      "execution_count": null,
      "outputs": []
    },
    {
      "cell_type": "code",
      "metadata": {
        "id": "Ox1y_6rK1nea"
      },
      "source": [
        "pred_tued = model_xgb_tued.predict(test)\n",
        "submission['공급량'] = pred_tued\n",
        "submission.to_csv('/content/drive/MyDrive/TAVE 머신러닝 스터디/Gas/211128_11.csv',index = False)"
      ],
      "execution_count": null,
      "outputs": []
    },
    {
      "cell_type": "code",
      "metadata": {
        "id": "6NhQCMzjNav0"
      },
      "source": [
        "submission.to_csv('/content/drive/MyDrive/TAVE 머신러닝 스터디/Gas/211128.csv',index = False)"
      ],
      "execution_count": null,
      "outputs": []
    },
    {
      "cell_type": "code",
      "metadata": {
        "id": "y-8BdBkqXGAo"
      },
      "source": [
        ""
      ],
      "execution_count": null,
      "outputs": []
    },
    {
      "cell_type": "markdown",
      "metadata": {
        "id": "iS_f-L5GWLML"
      },
      "source": [
        "#Pycaret"
      ]
    },
    {
      "cell_type": "code",
      "metadata": {
        "id": "USE51dnviz0B"
      },
      "source": [
        "!pip install pycaret"
      ],
      "execution_count": null,
      "outputs": []
    },
    {
      "cell_type": "code",
      "metadata": {
        "id": "hRPcd0tJ5qx_"
      },
      "source": [
        "from pycaret.regression import *"
      ],
      "execution_count": null,
      "outputs": []
    },
    {
      "cell_type": "code",
      "metadata": {
        "id": "UU3I50dn7zHN"
      },
      "source": [
        "df_py = pd.read_csv('/content/drive/MyDrive/TAVE 머신러닝 스터디/Gas/gas_train.csv')\n",
        "test_py = pd.read_csv('/content/drive/MyDrive/TAVE 머신러닝 스터디/Gas/gas_test.csv')"
      ],
      "execution_count": null,
      "outputs": []
    },
    {
      "cell_type": "code",
      "metadata": {
        "id": "UPsMdmqx73VX"
      },
      "source": [
        "df_py = df_py.drop(columns=['Unnamed: 0','Unnamed: 0.1','연월일','key','WeekNum'])\n"
      ],
      "execution_count": null,
      "outputs": []
    },
    {
      "cell_type": "code",
      "metadata": {
        "id": "m2m3It0bWLAD"
      },
      "source": [
        "df_py"
      ],
      "execution_count": null,
      "outputs": []
    },
    {
      "cell_type": "code",
      "metadata": {
        "id": "i-u9XTf2WOUi"
      },
      "source": [
        "reg = setup(data=df_py,\n",
        "            target='공급량',\n",
        "            session_id = 201,\n",
        "            numeric_imputation = 'mean',\n",
        "            fold_shuffle = True,\n",
        "            numeric_features=list(df_py[['Year','Month','Day','시간','기온']].columns),\n",
        "            categorical_features = ['구분','Weekday','휴일'],\n",
        "            ignore_low_variance = True,\n",
        "            combine_rare_levels = True, rare_level_threshold = 0.05,\n",
        "            remove_multicollinearity = True, multicollinearity_threshold = 0.90,\n",
        "            normalize = True,\n",
        "            silent= True,\n",
        "            use_gpu = True)"
      ],
      "execution_count": null,
      "outputs": []
    },
    {
      "cell_type": "code",
      "metadata": {
        "id": "y-PY7CL0ixCb"
      },
      "source": [
        "top3 = compare_models(n_select = 3 , sort = 'MAPE')"
      ],
      "execution_count": null,
      "outputs": []
    },
    {
      "cell_type": "markdown",
      "metadata": {
        "id": "pixJnYgspE9F"
      },
      "source": [
        "![캡처.PNG](data:image/png;base64,iVBORw0KGgoAAAANSUhEUgAAAssAAADLCAYAAACYl97yAAAAAXNSR0IArs4c6QAAAARnQU1BAACxjwv8YQUAAAAJcEhZcwAADsMAAA7DAcdvqGQAAEyrSURBVHhe7X3Pi13XtWb/KwUZCDIw9KAggyc8iPDAIoMnMqnGiIIMBA8iCB1MIJgUohAEk0EQjwTzIJhCj0IQUCCghkDRGEkDUaGfkRvy5IFaCghqYKgGYzUEdu+1f5yz1tpr77PvvedW3VJ9H3z2PWf/Wr/Purdulf6LAwAAAAAAAADABJplAAAAAAAAAKgAzTIAAAAAAAAAVIBmGQAAAAAAAAAqQLMMAAAAAAAAABWgWQYAAAAAAACACtAsAwAAAAAAAEAFaJYBAAAAAAAAoAI0ywAAAAAAAABQAZplAAAAAAAAAKgAzTIAAAAAAAAAVIBmGQAAAAAAADhznHx15J787TRdrRHfvHBHf3nuTt6m6wWBZhkANhxv3xy7o0fH7tW36cY3z+V1L96euOdfLLDu9IV78oUvLv9I1xcMXXYjHf9yXBTQt29euBdfPXfPE198/cqdXlA7zIlT/2B79MWLwRanXz8R1+70lXvy50N3+OCRO37NHoD/eOtOXr4Y7Bls+vLULfncWi/+cepefZ1k/dsrERuXQv8KTl9nm7xwr75RkpPNnj1yh/9+6B49my9XamdO5vbbU/fii4denofu6MsT93bwj8/3J8xfCmed96vUKLJNlvXFS6ajx2x6GHEb6PPi9NvGWG9gvzly+x9edR//6ZXMhVoerYC3Xz90t9+/7vaPTtKdxYBmGQA2Gm/di4Ndt7V1ze0/oaJB1zvh+tNnCxaRN4/cxx/uus//1lfJ3n55z934cN89+SbduFDosdtb9/wPdG/bffKXsYC+/epzt/u9LX+f8YefuEeve58A7yj+ceIe/eyK29r+2D1646/fvnIPf/peuD7y129f+vj6py135cMdt7tzzV3Zuu4+DQ+mt+7Vn26797g9Pbd/euhe8KZgE+CbvuPfXBdybv3gtvv8Sx8zl0H/Ck7+8om7KuS/5j754wuvmYd/E350x9vsvetu99auu7F9xV375SP3asV0qZ85kdvfvnCHt8gvN9zuT274Pa64nd8fh2axVdPOPu+Xr1GnX37mbnA5Pa/fPQoN9ax6nD53n/3Exzzfi7h92x3+r7/Wx77uOcvr9m87bnv3M/c8q+tRz6NVcRrOu7r7+VJ5h2YZADYauaBuud0D/6DwD+yjX27761xgF8ClbJYbdqOHair21+4+GT55oYf0dSrgF6SROTPkZtE/vO5R83h67D79kB6O1DxGe1/76cPUJNFDftdd/Yl/MP1fakBvuBu/iQ3LRiPoeC3GTLp+cve62/6XQ/fq20ugv4mk288epZ8y+eb/zx+7az9MbxK++sztvH/LHaa68vblQ19ndtxnX/XVGRutM9u5fUp160efBNkIp88+dTd+eNs99M1iq6adfd639QjorFGnvkG+9UNf273N16OH9gdHa6yBb3z+/PM19/Ej3ginvaw8mkGft68futsf3HD3/rrgs9MDzTIAbDTGgnr1V0fu5Bv/Tv/H9A5+LKinf3vo9n9y1d97z934xefumNWety+P3L1/uebHrvgCuuOube8MzfLbrx+5T3epOF9xO3ceinf3hHelWa7ZLRRO/1Df/81td/2je4P+aJYrCI0kPbivuNt/euVOvz50t67oZtE3lalHentyHL8j+P8ucLPscXLk42Hnnjv+5hLobyLpxpohaohvpzfeoRn9sbdPrh/+TcS9H193+1+s8mlg68zTZm6f/pXq1tgsu29fueNHR+6Fl29Tm+WVa9Tpc3fvo/gVg4vSLL/92+du98P4JmZE2svKo7C3f9N0dM+/MfB2+t519/HBsTjz9KtD98mP3ws2vfYzehbyvT3CT4NkfvcCzTIAbDTGgrq185k7/soXz21WUE+euP0fbbvd3z5yx3994j7/+bXw491QaOhHaL4ZvnH3oR87cp/Rjya3UrPs39Xf+/G22/kNraOxbXeNCjYrPO9Ks2zazSM8VKgJ+tKPfeDtkj4Jo/vX/nnfPXw2fg/von2/dC0YmuUtd/3XT9yLo/34Y/LQLHqL0yeK7/s3bL86dE/4AzB8teGGu/Zzf//LbNMX7pV+kG0CdLP87Qv38BfX3NWfP2SfLL/D+ptQzZDX5/nBLbdNtYH6YX99knXxr188iJ8Ar/b1hdaZE7nt697nvp5tf+Rz+K8nIm+nmuWzzfvVahRviOmT5d3346f569FD+UOgNVbHyRf7Ubf0BiCjmkce4Ssm/+TfFPzx2B1/8bm7/cOr4Y1rmPXmyH3ygb/+tyP/THvk7vlnn36mhVz8rX/j6vN30TeuaJYBYKPhC9G/77rt/7rtrrx/2x3+8VN3nYrr92JBPXnkH0zsU5239GnXB+kTH/pe2wf00Ipj4ROX9MlyKFQ/Sg87GvNzd9hcwoVvlht2o6JJP16npuf09IV/uF5ztx7EoksPm22ay/mRfzCpon7pQI3kz6+697avuO1bn7mH/7rjrpBt/ik2iwT6haXDX93w96+Eh134ZIceUPp7wJ7B9gs+sNYO9oZg5NX4S0GXQX8TrKljvPFb9Un5N8/d4S+vuys/uOU+eyab1MXROnMitwnfvnJP/vBxuL+9+6l7lP7awlSzfLZ5P2+Nuv5r3xj6wfXoEf0xa7Ps5ax9Am7mEX3n2OfctV/4c0Jwkf1uuWu3Dt0Lf02/F3CNv4H466G794cnSqa37vnvd9x13UR3AM0yAGw0UkH46Lbbed8Xy5/ecNsf7rqdH153n/pO98UfdtzV4ftdHuF7YH7smW+k6cfH7Ed38Ud68ceYr/54Kz7oBW+I7xle/Ga5ZjdvEPpR8T9vuSsf7Lhb4ZeS/EOVirAvoK0ifqkRmsVr7sZP/YPx/V13+6Or3r7+Nb3Jyj/yTjj9+sjd+8l2+K7vxfvO8lV349eP3DF9KvflsXt454ZvBNIny++6/iZiM3R19547Sp+MP/l3/yadvuqQ3mzTV7o++dF77trPjR99L4XWmRO5zeEb+Id3b7j30ifdU83y2eb9ajWKf3rMPzlejx7RH2fxyTKHzKP8nW713Ppg3x1/E39Z8PovJ5rg9Mnydfb9716gWQaAjUYsqNd/ds99uhOLw7Wff+o+/lFsll89iO+sh2b5zZH7OP0Cw+mT9OlxejCE74i9nz5ZpmL7o0/GH9X99cgdHjxyz9lD5F1olm27+QdL+KWkXffZUdT/+I/eHh/Ehz+a5QpCs3zd3frNPXfrv5JNt92tX3/iY8Q3Iv/nhTv8lx3xPVWy8S6N+Qf5xWqW1XeWczz4h/U7r7+JshmK3x++7R6+9FYKX/e66nb+VX+KtwpaZ542cvvv7vnvd93uv3pbx2XxA4T0HepNbJbnrlHr0aP0x4jWWB1BP/XTTPd2Oo/ou8j560zHXzx0n/+RvrecZRg/OKK/qvHZ79VfZcnfWf7Dcy/1YkCzDAAbjVRQf3noHt6Jv6h3698O3b4v/lRQw9cnfEGN32VLvzGevl7x9vWj0DhTU533ee9KbJbD35z8oW+qw58ooj9t5ddRIWafkL0TzbJpt/gm4zr/RP7kyH3yobcVfSKPZtlGapZv/+Ghuxd+EWnH3Xtwz+3Qg+zv6UfGd/InOz6mHnk7Uiy+ufjN8rX8C37vuv4mymaIGtf8da+TI/+m/MefevvEsXnQOjM1y5WaGGpg8Fda9/Whr3U77rMvfQO6ic3yzDXqojTL4fdtPrwm/iTe8NUTK4/SmwT6kIf+Igrl6pGfm3+yGn7RlP4qS/izdfGvaGzT10+4Heh7zR/6N070yf2CQLMMABuNVFB/9cgd+//T35y895ej8ElJ+FGdLxhPfrvjrnz/utvZveG2v++Lz5/Sg94Xnuf/fttdfe+a2/noevo7r7FZDmP0CzPfv+pu7Fz3+9Ifhpe/IfxONMuW3f7n/3YPqSHiny5Qk/TL6+HeifE3TLe+n4vwJUZulh8cu0e/2HZb73/iHh2lT338m6zw91Hf33Lvfbjrdj+65q5cue4++TN9xzL6ovjaz45/kC3+zFovjGY5fNeffoz/90ugvwmjGQqNGzUd8atgQq/AVJ+WxsSZtdymM0/p00nvn/B3lnfc1e9dcTu/eRL/BnH+CyZC1viLc9bfLl5v3i9fo/7eaIjXo4fhjwGtsQboKxH+TeT2Lfln4ep55JF+4fbKD264nR+Rj2/Fv4FOoL/37ZvnLXoW+ufdlS3/LHyU1gWkBpr/5ZYFgGYZADYcb18fh38O9C39S05fPHen9K9TPXsS/hRSAP0rS189cY/+dOSOX6oqQGN/82N/9AX561fu1Uv2LznlMVpn/StJp6/cceNfu9p01O321r3y/+dfOSHQv8b25OtoB/0vYD3Hv+Dn4ePlS2+3N779I9vSv4xGf5brCftXHr89cc+fPHIP/xznDaBY0/+C3Uz/Mte8iLl0zH8Ln3T8gv4Ftcugv42g71fsl/Z8o/PiideRfoJ1onKFqP7lw2XQPLOa2+PcV18euYeh7rE9PIrcpn9xLvnvrPO+rsdEjfrmuXvyjDeCEuvQo/AHQ2ushdgYb7tbD+QHNdU8IgQbed8+OnYv9Ac55Hd6Fv75yD1X+fX2b/6N0g+uuY9z470g0CwDAAAAAAAAZwx6A3rkjr46gzeO/g3G0RF7Y7sg0CwDAAAAAAAAQAVolgEAAAAAAACgAjTLAAAAAAAAAFABmmUAAAAAAAAAqADNMgAAAAAAAABUgGYZAAAAAAAAACpAswwAAAAAAAAAFaBZBgAAAAAAAIAKqs3yf/7nf4IgCIIgCILgpaJGtVn+7rvvQBAEQRAEQfBSUQPNMgiCIAiCIAgmaqBZBkEQBEEQBMFEDTTLIAiCIAiCIJiogWYZBEEQBEEQBBM10CyDIAiCIAiCYKIGmmUQBEEQBEEQTNRAswyCIAiCIAiCiRpolkEQBEEQBEEwUQPNMgiCIAiCIAgmalyMZvnlgbu5teVu3n9tj4Obw8d7bsv7inPKb0/vbLm9x/bYQjTOjrzpDl4a89fGp25Py3DnqTEPlIx247Hw+v5NZsc991TMz3ztDm7WbS32uHngXof7ho/EuNzzPGqP1H1kmSul3aT8Ov5bY5nSPrUz47jyC89D7guRn+vNSdvnxNLvdu3p8X+cw8cKn7GzW2OzMT0r4xl1G1PNHeQQ+dKjt7dhIftUvCzITj3qfibW4nxKx0ZsL8pZ9EgM+aPlsXQsY7y579pIsrVqdkuXVs2txFrl+T/us1iMalyMZjkZoW48cGNIvlowKWdrlhmp+JxfvFBSlsUZ8dtmfmCMsfDUHXCb1WLr8YF4CFE8DbZWa0KTUHnjwuNQ7JH8N3eMLkx68Br6l3bT8fbaPX0sdbHHRr6+fzA+yMIDn8dzfOhwPz3Nr0OtZg/Bx34svPbn3md2D3uu2IjU2PS5l72jPnX5P+jK50Vf1OKkNTYPVd3RvkgM8cJygOs6pXewpddZ52E7XhZlnx5tP9fjvK1jI7YX5hx6ZEY55fq6jpq053pjTzLXpGr8GWNtv2Sq+81YI/vnMxZZF6mxUc1yCJJgxNGQo2EzV0lCcO1UiZ8Z/Mjux+vfud+FApBJPqeg9j6+T4VlTB4RG5Vmh5P2l4m3yJ6xYOYxnrDjmlYcqiLpKeWp7x+TOI/teZm9nZJscY+DuDbbUsznZ7IzdCEu5urc0/skOfxYWbxmYtBjz+15OepnRFl08S1IMZhsRnqV9jX2oPuDnYxz2J7nxUIXomW3lqxL6ZHyJ8WEjOX6vDYXmbsYC/m4zsLPNfb4n+b45veOPMv0UcfYLCxkJBvrMw27DzaZ0DvPm7Thir7t0mMit4s9Mts61mN7Cc6hRyLJtXXH5zm/X9VRcdJfczPb2LB1daztl5F6Xj3WpC/712VqbEyzTAEzPqRJMX+dHUxG89ezBTG4PpKvzMTkhUIGriwWcZ5IEp/sB8M4rZ0uxDJRyj1j8cnXXDb+2pMVLrlGfeopqGXs279cl/IgnRnOFwmv5g+2V2ekT15r8of73Gch37hM6869eAbJ22woqrElSXtEeckOOla0jSPluTSH29nzzB84iub5tt3i6zim3/y0xqoUZyeb+pjib+qCrdK8pyFO0xjLuWJPbeO5qGw1xkMaG+SuyTfl/5hftCflDs8NOmvYW9m2NTYHtSxEoXtgLSdI3ym9G/c4p8YnuJoe8R7Nt+O8pWMjtpfgHHqE66EeS9nrOkrGeeX99dOwdXXMmFuJI6EPzTHPKPfrWzdSY0Oa5eRwVrhIscH5IVh0kIEbyeSrkSyBU/AfqOSVyWwVD8me5JeFSu9pJCbJTfGX/8/GhvOMMZspni0bNPYnmfUYv6eLb1mMRz1NG5nyk6ylvcf1hq1mJp2V9TDlJobi1o4LYrDXUGAt2Y34Mooylymu8X40CvdZ0bJLzW70Wjzkye9J9tZYuB7IYliMl7YYYjT4qLRb6c+4t+nnuZhkIflljnBG+axxblutcysnBcm2tdxpjS1JHgOZlnxcfiKPiZbeeb6VL/V4WZx9erRzm+sUxlQO2DqW+mpbLcI59Ijj/PU4t6XjsJfpq7OipVt9rO6XcQ6fG5+t9v5W3BOn1nFqbEazzAqbZAqSUFjsogZuGK2EZbSKjywqvFDIOTw2ph60Mln0npSocr9AkivFmmY+L8hP95oFiBe4mPSDLI39rQTn9tLjgyyC8ly6Z64Z5LcL2nhWq+CtTq2TjIVxTtveRGXn4Z6OpVIf2r+Mp9F+xL37vkYt+dBcnV5mpX/LbqUNRzu0xsZ7iqk+x3UNm1oPZop3brcQ/+uLJ6KOl2b8aPkGVvyv5ms/SLZs22H3BWnJYuVTvp91C1/tGuxT0Zuvn2rARLwszj49GnE4Ob+mY3vP8V4fV9dDj0lZevYiGZb1w+ps2c4aq/mFz6F1XG99TaR99N496yQ1NqtZLgyTmBqMelECN4bkq1ohDUV2zxdmGaQy6cuE10WhLBIlZaFqFx3B6sNTsTmP9tfnpevGOqu40r08X49b8y2a9hrk0LJGjmsatlqZtPdYHAWTziTHtI62DsRC9+JB36dfr63XwfLstt1Km406tsbGeyVHGeIDzbRpqONyLy47va7F/nws64d9L7Ez36Me/xF0N+1u1rzGuc2xJVno0nnGgjWpzKGS5rpedurRyu1F4nyUlc6ZqhcLcFU9aL0Va540f1rHvtxeH1vnT8tmxpAVq/pez5zaPUaNDf3OMtEbMysSirAfbygGbggpAKsPjlQUVAGSxUIXFHVN+6diEcdtykQri1SINx5Pft+4JyWx3P/pnZjU4je+q3oSaQ95HskTz6vvH+OcrVNxXxQPPZ/0vEMy+f+zvzyQi2pN/iAb1yXYOBey6aI2J0UskBwdOS/jR1H5KdtCjBtnlL/df3Y2kCxj12JhNybvGHsTYwNl/OiY1fEy2pRk5fZleaByfp00fZx0fn1/j9myzMXMXv/LnPT7MVtKO7XG5iKzN12r2B8o/nqMXNOld+HLdrwszl495H3h90act3Ssx3aavxBn0EOQ9mP+aOg4jBe5fZZU8k6MdceeuK9rTrRfEXsd6zQ1NqZZzsKP756kocgA8T4LPnDzGBKY+9HTJ2zwH0tccT2sIZ9THCgf8z3TXlOFmArHmAjGnjreeFEJiTWOjWdRguf7rThURTKQJWd1f0+uqy+g9MtSWQ+pkzFfF2a2TyzEdfnH/CLy3GsVvPkpfCt0y4xyhwdDkkvKnqgePsN97mdP06ZE4aOz079kn/11TkT7JPnVA9oeS/lQ5GSkzre6TXmMsXUq5ovxWalyu4jncUzWCH8v69Lpfx0/wrZqXWtsNgq/jWfEs/N1vQ506U1zVExNxcvC7NJjOreHMS7vhI6tPRfmDHqMLGtBVcc0Zta2M2OrdhljVb/EeB10UbEmdaQ81s/exOa6khob1CyDIKh5/gUPBEEQBC8XNdAsg+CmMrzTrrxLBkEQBEFwLdRAswyCm0LxYygiGmUQBEEQPGtqoFkGQRAEQRAEwUQNNMsgCIIgCIIgmKiBZhkEQRAEQRAEEzXQLIMgCIIgCIJgogaaZRAEQRAEQRBM1ECzDIIgCIIgCIKJGtVmGQAAAAAAAAAuO9AsAwAAAAAAAEAFaJYBAAAAAAAAoAI0ywAAAAAAAABQAZplAAAAAAAAAKgAzTIAAAAAAAAAVIBmGQAAAAAAAAAqQLMMAAAAAAAAABWgWQYAAAAAAACACi5Gs/zm0O1ubbktz90HJ+kmsJF4tu+2dg8dvAQAAAAAwLuAC9AsH7t9apTRgK0GamLTG47M/WdpbE6cWbOc4oLzjGLk5MHuxJs2Q7a7x2kMqCPajccl2brPvyfucDfbe9cdvkm3xX3Pwg/cV/v+SsOPn1PtEbozDvZhHyKMOit9B2bdpuyRIPYm1m0qckHUGcuehLh+nR98tOKmP6YiwnxznqGH6RMFb6O16d5zvsfx3TzHU8RAw7ce9XXtsYXRqYftSxXjA3U8Wrkta/fKz8iV9FAIuVXJ44E0LnUY2BHr84Jk1DZXcos4kXJXc0TUmJpN4znDHmLNyEXyEM3yZQEFC7dhSOJ68i4Nfc7aQHGxBvk7QIWtnWRaNpW4gIn8wBgfUMfukNksPIzNh7C274k7fpZePzsUMUJ7jPNibeHnHbOH4/Dw35TaQzk7yKJiTDxIJUS8Nu3BQGdVGh65Jto+2tC/fjCuCf60bJceXOa5c0DVIBE3rTETjedPoYfySaix3Cdpr7Xp3hcTwS9MZ+7Pum/1OplzrbHF0RnbC/hS5IBHmGv49eTB4XjOys/IOfWINq3lOEHryEF7rtz4L4AQDyHWlbyN+iNsn/QtZfb3WY0pcywh2LoVg+Sbui0tbFSzHAPYB9eDqOj+/yBD0L2RZ+nwdwoqIWMw8kKQkzFyDLIUVCn4AkUi03hel3zHzhmTJpL7Lyb34bg+rONytAqVKkQCXKa8bwLpcdcnLC88IeHyfL4n2yftMRTZYi5HKZssZFI+EdNCln1vz/EhJOyVdVpA9nB3kF/KV9eL9kly+LG15V8qevtejuoZwXdGeavdt8DmSp8okDxkt/z/dPs8QT4abFPIFf1UWqF2P2Fhmxr71eaatqP1u97PDduviMKvLZ9X9Ywgm+/e3e/Tw9iL+yyf3Yy7VVCcbzUcuu57DH5q+dZYR2PJLiI2PVbSsUuP8sxcQ6QHCEqvrK8ZnxyGzotgRj3Inls+Duu5bPguY1LPuZFlaciUUdhoRF8MWT6ic9s1Zpn43MBmeWQMIFLcX5+ps99BsMIWoBOSv+MTY8n+Q0DHQIxzdfLH6+EcOpOfEfYdAzsUADae/Z/3iwViWK3A5eCIMvBECPvmfYJMfJ3aZ7CT0o3ZZzrRtGx8L7VvYWst2yi7tteiskt7jp/ahvs8NoTfogyLFpbFEM8geYsHB0NtLN5PtgrkNpSguVEXspGf523D35yMtk048wdNBYUcSf7C9xJTsTraQyHEQLYLn0N2Vnaq2Kg8O8Yl3ZuSayUoeYSOrTGFIS9M2xt6kM1UvbL0XJfu1r6lfipuArJPW76tjOV7Qvdon1oeT2E1Pcrcr9q78KvC1PgEZtNjqMeGDxJaMUVnLuuL1VCXN6Oef50xxGMwIK6jPes2mZbLwkY2y1JBUszfXyFoAQ/18GvbkydwGVhD8tGeep/hnh3sPICLYBYF16NZrFJcMIa9LJm4DuqMMqFG3WtFplWYIrRsqvCpB2o+h/a1Hrb5nj53YdmNs6OsTL6EcX3p/7lBZ2U9tNxB/2RHyxcEWiMaXTMG0l7D/RiffB639YAVH5hzwfRn1oHsY8rY9p20RwsxnvP53F+FHcn2yV86R7h96bUenxXhIWrL0RzL4A9hFQN1PVQupXMsO6xDdytGrLO4/ASeP1XfKhtEqPhivq/lag/69LBie6x/Ixo5UNUp6tCXG3XMoweN89eWLovqeFZoyOUR4rAiW4jJ4lmlQftLG/PYLm0dUbs/hc38GkYR7KsH7qUHbyBCEdd2Zg/ewHqCDkXAar6Gc6zC5cHWFEGr92smOsnV3n8Ek0WNh+QadNa6jzbhck4nG5ct7jHMp/OL86I9rX2DfBV7LSt7mDfYtfQvYTzLHp8LWifrAZMR6oMRD+UaHXvKBwF6DsHQ9VwfNhleLi2DzmErp32sSZ0zLHu0If00xhZx/4E/u8i5uGZ4E2Pk3SLnL4JwLrMXv26NjVBxwGNgSo/gh2yb+PUlHc/Fmplg7VvLp5BLSc7w1a7BBjXftnMj7Mfsoq8XQZ8enflbzQEP7lcLyZe1ejSF1fXQY4Z+hIaOJMOy8q+OirxBr1r9oTUdNqc8NHw9XWPobEumaaBZviygQOI2FNc6Kfl1GfBDwqvgDBj2jQmhg54HcBHMer9mMSO5dKx4aD0DmA7qDDuhSvAiN71Gy8auLZslWPvSvTxfjy8j+4BBDtuO4xpmu9lBe8eHckHTRrYsJKu0A59n6+etV8anFW9TD9QzQC0u2vd0TmfU7NFGK9bqY1mGaGvTz7Pb1tKby1EbS5cepI8p69Z/c/99x7rvaephnRf3r9lyJRS1xT6/QFdNMvYSNUTnpZ2rXejUo6hrRa5O6N+R2yv5alU9aL0Va57j/JaOK/hgFtTioiIv6d0hb8jPIl7JDratRG42Yn0KaJYvCyhIikJiN0TxYZH9UAa8bKR44ipfhWRna0MyjP4tCpEO5GYxo7OspIt68X1DXOV9rTPEPn79XTrT/5/91i3tkfecLqClbGOCa5vR3slGWpZwPcpenLug7OK3jVk8BNm4nYXfSF7p/3VijC0P9ZvThZwZKs5GW6v9FPR+3McDmjF4FqB4NuKc+S9CxVVF7pY9OIaYJKg4K/9iwBi/h3xv5ReOIpZnROFHJkdrrIpGDEg9ZN7xOORYn+6q7hQxkiDySq6p+tZD6kNxmWOJv44Ic5fOm1495P3Ctw2/BRTj0n9Rjr58sTGTHgNoPxWrLR1pXyP+zg6lvPX6U6lzGlM+ZbDyrH7+NNAsXxZYiRqKYbR3KG5kZ89dXzDGwJ0I+LBHXBceOuocvq/2bRHMOrmbiaEKkUCKmUy+p1VA6J4lI7/P5Rh0bp2vx+IDJegrbKaSV515zGxkJf9isnO7SPli7mVyf5f+XydkMYs2K/XIcTXKJeKMzZN6TYxbD5ZmDJ4F6vaXuWXEkaFP3R7J1nlNK0bFmJStHkcSZizPBhU3Qo7amNKfoxEDWg/hE2svj7XqLurBqHeUK1/X60DLt4ON0rjUge/puWrOdOmh4k3bu5IDAyy/inNV3C+DOfQYYNSCho5rjbMulPJO1h89FnSLsRV0UXUp0/JTqT+dUXtmT2OjmmUAACTOv+ABAAAAwOUGmmUA2FSEd9HLvxMGAAAAAGB1oFkGgE1B8SMmNMoAAAAAcN5AswwAAAAAAAAAFaBZBgAAAAAAAIAK0CwDAAAAAAAAQAVolgEAAAAAAACgAjTLAAAAAAAAAFABmmUAAAAAAAAAqKDaLH/33XcgCIIgCIIgeKmogWYZBEEQBEEQBBM10CyDIAiCIAiCYKIGmmUQBEEQBEEQTNRAswyCIAiCIAiCiRpolkEQBEEQBEEwUQPNMgiCIAiCIAgmaqBZBkEQBEEQBMFEDTTLIAiCIAiCIJiosbHN8tM7W25r66Y7eGmPgxeNT93e1pbbe2yNJb48cDfhcxAEQRAEz5EaF6ZZjtd77qmaB87P1/dveluTvRlvHrjXxtzN52t3cFPpknnnqTF/DsY3Bmdz1rtBHnM3778ex8IbqGzH+hspEbMiVpX/Bz8YPiIWce7nnVHskw76zWSse4w8jh7vsTFZG3vtIWw9cMo2clzIXPOXkHWkff4iJH30c6Hmc2KpW+0NvLB93mNKj0a8FnV1HXHVmS+mbh1jkUZOiHOJ9bO7uHLet/TozIE5/DODHlJevkc7lqf9uGmU+kzWBp+LxZxGTez1RabGBWmWc7CgWT4LhsRVyRWTeTrANpuUjGcRQ3QOt1WM39Ubg3eTIbbYA+L146fptbJjKISG/+g+Wx9qR47fxwciZmms5gcaMx82czw0W2RFvGyWKzkX1jBbcBt02yM+nGrNIie3zev7B+O5QY4so/KXllFw9VwcGwy1T9Pn/twOf8oa2Mpfrkdbf9qzx9bLU51fyRepm7TPlN7VnCBd2Z6rsU+PVpy3dJTxEHVcT96vrkfpg9fu6eP82u9fkbE/fjeHoq4YfhlJdo0+kjr5NfdHnwcbDPZRvmjWpkiNzWmWQyCNQXoQApaUGw0zcLakBC3qQlO7H66zT0TSxkCPYzlAyY8sOEOwpjl5T7rH9+Fz+DxPOvumT4zynBaVDBRzd3yshT3SfXGm3LOur6ZKTM8oLytywxmqIIjz93zyjzaPexzEtfn8qrzsDCbr8CBQ8o339Vi0WZDDj83/sFc+4Qz+4XFoF1BpW89iHWNtzIo9utb310CyPemU/z+Okb7ST5mFzmxusU+IEdvG5ZkGmzZgMhq2re1fyr8oc9w04ieTy9XpTy13TV5xf0L/LluvwuJ8K1+MmGI2aeqd51k2rOXVMuzSw7AnyRVioaWjES9WfFg6LsqV9fCvW3ZtyNj04wXhVM5N6sTtY9hxKh81NqNZDsHhH9I8YMVDOwaZ+a4MnJ0UhGaC6uBjiUqBFwM3+moMYn8d3u3xIkWvx2I2vKMUyU9zeDDLfYOMYo+KzIKqUJIORWPIrrmOVX3TXEG1jyiS/LVniHXbLtkGWa+oM8+BmrzqjPRJm7SRf6PBbcl0i3bhMrV0XZF0lpeJ7Jmbde5jfa5pdxE3bd/Uxui+WTjV3utkKUP04/gmZvR9zTZ7j2kNjyGijit+n8eTzaptiLomqBy05Ow9t4/Tewmfh3xjNq3VDKGLyqeB6uwJ/UmO0ZeWP1ZjX77U4iPp0aO3lRO0jtm19Hk/V9OD7rV0NOLF0meGvF9djzh/7zFdG3HTiuWu+N1kTsts15bK+ERuWtTYiGaZhCZnc8PEwpIDIxoOzfLZMPhDBVZkLjRGgufiUi0yvEhZBcKTrTVlUOMi0KvncqpCqRKoTJ4sZ0PfYS4nL248jj2NpI0F0daZ39Py1eUd9xzHPI2zeWHm98f1ymZzk2QSuT/KY+lQ6pxI/kj2Nsc9gy0tn7V82RVX89D0GaOQP+irYjnY0fIXj196neOyw6+m/iy+xZiKpeQT7Y+qD5diOz6rPg+MtqjKkmwa7VqOl3r06R8Y9p43r3rzJdiE1QFaJ2SZ0Hs6J2J8tGK5xT49LL+Pcd7SkV6Pe6V80PpM6jjNOfQwfWPKZcTylB83mEHv4lklacU217m0c2duJmpsRLMcA4IpUtxLAV0EFbgO6kIzcCgg2R+KNEbBaga5LgqxoNK6IZFZgTITge1RjHcVNyWDkjXozfUJpBhs6Jv3EuSJqYoYS2ZOsoGlM/eFHq/LO55L98w1g+zaL+O8uM4en41GvOSztb7E2gOI+0Jfmw8SRppffZjM8NDspaWbpBG/2e9exoPw/WbSNcdAZZ24335gNG1DTA+dYU66jnLFr+/I9STfnPFU063t84GVeqUf1vq6qsek/pmWn1Zjb77k+zl2wle7UoxP6+3ZkROWLL3s02M6zms65tjIY3t+rPi+9Qx5P4ceffMTWSxrv+nrzWWsSXbOSE7FGI2LnrE7NyM1NrRZzsGc7+VrqyiCczMEmZFY5KcYnBMJaxaZ1kMt7cUKlCmDGheJ0lXclAzqQVlPvoa+JukcPp9dVx7OROt8bgc9XpdXsiy4noMcWtbIcU3NbzPRiJfh7MJWlh+m7tn6jZzQb4aHZi9NPwm2ZB3Hin1aOjTisdf3C+VN87xlaMlI91o+ZzTlqe3J7nXp0aobrbEl2ZUvBod1HXoTO3KitzaZ7NRjrjg3ZZ0j72fQg8akbJaPEhf146aR9F5AxukYWy3/NDbjO8vkZOr2c2AFo8kGmoJGNtTgukhBqAtLsD8rHmEOLybeZ3shcCkpeYL7oDS+s5y/LxuDNhULUaDiPmMRifPyvkWiiLU1qoKhi1mIOx5j/sw7cc+6vnkuJ50jY3W0qdaLbJtk0ueH6zEvTJ1NebPN4/1ccMVvG5PuSZ9Ct5CPo6/WW2SVPYJO/GymH5OZ71E8UJj8NCYeRJo6BjRJnsm4moeFrP5sHmMhBwdZeQ4pGyg78bGnPgZGXWROFTRtI2NL+k+OjTGf5xo6rswyPltnvL6/x/JFxd7AaBd+X+eIfUZLf38Ws0WRc7OwL1/Kv4iS10zrHWjkxFDD8rioS4uyV496nNd1JJ30X3Mx6tsseT+HHn6Mycdjqh7LnX7cKJLMi8UM6SRql/fZAc9JYbtWbtrU2Ixm2TMIT41B4J4vLPR/ZrwQ1Gl8QklwNUpfRFoPVErqYY5IxJi4cSz7kO6ppM9zsj91geI+9+QyWImycrOc7w1nyuSt66upimRgLGBBZqWXeOjy8/0ZT5mehc56vi7MbJ8oq+WXSKEbt5G22Too7KHsJvTT8ZOvo22teVKvROY706acXXE1D0lW3YC1Yo6PaR3EOh7j1ZxKNmRzq7YRPjEeynmsqNOLPxCnWcZn2+c8B1r6y3nS9nU9WvqLsXXlVFe+1OtAW+9EKydaNW0ZdunRiPOWjkLWih/myvuV9VBxI2SqxXI5Zvpxo6hreGKwRdRF1yKyi74nc1/6VthR2diixsY0yyAIlrQKAgiCIAiC66MGmmUQ3FSGT0Dm/iQOBEEQBMEWNdAsg+CmUP0os/wRKQiCIAiC66YGmmUQBEEQBEEQTNRAswyCIAiCIAiCiRpolkEQBEEQBEEwUQPNMgiCIAiCIAgmaqBZBkEQBEEQBMFEDTTLIAiCIAiCIJioUW2WAQAAAAAAAOCyA80yAAAAAAAAAFSAZhkAAAAAAAAAKkCzDAAAAAAAAAAVoFkGAAAAAAAAgArQLAMAAAAAAABABWiWAQAAAAAAAKACNMsAAAAAAAAAUAGaZQAAAAAAAACoYPFm+c2h293aclt3j8Pl8V3/emvXHb4Jl02cPNj1c7fc/rN0Y2Ucu32SZffQnaQ7m4EoV5+eNHff/3dzEfzG/Z1ev8sIOm9cXPXgxB3u1vPxsvgPAAAAAObCTM1yX7M32SynvXcf9LYo590sU2OyavPfbpbJZn32SLYY2PcGpge8WZ4H028QcqwMXLOP++28KqZiNo4vL0u7Wd5ExBrCyGPt2T4bq8WMjn2ZkyKWlN3F2SLGY27nsbOJDQMN/Zt2E/LneJA6jezIxcFupa0DaVzIOnK0nVw734cmJWy/Lqo/l5fN6YrJeBaPmzOpafn5HDjxpjnPU7V9ubGZ86VTjwg6u/RDVVaxN5Ht3xpbBjPoUa9fNZs3cjTN2Gx4+Vuytmy6ZG72YOVmeRFkp1eLZFK0X4kUFOcWBNHo594sB7vpRJwIuAUQ/LaEv+to60zQZ84vg0SXnWcB6e7PqsRN0HOhHNCgmFyxwJ8xju9W5A21hsUJxbkZ041YV2vCAzTFkYwpWUBp3uiDOfJ8CUzoX7Wb0oWuj5/l1xLTcU/x2q6xZCvbNjzPlQ2DbuuJU10rpC8l6vpHvUe9jr0N6f9ejwfj3uEsyzbGs4zmrjeGYm0ZbBpkKOtsyz5yTMZRa2zefOnTgxBkovhU4y0dQ+yxMYHW2MJYXY8y58f65Z4dsvzR8SpB69Ybe/Mg6Ed2qNYbZVNRI5fPzR7M/zWMJEhkbAryeA6I/btsTlJmDJbMtGc+L3HXNwL0/+j4GCBb/t3YfjgnzeFJQff8eWFe4r5/cFAyj9dx+uKoFQWSSwb9EASeuw8OmcPTXG43YdtMZmOB8qwScc5htn+QV9pABI6weVrHZOL6Cr8NgUl7e3l9Mg/75DHlT17QOMK+fIzsw651vEgfpLjIVAkz2jXa1LIz7T/YJJ3N54nzGvYqwfxdJPLoJ+4PIZ/Yl/swx0fD9h7cf1HHY2OPCNu3cyPJa8S28EFAZS7ZvyIf1zcg+Crmix4bzzNySsXfWaCtf91u/bIaeiqQjXZ9/azZt2V7Kb8+qyH/SjD2rcpY17+0fQXm3rSvb4z9mxm+RxGLc6PwO9lCn9m2Tz0nWmMz50uXHoR8bkdscT+1ZFtFbo2V9ShtHvTQtk6oxlc1/jcMWc6WvIZ/FtObbFzmZg/mbZbV2HCdxim5woM3jefrQWgyBL8Oivn5g8Lp2jMaR19nedL1cH4KLiXPuN4OvmlMBX9E0JM5OOqtZBjG6XpM9LEg2dB724hniH34u9JglyyvPF/LJwKT/MWCkcbiGdEu45i2E+3ZtrnWqziXrw/yZ5njWVzXEBNpL7mvbxTTPG1ncZ3i0ta7ba8Seb5eN54pzva6HQq71fT01+Fdddv23I7BFkyGcJ3lrvp2biR5yWaBMm/0mSIOMoa8ThxsT3tLGwsbko5ibt6b5qj4pDOYPc4Cbf3rdotzSIc8pm0QYe3PEeKBdG7obvojoLShmBt8pmw8C2o+L8+q65/24G84K7KWe0S/0D09RvqP/rJ9sgosfejMUr6Gfao54XFG+dKnB4c+v0PHwQ9q39bYglifHlbsGD5IEHl3EdCKHRGDEZadCeX9GLN0r7amhVmbZRKAAow7pjmu9sqBOiihrz3kHhQgfj03LF+j9zfmR/nsIJuGKiYDeOBawc3v8bkRPLinnFqMZ50DuQwtHcekDPY1gpH7O8pmJPIQ5OWYlHNKnnTmoIfnIJNt82F/8n+RaOw8I9kIUj51XawZ9wtyNuxVgtZatpb3hU8ZBvsPttZo274ZWw3/1c+bF8Em+ZwQyyxOUm5r30vE+Ih6WXGmdEt76n3JTqNt4p5lXK0ZC+jP7Uayi5pG6wrZLdsw8LNrvm/ERC2Go2xKvpkRbMHyr7BHQEv/0t9iTxYzWkc+r2aDgLDHvDbguZ1hyTBpn0pOBFTGaI+58qVXjxGlLyd1HEBr7Zxqj01jdT2sGOX1K9k5+MPSzaORoxuLpsxkE1a/Q51isTdHblYwa7PMX2fwe0FYv3YIILVXVjQrUcz3kPdiMPOkEHvq/fN85ghL5n7EYC2TiQe5FfDc4eU4T7Ipp9bHp2TgiTbawNov2Jz5O8qm1ycG2/KEjpD7WvJI8DMDhodLuXcAjdP8/H8BuSbsPcg63uN6i+tiz1F+vY5QyC5Aa7nvR7vnNXrPGKMjg/1NPQlt2zdji/Jl8J88M7BawOaEio3g9/H8w+r3dBkG21ixMu4f7MpsKK+lDfYfeNuY9l4zuvWXesmaZNjB76vjdoTywRAXEhQ/8pwMOo+tD6A9uVz6el7wnAlfe9PyN/Vvxw1HyNt8f4i7iCK/BKwzVoN1XhkLETX7yByQ162xqE/cj7hKviyiR4TtmyCfoaNGy09tH7axuh79cRjv2w3iunJsbajUmwG5rwuMX1u0dCTdl8tNG2tulnMCxXtReBYsaq/8YMhKFPM9cgLEezFAuBHEHnr/PJ85opR5EUT9SkfxgLaCm+7lM8txnlCTTg061pKnJoNOwvHaOi/4gfk7ymYlckY5Jve1bCLBz4zIe9L/S5sP+5P/i0SrnMcSSOstrlWi8f30OkIpOwetHW0T59J36uW9vCePBcJwbepJaNu+GVsUS2HPlm/XjVZsTMdNAPOXtt+oo7VXff/CVueCPtuQzlJWva7t3xCTVCcL8jUNWYp88ei9tw4U50zFt1FjhrjRyHvFNabdOvN0ZSysZ8KwzvJpvtcaK7FSviysRyMWMxqx1pL1vPWo1y8DxXkddtlEtHQs0LJpHqP/G3lZzU0b835nmZzFxobrNJ6L8OB8tVf1OiuUr4c9KBjG/aNx2LXeL89nBhLyL4x4ngjmABmk4YxBBn1mO0F6kjXup5OC76vPkNfRL9xmzB7Khlo2EWx+7n6QtQxgqUeps0bYm9ksxlJaw18ThMzRJ9xm3P4nDw7HdbRPkl/bWVzTPC4Ll3/CXiVorTGf2XE8W9kx5ROP/VFmP3f4znLd9s3YIlmYPWzfzgy1L/cV6Zi/U06gMSFvwsmDfaZvtMuQk8zHhHGPGCfDPA+us4iT4KN2vK4HDf1bdlP5EfTi8cj83AVrfpETI0gWbteAwoZlns6G4q8EyHzo0V/H/2B7v3b8HQIPZWsOmV9eDmavIr9mgdJVxf6Aqn1aOXGW+dKpxwCar85rxMDxXTY3yNo3tjjm0EOu4TXg2Nt83MvIJ1pbydGNRjM/vZ76L15kHZfOzT7M2yx7BOFpnOgVPgzjUeA8NiSc2osQ9yOmPYPC+V76SwPDeRRceWxkff80XwUfl38xxACV55OuOujlvPjLN3m8TBCSqdBhSkZhp3xOGjPO4H6KfxGB7c/38rY6prnM37xgjv6Kc6NdSV8prw7OYR3zPYeIo8C6/KVtkp8zxRl8jK1TdhbyFkVH2dOwVz0Raa2UV9u0ODvv7WWQcy1d2rbn68U5BLJBkRuJ7P7caJ3Dx7is0f88h+x5BLF/NRY8+dlDPBBl7J0lavoTWnaL9rHHyngmpBpV3PdQcUEoYmdAGX8DeCx72uvngJUXDJ361+JG3G/EhraR8Mm6YkrYeDyjni/aPo2caI3NnS9demSQXNa9vF7pKGSVtbc5tgxW1sPfrdUvJavOJx1/FwZFvYm+zLqIPFJ5vGxu9mDxZnkhpAKki/UKiMaoG+FiwE4K4N3AhS1SAAAAAAAUmLdZpncEvNNP76qWbxx8U2m9e1XvJi4aQsN/wXUAKggxWvlkDQAAAACAC4f5m+XhI/DI1X6MwX+UEnkRP7GTPxrwRKP87qCIeTTKAAAAAPAuYc1fwwAAAAAAAACAiws0ywAAAAAAAABQAZplAAAAAAAAAKgAzTIAAAAAAAAAVIBmGQAAAAAAAAAqQLMMAAAAAAAAABVUm+XvvvsOBEEQBEEQBC8VNdAsgyAIgiAIgmCiBpplEARBEARBEEzUQLMMgiAIgiAIgokaaJZBEARBEARBMFEDzTIIgiAIgiAIJmqgWQZBEARBEATBRA00yyAIgiAIgiCYqIFmGQRBEARBEAQTNdAsgyAIgiAIgmCixjk0y0/d3taW27p54F6b4yD4nXt6x8fInafmmORrd3Dzpjt4aY19517fv+lu3n9tjoEgCIIgCGpqoFkGO0gN6Zbbe8zuPd5zW1u1JrXu4/mb101slpP+nF2N/yVliKVsqz331JqTbCpiUDDGaNxDxgPFwLD/EJOGj8S4nlOTa3UK+dQ54U3jMObJ4shex+3AOe4r9jTjssc2kUEGfv/lgbs5rNF5Kfet+3IRkr7aN6X8/Cw7HjSlHe0aEufIsbqO0l+e1bNXYNP+I+0YmPZ7O3b4+hXzpVOPSB0D0zlgyzqt/8JcSY98j8mibF6PZanL5n1gZOm6qMzRNnPkpkUNNMtgB2PgDcEVCoAOdE7y8Z7b84VVBzIl97yJS7LVi9D85/WQ9OcytZL6klPHEjXORm3IDwW7wGn7vnZPH6fXar/WTyxobNw/1il+/XSiuC7Hp+6Ax0Uhby222+s4eQ4EOzL9SeeeuJS2ydS1XMW98K1VQ6aahzZzTJSNmZejYoveeJB2UbJn0l7+/Oo8pSPJW9pwTir7B/nKOr1IDHC/y3U65+bMlz49iPUYkKR5y8hqx30vZ9Dj8YHIEeGrRiy/vn/A9qnE7zmxpuvCMhf51xpr56ZFjfNvloPQZDgSPI/5RssrFg06KpyNvHcnGiKynSTgHOSBRj6asnkuEqpYeMqixRPHUyU+T5RQCNK8mz6pxn1JNv/aF5XhHTzbJ57nGwsWTyIBh/hLZA+RuJbO8vfTnqMcUi/JKb1TnCfW5dnzDZG3z1AAS3nkfH4mO0PZtZwr7Vvuk+TwY0LWGSjtQkz+5LYNOsY3X+b5VBiZ3zh1HOW9ivil+0XccLnOitHeUT7DFlXydbX7FdsyvU1W5pBtb/paPIwZfhjsb+wR1i9t46yXoXdDp8KvZuwYexbzaI5vfv2bGZnXfJ20dxGLc7OQkc7XZy4QA+K+sY7OS+Oz5kuXHsRGDAjK8W5ZG3HUxdn18GR79sVy5PnVM81+Xdsy03qdf42xJeqPxjk3y+n1YLR8nZMyBlceJ+OFh3kOCAoOf70ZQfAuMyd5DEJRME2yeeQjFqQiAdQYD17+YAl+Z0UgxoGKkWEfWZDkXE9KmuE6xttYvOLaLENcOya0lEN9sieo7cRlkvJFeXj883VRPl4c5ZtDNX+wpzojfTpRkz/cZ36IeSVzcl05RmfrvWVTEc+n61qzEe8nWwVmm5AduD2JymZij3yd1vE3YMLua6TIiejHeP6EDCqXMqV9a/Zo62bZfYgZ/hAiGVie5nnh/MqYvrc4DflDTjG78TPUQ5N0K2O7sqfyC63T8StsJXI7jo2+LGNwVWpZiKV+/TEg/V6zM92bN1/69OBsx7Dcr19Wqf/inFsPoljfFcvEGK+r6DI/p3RtyRzHSNfSxpWxJeqPxjk2y/nTY26wPCYDIBeWoJwfl8XIj69ccME2YwCS7e1k1CQ/jgWZF50xgGlPVbRZ8o9r5F6R/F65D08SkTBqPMSTjh0mQ7HWSDibKY4HMvmMPbKuljz8npankI/Zgtt8oCm/ZV9t/3YBX4nDAzddk4zeZll2kiPraOqU7os6QnsEH1qyt+NunOP3ZPcs38zOYIvSF5lBBiFnYnVdqb/Wo7CdZmGbdC+vEeMqlsK82kPNszufWpyKz+hLcXaSq1XPeNzpeOA2tPSKNp2wa4jzltyL08oPS76uGNB+19eB2fbz5kuvHiNbMaDHOmU19V2M8+qR5NQydcby6nk2N9u6tmTm/tL2rI3peYET9Ufj/Jpl08FpjAVETORYgIMh/PgQgDlQNi4Q3jXGArP32HjwmCQ/8of3mBhj0KaileJgYPL9WGispOL70z6yUZhKknzPGrNllWu5nHxspJaP2Sw1g5qka/W8VmEo9pLn0j1zzSC/ZV9+lj0+K7lNvFwH6Xu6Wl/r4WPfzzFRxoalD51jr+f31muH4JdmTBFt2avrvF11PBFjTc2xcVD/fq9naRslg9VUZV/6efT1nbDeeDBp/y7HDr+ws7W96vYb84e45+10k/ZQekgdSBYei/qa04qx1WjZs5UzrRigvZp+Jw6+nzdfFtEjsnFWkQPL1oTFOZ8eMRb1XrR/O5Zpv9Z558marhMyt/JvgbFi3KDGuX4N4yAl7GiYcSw7PCZ1DO4QDHw+muUzYkzWaHf+ukbyoypIKVjHALWK1sixqFhJxfcv9+FJYCVE3jvEk44d9vC31g40km+k1p9dN9ZZ53EZ9XhTPkazQA9yGL7ybNt/nczn0f9jfSio7EeySjuMMhe66+bO1M+I8WLdfCzlr1HK2l7Xzq+Bk3EsbRPi0fKJEUNCBsN+hW+WouU/xUFHyyZ9doq59h8hLkz9STfLllX7dvpnERZnLRsDtZxQewm7zpgvC+tRiwFrXY+sHTHVw1n0oHvWmppu6R7pNIcOa6Oh66TM0Xd2/v3O/a6Vm0vUH41z/s5yVj47nY/F+aQQmuXzZvTTGFjRT/VAsxM8PNx9MucHfPAnD2Dvz700xgM5xADzMY8Jq2jwJjLGDEtAkZBaj6gnX8ubEfHbulQIVfKNLPUPcgQdSts9vZPkCbKxdSq+tTzFfJL/Tsqr+9JetK4mf5CN60JjwkatArYq5Xe/s6xyzjhmxpyQl9s6jal6IvancaN+aJu05FqJlfMDWT4QSQahV20dkWLDis/0/fV4befpwKkziOIcGXfCDym3Bv+F2J0jrsr4fH1/T+koa0nhf0MOkSsNWUVOFvN4PfFyMFsWOTcLlT9Jt2VioOL3lj/nzZdOPQbSfMM/lRyYlLUn7ru4uh4km1nz0pgdy+SbRl5vBLWuy8ks8q85tnj90TjnZtlfB6Gp+SFF1JgnBQSa5fOmCjRisr0dqKpIiPtyTfRvovL7eF48P8+LcZIDvUwyniTxdfoLEoFKLhZ/RC5bmYgpPq19BC39ow5hP3WmsGsoeGnM2+NpoQuXR83nZ6p9ol3r8gs/iCLCbb0e8rML/Rh5TMRaMMoVr9M+LI7yumFM1QrTpomtdbNR+C9z9I2Qges1sS6MmzLXYiDlGFvTss1AimUml/CDPl/EvYy/5WnFJ9dRx5SsJWMMKf2FrPX4L2yk/MLHhG3WlVPifJ0f+bpeB/Jc2+/SdnrOrPnSpUdmpUZVc2D5mrAwV9RDyJk55NtELPM1xFV9Miu1ri2ZY7xaPmn5qhhbsP5onEOzDIKrslIc30HOWrhBEARBEJykBppl8MIxvNveqHfJa2J4JzzXJ3AgCIIgCPZQA80yuPEsfhT1rjbK4sdERDTKIAiCIHjW1ECzDIIgCIIgCIKJGmiWQRAEQRAEQTBRA80yCIIgCIIgCCZqoFkGQRAEQRAEwUQNNMsgCIIgCIIgmKiBZhkEQRAEQRAEEzWqzTIAAAAAAAAAXHagWQYAAAAAAACACtAsAwAAAAAAAEAFaJYBAAAAAAAAoAI0ywAAAAAAAABQAZplAAAAAAAAAKgAzTIAAAAAAAAAVIBmGQAAAAAAAAAqQLMMAAAAAAAAABVsZrP85tDtbm25rbvH6QawXpy4w90tt/8sXh3fvRy2vyx6AgAAAACwPNAsXygcu32yy8Bdd/gmDa0E2SzPAvLh7qHfuYZ45qjLltt9UJ89B04e7K79jAjtJ0/EcsSz/aoPyD86BsMbmkk7qlhSc8QeYkz6qZSLj+/7q/WA9B7k0+d4e9XGxLparoX1luxks5ZObdvUbCp18dRycX1myQmtR1lXIrWuy+s/qWNAlGPxdSsiPzsD68+Hek4QKnEv9iby/aXdaznejS492mdO54fXs+GDsH5VHy2hR6tGEcca2Vo35ePzQk+cNPwi6mFln6ka48eXiU80yxcFIQB0srWTvR8xgM+jWdaJP6sMClT8Vi7iXaACVz5IzubsTcVY9As7sAdK2SzXHjAMzw7FHHpI5DPCA4/VETl26KXK0PEX5eXXx2uJzWN3yO1BeZ7zJtiFNSt8TK0LD8aiXkad6k12vVls2UbaVMY2jVVzONQwro+3aXq5DHr0INA8HnNz6F/VMSPoKmO9a91KUHVH2zsh6F/JibhHJe4pHivPZLmHzqVF0aeHzHslt8iVKJ/WOcRA9RkV91utWV5Gjyib8EdNhu66J3P0XNHymce0XzRoD2ZTbWNRY5JPPZexxfk1y0GpZBgfULvemUMzODTL+4NyxGzUXOz2fUGjeRsRBGuFCggLZM+7PhCDHdNc1oToRjvbMDCty/algDUDOMzNUlAC+j198A9n5AAXvq35pyyo+lwhoycf44EfKJKLjaX7QodkC3FesJ9PLDZPnCdsue8bFfnAkaDzS3uPdpCy954T9ziMa7O+VR+XNgh3B/2kfJZ9ImifJIcfkz7oR9Zf2iEi+0H4IyDFGJOzC8mX5nqyl4iVEVw2S86zQbR3kL6QoWGPQecRtD7WUF478v7jOT3gsmg/tcZGLOnLKnr10OPz61+C9vaNsX+jx/03vW5FFDFQ1ljTDywnyphjMGIswrBldW4HuvQowe1b6MH3zPo2agHttetzp/2BzwSW1MOUNV61MawzfExjq+iyJoic6PCLhvSzoTdDntuM8QbOp1kmY9BDmQcEf0jr62CE8ZqUHR/s736zHPQVSWeAkkE0OT4QfWM1hBHfQydOWDsGrS4649k82ZNPhn34mMdkwKv5uuAGmdh1iAkZD9zvJPNYKNi+7J2sThKRqMoG0kbx4Tfalq7zeRb0fC6TYadBz/Y5Me75Q0nNH2S2bSB9OX4yGe4X8cBlmi/HtA84hD8Coh5jrnPd66B94hm0ntuTQPpY+2gf+XX8jWDn2SuDxZ1lq9JGEcX9wYc1fWv3Leh48nubNSHKMfqL2T7Vg+MQw2m8mj+LoK1HPd6W17+qY0CcS2fqs9vrVkctXuS9FNtmTqSxWtyHmBp1GPc1bDlZ/+vo00NDyaDON9dXZKTzQw6uoANhOT3UHJKB2byVM+O6ij/0vXNHJQe77W77fKrGWH7pwbk0yyEYvSK8uJOjhwKSA4Qpytfk1/MU281H4VyRQClYxAPMwBCAsvBHlA+D+NoI5uGcsugKOScDPp4ZdYgcZbJkZPuTDMXeo6yj/BLajmJeYb9xvxBvyrbWvRG0luvG7GT4KcsxdY6WX1/7O4NPTBuYMUKySj8SmjGwAkqZR9T8lhFsMVFE9ZxwzXSmM6zGN9wf5qXYbOyzFoS8Zr4I10xW8h/LkyBTijFpN+7Tmv/6/Sptk5BkKc9mCHPSGalmjb63c3xxtPRYdkzC1D+D6+jB44Re12Jdr5sDVv5YMuhYHnNikbgn+43n0R7at1O5WkOvHsM5IQ4NW6aYo3HTD9YziuecNb4A+vUYEexdPTPqa60X60y5++N9vZjwGaHT7oUtg++ma8yUD2o4l2Y5Jqd8QIt7hdIeqTjTvRAY/rU2wruKunNZApB9dFFLdoyB6RkCkAJIN0cyqMYkjwVxWJ8Zzin3EXJOBnwZyCEGKnsHZB0tXcWauDfJyu2m7SiKWbHnaFvL/iEGCxkyaK2UZVif4liT5Jg6R4+HsWKvaRuEeYNv7CI6nmWPLwutA4fwh4mWLMrODLG2ZFscqu8A0p76XB5LGfPaQSP4xcoXHi9+/LDyHe6gY1ivZa/J3aOPZZt0Fot9fT2CyWLVAzOPF0VDD79/LdZW0V+C6aj0acW6HWOrwTqvllN2TiwW9/I8WjvuGb4iuaRvF9FjRPRVXqfzSV8HFDGpdJ18hrWxmB7Rfnp+gSJnrHWGz1bUZT2QPhvQJSvp3aGjUWMsv/RgQ5rlnGissCojhmCnJPSBxl9fCgR7WAWLJYUOCh04wzXZWhfEaP9szzGhjaQbUO4jgtAKXAF5ZoCQsfTvsD/pWuxty8qLk04SUbiKpBr30+sIIQarDwNay23Dro3kzZg6R49b8y2YBXqQQ8sa0RcDi6MlsymnQE0WWwcT3P7VvGrF5vwgvXv82PZFGiP9fG20KG074deqbax1tb1YjTD2643fNjrONrGs/hr5nBgzlt3LWkWYkm8JFLWl84xhXdShN+5b/lvJt7Pooecb95RuJLPpv97aotGtB8Vi5xliz9o645xClg2BJVcj5gbU1nXUmGVj83y+s0yKUhBmZfN1dnxQmq6z4hQU43UO6vaD9d0CPVDLH1uwgq+DR1xT8vj1KQCD/Ywike3Jm5Zwrto3jpUJKYJwMuCjTNyH4qwQE0zfEBP5vLiWB/y41o89GOWl+3meThKuZ2E/bltxdr5WdhEoi1iwcZgfY1nq3XeOlr+YT7rfJZvbNhC/4U/6VuJB2p7ZYQYUOjAIfxC8fvvKX5bNi3Uc7DvrURceQ9JHHNom2Yazo4g7jvIvXgwyCL0MHw6o+a/l15ZtaEzaezzb78l0kTLFdaMNuS9WQUUPyg3THhnL6t/SUYLGhL6d65aHsinLcYFqTpRy8Zgb6hRB1R5RW8JYzbY96NOD/06Ol0DEV5GvoqYlTMXIZAxNoVOPRv06ebCvfDXOba/zfhzirczZ80LLZwM67G7r3ldjZF7243yaZY/gTGoEiN4wh175IZhDsqWxgSqh/b1NcP6ZIiS8tMtgAxoTD90YOHGetx390gYLQAq2vMeub6x4MslA5Pt4igSUgSiDcFxnB6baV+wdIWKkCPpYOMy13E486Ya4insJPQv70f6suKo96ZcI6glnJWnUN6xR8S3iuHGOmeR8Pj/TtAG3mZSPx4N8qCg7rAhThwSrAAq5mC9jbES5pOx6bk1nI/6ILAbEvio2Z4PwX+YoJ5dB2k3Jz2wjUfOfvp/2C3pO2Ybb1LPwSx7T58p12tfLoaIf2bXps+X1b+s4Qsd677qVIOJpPIPni/SDrlN+tBb3rbolxmbQrUcPJU8zPyyZaH01bzymxnvQoUd//ZI6ttdJ/Ws198zR9FlCYfdog3Eu6VbGbYS0l1VjdF724tyaZYnk2FUDEwDOCMsm3KI4q3MAAAAAALBxPs0yvXPg71jTuy80BcCFQHh3XHtnOyPO6hwAAAAAAKo4v2aZfVRe+7gcADYCRbyuqYE9q3MAAAAAAOjGhnwNAwAAAAAAAAA2D2iWAQAAAAAAAKACNMsAAAAAAAAAUAGaZQAAAAAAAACoAM0yAAAAAAAAAFSAZhkAAAAAAAAAKqg2y9999x0IgiAIgiAIXipKOPf/AXoOJukCEMG1AAAAAElFTkSuQmCC)"
      ]
    },
    {
      "cell_type": "code",
      "metadata": {
        "id": "C2KcUJeK-uZE"
      },
      "source": [
        "blended_l = blend_models(estimator_list= top3, fold=5, optimize='MAPE')\n",
        "pred_holdout = predict_model(blended_l)\n",
        "final_model_l = finalize_model(blended_l)\n"
      ],
      "execution_count": null,
      "outputs": []
    },
    {
      "cell_type": "code",
      "metadata": {
        "id": "l0F4KijGKc4w"
      },
      "source": [
        "\n",
        "pred_esb_l = predict_model(final_model_l, test_data) "
      ],
      "execution_count": null,
      "outputs": []
    },
    {
      "cell_type": "code",
      "metadata": {
        "id": "z2gf34oixHi2"
      },
      "source": [
        "pred_holdout"
      ],
      "execution_count": null,
      "outputs": []
    }
  ]
}