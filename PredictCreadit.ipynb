{
  "nbformat": 4,
  "nbformat_minor": 0,
  "metadata": {
    "colab": {
      "name": "신용카드.ipynb",
      "private_outputs": true,
      "provenance": [],
      "collapsed_sections": [],
      "mount_file_id": "1vSv8YTJWsC7ZUuEtqj5qTgROtWrOfCHi",
      "authorship_tag": "ABX9TyOd9GEXNwd+aDOS70H6s+nw",
      "include_colab_link": true
    },
    "kernelspec": {
      "name": "python3",
      "display_name": "Python 3"
    },
    "language_info": {
      "name": "python"
    }
  },
  "cells": [
    {
      "cell_type": "markdown",
      "metadata": {
        "id": "view-in-github",
        "colab_type": "text"
      },
      "source": [
        "<a href=\"https://colab.research.google.com/github/YoonJiHwan98/dacon_code/blob/main/PredictCreadit.ipynb\" target=\"_parent\"><img src=\"https://colab.research.google.com/assets/colab-badge.svg\" alt=\"Open In Colab\"/></a>"
      ]
    },
    {
      "cell_type": "code",
      "metadata": {
        "id": "7RAKIgFut_9H"
      },
      "source": [
        "import pandas as pd\n",
        "import numpy as np\n",
        "import matplotlib.pyplot as plt\n",
        "\n",
        "%matplotlib inline\n",
        "\n",
        "import seaborn as sns\n"
      ],
      "execution_count": null,
      "outputs": []
    },
    {
      "cell_type": "code",
      "metadata": {
        "id": "zRrm73BduPly"
      },
      "source": [
        "data = pd.read_csv('/content/drive/MyDrive/TAVE 머신러닝 스터디/신용카드/train.csv')\n",
        "test = pd.read_csv('/content/drive/MyDrive/TAVE 머신러닝 스터디/신용카드/test.csv')\n",
        "data1 = pd.read_csv('/content/drive/MyDrive/TAVE 머신러닝 스터디/신용카드/train.csv')"
      ],
      "execution_count": null,
      "outputs": []
    },
    {
      "cell_type": "code",
      "metadata": {
        "id": "qmcm85gKums1"
      },
      "source": [
        "data"
      ],
      "execution_count": null,
      "outputs": []
    },
    {
      "cell_type": "code",
      "metadata": {
        "id": "uCEtamiIuzWh"
      },
      "source": [
        "data.info()"
      ],
      "execution_count": null,
      "outputs": []
    },
    {
      "cell_type": "code",
      "metadata": {
        "id": "_pxa9JHzufyp"
      },
      "source": [
        "data1.drop(columns= 'begin_month' , inplace= True)\n"
      ],
      "execution_count": null,
      "outputs": []
    },
    {
      "cell_type": "code",
      "metadata": {
        "id": "1VtWx073u9FR"
      },
      "source": [
        "data1.drop_duplicates(inplace= True)"
      ],
      "execution_count": null,
      "outputs": []
    },
    {
      "cell_type": "code",
      "metadata": {
        "id": "wQfwRp1HvB4Z"
      },
      "source": [
        "data1.shape"
      ],
      "execution_count": null,
      "outputs": []
    },
    {
      "cell_type": "code",
      "metadata": {
        "id": "JCVPQitnvJ_Y"
      },
      "source": [
        "data.shape"
      ],
      "execution_count": null,
      "outputs": []
    },
    {
      "cell_type": "code",
      "metadata": {
        "id": "DfRb0Zc8veCK"
      },
      "source": [
        "plt.figure(figsize=(12, 8))\n",
        "sns.heatmap(data.corr(), annot=True, cmap=\"viridis\")\n",
        "plt.show()"
      ],
      "execution_count": null,
      "outputs": []
    },
    {
      "cell_type": "code",
      "metadata": {
        "id": "OxM86joBxb26"
      },
      "source": [
        "data[data['occyp_type'].isnull()]['income_type'].value_counts()"
      ],
      "execution_count": null,
      "outputs": []
    },
    {
      "cell_type": "code",
      "metadata": {
        "id": "OWToaEmHlM6O"
      },
      "source": [
        "data['occyp_type'].value_counts()"
      ],
      "execution_count": null,
      "outputs": []
    },
    {
      "cell_type": "code",
      "metadata": {
        "id": "Fpng8fDolbWZ"
      },
      "source": [
        "data[data['occyp_type'].isnull()].describe()"
      ],
      "execution_count": null,
      "outputs": []
    },
    {
      "cell_type": "code",
      "metadata": {
        "id": "peY7gqI_tWrg"
      },
      "source": [
        "data.describe()"
      ],
      "execution_count": null,
      "outputs": []
    },
    {
      "cell_type": "markdown",
      "metadata": {
        "id": "SEN1SgMQvnn2"
      },
      "source": [
        "# gender , car , reality\n"
      ]
    },
    {
      "cell_type": "code",
      "metadata": {
        "id": "oAYPA8lrtpVl"
      },
      "source": [
        "# 맵핑이 필요\n",
        "data['gender'] = data['gender'].map({\"M\" : 1, \"F\" : 0})\n",
        "data['car'] = data['car'].map({\"Y\" : 1, \"N\" : 0})\n",
        "data['reality'] = data['reality'].map({\"Y\" : 1, \"N\" : 0})"
      ],
      "execution_count": null,
      "outputs": []
    },
    {
      "cell_type": "markdown",
      "metadata": {
        "id": "Kx_9784ow_Ae"
      },
      "source": [
        "# child_num , familly_size\n"
      ]
    },
    {
      "cell_type": "code",
      "metadata": {
        "id": "gixlW4V0uE6g"
      },
      "source": [
        "data['child_num'].value_counts() # 이상치가 있다"
      ],
      "execution_count": null,
      "outputs": []
    },
    {
      "cell_type": "code",
      "metadata": {
        "id": "5vlpZJlTBM9r"
      },
      "source": [
        ""
      ],
      "execution_count": null,
      "outputs": []
    },
    {
      "cell_type": "code",
      "metadata": {
        "id": "SEEwVnHNxG4t"
      },
      "source": [
        "sns.boxplot(y = 'child_num',data = data)"
      ],
      "execution_count": null,
      "outputs": []
    },
    {
      "cell_type": "code",
      "metadata": {
        "id": "8ZtQ5NJXxdnH"
      },
      "source": [
        "data[(data['child_num'] == 19) | (data['child_num'] == 14) | (data['child_num'] == 7)] # 이상치들 확인"
      ],
      "execution_count": null,
      "outputs": []
    },
    {
      "cell_type": "code",
      "metadata": {
        "id": "ALjYpSV-zWE4"
      },
      "source": [
        "# 14, 19인 경우 싱글에 결혼을 안하고 나이가 어린데 19명일 수가 없어서 최빈값 0으로 대체\n",
        "data.loc[data.child_num == 19,'child_num'] = 0\n",
        "data.loc[data.family_size == 20,'family_size'] = 1\n",
        "data.loc[data.child_num == 14,'child_num'] = 0\n",
        "data.loc[data.family_size == 15,'family_size'] = 1"
      ],
      "execution_count": null,
      "outputs": []
    },
    {
      "cell_type": "code",
      "metadata": {
        "id": "J1Za5a1P0u37"
      },
      "source": [
        "data['child_num'].value_counts()"
      ],
      "execution_count": null,
      "outputs": []
    },
    {
      "cell_type": "markdown",
      "metadata": {
        "id": "U_p3o0m02KSR"
      },
      "source": [
        "# income_type , edu_type , family_type , house_type\t"
      ]
    },
    {
      "cell_type": "code",
      "metadata": {
        "id": "72_Ld_Rn2A-C"
      },
      "source": [
        "data['income_type'].value_counts()"
      ],
      "execution_count": null,
      "outputs": []
    },
    {
      "cell_type": "code",
      "metadata": {
        "id": "piEsb4Y82a4D"
      },
      "source": [
        "data['family_type'].value_counts()"
      ],
      "execution_count": null,
      "outputs": []
    },
    {
      "cell_type": "code",
      "metadata": {
        "id": "d6n6z_L_2tTV"
      },
      "source": [
        "sns.barplot(x = 'family_type',y = 'income_total',data = data)\n",
        "\n",
        "# Civil marriage 와 married 가 비슷한 것 같아서 합치기\n",
        "#data.loc[data.family_type == 'Civil marriage','family_type'] = 'Married'"
      ],
      "execution_count": null,
      "outputs": []
    },
    {
      "cell_type": "code",
      "metadata": {
        "id": "RmXosxdP3q0Q"
      },
      "source": [
        "data.house_type.value_counts()"
      ],
      "execution_count": null,
      "outputs": []
    },
    {
      "cell_type": "markdown",
      "metadata": {
        "id": "OQFNkU4s5Gxp"
      },
      "source": [
        "# DAYS_BIRTH\tDAYS_EMPLOYED"
      ]
    },
    {
      "cell_type": "code",
      "metadata": {
        "id": "MW_xgZXf4cuT"
      },
      "source": [
        "# 단순하게 나이와 연도만 계산하기 위해서 365로만 나눠줌\n",
        "data['DAYS_BIRTH'] =  data['DAYS_BIRTH'] // -365\n",
        "data['DAYS_EMPLOYED'] =  data['DAYS_EMPLOYED'] // -365"
      ],
      "execution_count": null,
      "outputs": []
    },
    {
      "cell_type": "code",
      "metadata": {
        "id": "7LqVq6hv5k1T"
      },
      "source": [
        "sns.scatterplot(x = 'DAYS_BIRTH',y = 'credit',data = data,hue = 'gender',alpha = 0.1)"
      ],
      "execution_count": null,
      "outputs": []
    },
    {
      "cell_type": "code",
      "metadata": {
        "id": "AW7TWJUD6UIr"
      },
      "source": [
        "data"
      ],
      "execution_count": null,
      "outputs": []
    },
    {
      "cell_type": "markdown",
      "metadata": {
        "id": "a1W-tvUg7HZV"
      },
      "source": [
        "# occyp_type"
      ]
    },
    {
      "cell_type": "code",
      "metadata": {
        "id": "vXTn1pWm7GCz"
      },
      "source": [
        "data.occyp_type.value_counts()"
      ],
      "execution_count": null,
      "outputs": []
    },
    {
      "cell_type": "code",
      "metadata": {
        "id": "UZ5CU8sU7k8t"
      },
      "source": [
        "data[data['occyp_type'].isnull()]"
      ],
      "execution_count": null,
      "outputs": []
    },
    {
      "cell_type": "code",
      "metadata": {
        "id": "B83-gE9Y8JPC"
      },
      "source": [
        "# 직업은 소득과 관계가 깊으니 상관관계 확인\n",
        "print(data[data['occyp_type'].isnull()].income_total.mean())\n",
        "print(data.income_total.mean())\n",
        "# 상대적으로 null 값이 소득 평균이 낮다"
      ],
      "execution_count": null,
      "outputs": []
    },
    {
      "cell_type": "code",
      "metadata": {
        "id": "LuQO3eSu9Byy"
      },
      "source": [
        "# 연금을 받는 사람이 많아서 nan 값을 두가지로 나눠 연금 수령자와 무직으로 나누어 주었다.\n",
        "data.loc[(data.income_type == 'Pensioner') & (data['occyp_type'].isnull()),'occyp_type'] = 'Pensioner'\n",
        "data['occyp_type'] = data['occyp_type'].fillna('Inoccupation')"
      ],
      "execution_count": null,
      "outputs": []
    },
    {
      "cell_type": "code",
      "metadata": {
        "id": "Bcj-ybY59TVi"
      },
      "source": [
        "data['occyp_type'].value_counts()"
      ],
      "execution_count": null,
      "outputs": []
    },
    {
      "cell_type": "code",
      "metadata": {
        "id": "ABqXDadZyQK9"
      },
      "source": [
        "plt.figure(figsize=(15, 12))\n",
        "sns.barplot(data = data,x = 'occyp_type' , y = 'credit')\n",
        "plt.xticks(rotation=45)\n",
        "plt.show()"
      ],
      "execution_count": null,
      "outputs": []
    },
    {
      "cell_type": "code",
      "metadata": {
        "id": "WLOjVCy_6Yii"
      },
      "source": [
        "type1 = pd.crosstab(data['income_type'],data['occyp_type'])\n",
        "type1"
      ],
      "execution_count": null,
      "outputs": []
    },
    {
      "cell_type": "code",
      "metadata": {
        "id": "jIjY7vbl9oX_"
      },
      "source": [
        "plt.figure(figsize=(12, 8))\n",
        "sns.heatmap(type1,cmap = 'Blues')\n",
        "plt.show()"
      ],
      "execution_count": null,
      "outputs": []
    },
    {
      "cell_type": "markdown",
      "metadata": {
        "id": "T8dLMI43AUMN"
      },
      "source": [
        "# begin_month"
      ]
    },
    {
      "cell_type": "code",
      "metadata": {
        "id": "-1bUWK1lAMjY"
      },
      "source": [
        "#begin_month 만 다르고 중복되는 데이터 확인\n",
        "#상관관계 분석 후 제거 후 중복되는 데이터 삭제\n",
        "data.begin_month.value_counts()\n"
      ],
      "execution_count": null,
      "outputs": []
    },
    {
      "cell_type": "code",
      "metadata": {
        "id": "8Fd0UIzWA0Ws"
      },
      "source": [
        "plt.figure(figsize=(15, 12))\n",
        "sns.lineplot(data = data,x = 'begin_month' , y = 'credit')\n",
        "plt.xticks(rotation=45)\n",
        "plt.show()"
      ],
      "execution_count": null,
      "outputs": []
    },
    {
      "cell_type": "code",
      "metadata": {
        "id": "Ta8wxVq2x1U_"
      },
      "source": [
        "data['begin_month'] = data['begin_month'] * -1"
      ],
      "execution_count": null,
      "outputs": []
    },
    {
      "cell_type": "code",
      "metadata": {
        "id": "bAzZ03LX1fG7"
      },
      "source": [
        "# 사용하지 않는 변수들 제거\n",
        "data.drop(columns = ['index','FLAG_MOBIL'],inplace= True)"
      ],
      "execution_count": null,
      "outputs": []
    },
    {
      "cell_type": "code",
      "metadata": {
        "id": "njnEASTz2fEN"
      },
      "source": [
        "plt.figure(figsize=(12, 8))\n",
        "sns.heatmap(data.corr(), annot=True, cmap=\"viridis\")\n",
        "plt.show()"
      ],
      "execution_count": null,
      "outputs": []
    },
    {
      "cell_type": "code",
      "metadata": {
        "id": "-MsKcTBm2yiK"
      },
      "source": [
        "# 타겟과 관계가 높은 변수들 확인\n",
        "plt.figure(figsize=(8, 5))\n",
        "data.corr()['credit'].drop('credit').sort_values().plot(kind='barh')"
      ],
      "execution_count": null,
      "outputs": []
    },
    {
      "cell_type": "code",
      "metadata": {
        "id": "p1pQrhegB9pN"
      },
      "source": [
        "test['gender'] = test['gender'].map({\"M\" : 1, \"F\" : 0})\n",
        "test['car'] = test['car'].map({\"Y\" : 1, \"N\" : 0})\n",
        "test['reality'] = test['reality'].map({\"Y\" : 1, \"N\" : 0})\n",
        "\n",
        "test['DAYS_BIRTH'] =  test['DAYS_BIRTH'] // -365\n",
        "test['DAYS_EMPLOYED'] =  test['DAYS_EMPLOYED'] // -365\n",
        "\n",
        "test.loc[(test.income_type == 'Pensioner') & (test['occyp_type'].isnull()),'occyp_type'] = 'Pensioner'\n",
        "test['occyp_type'] = test['occyp_type'].fillna('Inoccupation')\n",
        "\n",
        "test['begin_month'] = test['begin_month'] * -1\n",
        "\n",
        "test.drop(columns = ['index','FLAG_MOBIL'],inplace= True)\n",
        "\n",
        "test = pd.get_dummies(test, columns=[\"income_type\",'edu_type','family_type','house_type','occyp_type'])"
      ],
      "execution_count": null,
      "outputs": []
    },
    {
      "cell_type": "markdown",
      "metadata": {
        "id": "3f_PEHc70vA0"
      },
      "source": [
        "# 스케일링 과 더미 변수"
      ]
    },
    {
      "cell_type": "code",
      "metadata": {
        "id": "wc8zyYf91XBc"
      },
      "source": [
        "data = pd.get_dummies(data, columns=[\"income_type\",'edu_type','family_type','house_type','occyp_type'])\n",
        "data"
      ],
      "execution_count": null,
      "outputs": []
    },
    {
      "cell_type": "code",
      "metadata": {
        "id": "CItpbdNE1YOY"
      },
      "source": [
        "from sklearn.preprocessing import StandardScaler\n",
        "scaler = StandardScaler()\n",
        "data[['child_num','income_total', 'DAYS_BIRTH','DAYS_EMPLOYED','begin_month','family_size']] = scaler.fit_transform(data[['child_num','income_total', 'DAYS_BIRTH','DAYS_EMPLOYED','begin_month','family_size']])"
      ],
      "execution_count": null,
      "outputs": []
    },
    {
      "cell_type": "code",
      "metadata": {
        "id": "HujsWJrUCqYO"
      },
      "source": [
        "test[['child_num','income_total', 'DAYS_BIRTH','DAYS_EMPLOYED','begin_month','family_size']] = scaler.fit_transform(test[['child_num','income_total', 'DAYS_BIRTH','DAYS_EMPLOYED','begin_month','family_size']])"
      ],
      "execution_count": null,
      "outputs": []
    },
    {
      "cell_type": "code",
      "metadata": {
        "id": "QqaaKNiJ4o3U"
      },
      "source": [
        "data"
      ],
      "execution_count": null,
      "outputs": []
    },
    {
      "cell_type": "code",
      "metadata": {
        "id": "tvus5MyMAyYx"
      },
      "source": [
        "test"
      ],
      "execution_count": null,
      "outputs": []
    },
    {
      "cell_type": "markdown",
      "metadata": {
        "id": "P08PUEW66Zv6"
      },
      "source": [
        "# 모델링\n"
      ]
    },
    {
      "cell_type": "code",
      "metadata": {
        "id": "BYSpaQLh4rGp"
      },
      "source": [
        "!pip install pycaret"
      ],
      "execution_count": null,
      "outputs": []
    },
    {
      "cell_type": "code",
      "metadata": {
        "id": "9l5WDa6q643X"
      },
      "source": [
        "from pycaret.classification import *\n",
        "\n",
        "clf = setup(data=data, target='credit')"
      ],
      "execution_count": null,
      "outputs": []
    },
    {
      "cell_type": "code",
      "metadata": {
        "id": "NMxMzfJw7nKj"
      },
      "source": [
        "from sklearn.metrics import log_loss\n",
        "\n",
        "add_metric('logloss','LogLoss',log_loss,greater_is_better=False,target='pred_proba')"
      ],
      "execution_count": null,
      "outputs": []
    },
    {
      "cell_type": "code",
      "metadata": {
        "id": "CuPqEPT_9S-B"
      },
      "source": [
        "best1 = compare_models(fold=5, sort='logloss', n_select=1, exclude=['svm','ridge']) ## 결과 Light Gradient Boosting 이 가장 좋다!"
      ],
      "execution_count": null,
      "outputs": []
    },
    {
      "cell_type": "code",
      "metadata": {
        "id": "-4H1LHbuEMyl"
      },
      "source": [
        "tuned_best = tune_model(best1, n_iter = 3,  optimize='logloss')"
      ],
      "execution_count": null,
      "outputs": []
    },
    {
      "cell_type": "code",
      "metadata": {
        "id": "sORqFPEjtGrV"
      },
      "source": [
        "pred = predict_model(tuned_best)"
      ],
      "execution_count": null,
      "outputs": []
    },
    {
      "cell_type": "code",
      "metadata": {
        "id": "54TCrXaIvpb2"
      },
      "source": [
        "final_model = finalize_model(tuned_best)"
      ],
      "execution_count": null,
      "outputs": []
    },
    {
      "cell_type": "code",
      "metadata": {
        "id": "ZXSZXZqzWswA"
      },
      "source": [
        "best3 = compare_models(fold=5, sort='logloss', n_select=3, exclude=['svm','ridge'])"
      ],
      "execution_count": null,
      "outputs": []
    },
    {
      "cell_type": "code",
      "metadata": {
        "id": "_GGhaKEQXBgf"
      },
      "source": [
        "tuned_best3 = [tune_model(i, optimize='logloss') for i in best3]"
      ],
      "execution_count": null,
      "outputs": []
    },
    {
      "cell_type": "code",
      "metadata": {
        "id": "jbY60gBVXFh4"
      },
      "source": [
        "blend_best3 = blend_models(estimator_list=tuned_best3, fold=5, optimize='logloss')]"
      ],
      "execution_count": null,
      "outputs": []
    },
    {
      "cell_type": "code",
      "metadata": {
        "id": "X-2NSgWrXMtf"
      },
      "source": [
        "pred = predict_model(blend_best3)"
      ],
      "execution_count": null,
      "outputs": []
    },
    {
      "cell_type": "code",
      "metadata": {
        "id": "XFdbtqk3XVsT"
      },
      "source": [
        "final_model3 = finalize_model(blend_best3)"
      ],
      "execution_count": null,
      "outputs": []
    },
    {
      "cell_type": "code",
      "metadata": {
        "id": "Xi-5GKkBtLT8"
      },
      "source": [
        "prep_pipe1 = get_config('prep_pipe')\n",
        "prep_pipe1.steps.append(['trained_model', final_model])\n",
        "pred1 = prep_pipe1.predict_proba(test)\n",
        "\n",
        "# final_model = finalize_model(blend_best2)\n",
        "# pred = predict_model(final_model, data=test)"
      ],
      "execution_count": null,
      "outputs": []
    },
    {
      "cell_type": "code",
      "metadata": {
        "id": "2n8bS0rCXSHD"
      },
      "source": [
        "prep_pipe3 = get_config('prep_pipe')\n",
        "prep_pipe3.steps.append(['trained_model', final_model3])\n",
        "pred3 = prep_pipe3.predict_proba(test)"
      ],
      "execution_count": null,
      "outputs": []
    },
    {
      "cell_type": "code",
      "metadata": {
        "id": "00yMCxlvvEZO"
      },
      "source": [
        "submission1 = pd.read_csv('/content/drive/MyDrive/TAVE 머신러닝 스터디/신용카드/sample_submission.csv')\n",
        "submission3 = pd.read_csv('/content/drive/MyDrive/TAVE 머신러닝 스터디/신용카드/sample_submission.csv')\n",
        "submission1.iloc[:, 1:] = pred1\n",
        "#submission3.iloc[:, 1:] = pred3\n",
        "#submission3\n",
        "submission1.to_csv('/content/drive/MyDrive/TAVE 머신러닝 스터디/신용카드/submission1.csv',index= False)\n",
        "#submission3.to_csv('/content/drive/MyDrive/TAVE 머신러닝 스터디/신용카드/submission3.csv',index= False)\n"
      ],
      "execution_count": null,
      "outputs": []
    },
    {
      "cell_type": "code",
      "metadata": {
        "id": "Yu1HSlgRkmhN"
      },
      "source": [
        "submission1"
      ],
      "execution_count": null,
      "outputs": []
    },
    {
      "cell_type": "markdown",
      "metadata": {
        "id": "e-rhkXqCAP3i"
      },
      "source": [
        "Light Gradient Boosting Machine 설명!\n",
        "\n",
        "https://greatjoy.tistory.com/72"
      ]
    },
    {
      "cell_type": "code",
      "metadata": {
        "id": "h9BcuEHrcViZ"
      },
      "source": [
        "y_train = data['credit']\n",
        "x_train = data.drop(columns = 'credit')"
      ],
      "execution_count": null,
      "outputs": []
    },
    {
      "cell_type": "code",
      "metadata": {
        "id": "F_PpkZdK9Y8T"
      },
      "source": [
        "from lightgbm import LGBMClassifier\n",
        "\n",
        "from sklearn.model_selection import train_test_split\n",
        "from lightgbm import plot_importance\n",
        "\n",
        "import lightgbm as lgb\n",
        "d_train = lgb.Dataset(x_train, label=y_train)\n",
        "params = {}\n",
        "params['learning_rate'] = 0.003\n",
        "params['boosting_type'] = 'gbdt'\n",
        "params['objective'] = 'binary'\n",
        "params['metric'] = 'binary_logloss'\n",
        "params['sub_feature'] = 0.5\n",
        "params['num_leaves'] = 10\n",
        "params['min_data'] = 50\n",
        "params['max_depth'] = 10\n",
        "clf = lgb.train(params, d_train, 100)"
      ],
      "execution_count": null,
      "outputs": []
    },
    {
      "cell_type": "code",
      "metadata": {
        "id": "aH66EloIdDb-"
      },
      "source": [
        "y_pred = clf.predict(test)"
      ],
      "execution_count": null,
      "outputs": []
    },
    {
      "cell_type": "code",
      "metadata": {
        "id": "Fd_iR8QUcb67"
      },
      "source": [
        "#Confusion matrix\n",
        "from sklearn.metrics import confusion_matrix\n",
        "cm = confusion_matrix(y_test, y_pred)\n",
        "#Accuracy\n",
        "from sklearn.metrics import accuracy_score\n",
        "accuracy=accuracy_score(y_pred,y_test)"
      ],
      "execution_count": null,
      "outputs": []
    },
    {
      "cell_type": "code",
      "metadata": {
        "id": "ZYrg2SPvddSM"
      },
      "source": [
        ""
      ],
      "execution_count": null,
      "outputs": []
    },
    {
      "cell_type": "code",
      "metadata": {
        "id": "vzecpsiedR5b"
      },
      "source": [
        "submission3 = pd.read_csv('/content/drive/MyDrive/TAVE 머신러닝 스터디/신용카드/sample_submission.csv')\n",
        "submission1.iloc[:, 1:] = pred1"
      ],
      "execution_count": null,
      "outputs": []
    }
  ]
}