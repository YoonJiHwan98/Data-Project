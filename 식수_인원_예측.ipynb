{
  "nbformat": 4,
  "nbformat_minor": 0,
  "metadata": {
    "colab": {
      "name": "식수 인원 예측.ipynb",
      "private_outputs": true,
      "provenance": [],
      "collapsed_sections": [],
      "mount_file_id": "15JxZDT3QhShp1jZFsKavHE15NtVQh7Y2",
      "authorship_tag": "ABX9TyNtJFkzAztPOUQOOnfxquib",
      "include_colab_link": true
    },
    "kernelspec": {
      "name": "python3",
      "display_name": "Python 3"
    },
    "language_info": {
      "name": "python"
    }
  },
  "cells": [
    {
      "cell_type": "markdown",
      "metadata": {
        "id": "view-in-github",
        "colab_type": "text"
      },
      "source": [
        "<a href=\"https://colab.research.google.com/github/YoonJiHwan98/dacon_code/blob/main/%EC%8B%9D%EC%88%98_%EC%9D%B8%EC%9B%90_%EC%98%88%EC%B8%A1.ipynb\" target=\"_parent\"><img src=\"https://colab.research.google.com/assets/colab-badge.svg\" alt=\"Open In Colab\"/></a>"
      ]
    },
    {
      "cell_type": "code",
      "metadata": {
        "id": "8lReDsCbChy5"
      },
      "source": [
        "import pandas as pd\n",
        "import numpy as np\n",
        "import seaborn as sns\n",
        "import matplotlib.pyplot as plt\n",
        "\n",
        "%matplotlib inline\n",
        "import datetime"
      ],
      "execution_count": null,
      "outputs": []
    },
    {
      "cell_type": "code",
      "metadata": {
        "id": "Nqqx613ND-gq"
      },
      "source": [
        "!sudo apt-get install -y fonts-nanum\n",
        "!sudo fc-cache -fv\n",
        "!rm ~/.cache/matplotlib -rf\n",
        "\n",
        "plt.rc('font', family='NanumBarunGothic') "
      ],
      "execution_count": null,
      "outputs": []
    },
    {
      "cell_type": "code",
      "metadata": {
        "id": "VENNh7HYC5Dj"
      },
      "source": [
        "train = pd.read_csv('/content/drive/MyDrive/TAVE 머신러닝 스터디/식수 인원 예측/train.csv')\n",
        "test = pd.read_csv('/content/drive/MyDrive/TAVE 머신러닝 스터디/식수 인원 예측/test.csv')"
      ],
      "execution_count": null,
      "outputs": []
    },
    {
      "cell_type": "code",
      "metadata": {
        "id": "s3gPnSg9HM_H"
      },
      "source": [
        "submission = pd.read_csv('/content/drive/MyDrive/TAVE 머신러닝 스터디/식수 인원 예측/sample_submission.csv')"
      ],
      "execution_count": null,
      "outputs": []
    },
    {
      "cell_type": "markdown",
      "metadata": {
        "id": "7ePPVMv8IaHP"
      },
      "source": [
        "# 결측치 확인\n"
      ]
    },
    {
      "cell_type": "code",
      "metadata": {
        "id": "ztBYxZB0HNvy"
      },
      "source": [
        "train.info() # 결측치는 없다!"
      ],
      "execution_count": null,
      "outputs": []
    },
    {
      "cell_type": "markdown",
      "metadata": {
        "id": "-MgUhqhAISDN"
      },
      "source": [
        "# 파생 변수 생성\n",
        "\n"
      ]
    },
    {
      "cell_type": "code",
      "metadata": {
        "id": "siGi7TNyJL_7"
      },
      "source": [
        "train['식사 인원 수'] = train['본사정원수']- train['본사휴가자수'] - train['본사출장자수'] - train['현본사소속재택근무자수']"
      ],
      "execution_count": null,
      "outputs": []
    },
    {
      "cell_type": "code",
      "metadata": {
        "id": "5ozpbZnbJtD_"
      },
      "source": [
        "train"
      ],
      "execution_count": null,
      "outputs": []
    },
    {
      "cell_type": "markdown",
      "metadata": {
        "id": "t94j6wgXFgQS"
      },
      "source": [
        "**코로나를 빠트릴 수 없을 것 같아서 사회적 거리두기 단계 변수만 넣었습니다** "
      ]
    },
    {
      "cell_type": "code",
      "metadata": {
        "id": "jU51Q2wJPgBP"
      },
      "source": [
        "train['일자'] = pd.to_datetime(train['일자'])"
      ],
      "execution_count": null,
      "outputs": []
    },
    {
      "cell_type": "code",
      "metadata": {
        "id": "jDLLxWdbFDlO"
      },
      "source": [
        "for i in range(len(train)):\n",
        "    if train['일자'][i]<datetime.datetime(2020,8,23):\n",
        "        train.loc[i,'사회적거리두기 1단계']=0\n",
        "        train.loc[i,'사회적거리두기 1.5단계']=0\n",
        "        train.loc[i,'사회적거리두기 2단계 이상']=0\n",
        "    elif datetime.datetime(2020,8,23)<=train['일자'][i]<datetime.datetime(2020,10,13):\n",
        "        train.loc[i,'사회적거리두기 1단계']=0\n",
        "        train.loc[i,'사회적거리두기 1.5단계']=0\n",
        "        train.loc[i,'사회적거리두기 2단계 이상']=1\n",
        "    elif datetime.datetime(2020,10,13)<=train['일자'][i]<datetime.datetime(2020,12,8):\n",
        "        train.loc[i,'사회적거리두기 1단계']=1\n",
        "        train.loc[i,'사회적거리두기 1.5단계']=0\n",
        "        train.loc[i,'사회적거리두기 2단계 이상']=0\n",
        "    elif datetime.datetime(2020,12,8)<=train['일자'][i]<datetime.datetime(2021,2,15):\n",
        "        train.loc[i,'사회적거리두기 1단계']=0\n",
        "        train.loc[i,'사회적거리두기 1.5단계']=0\n",
        "        train.loc[i,'사회적거리두기 2단계 이상']=1\n",
        "    elif datetime.datetime(2021,2,15)<=train['일자'][i]:\n",
        "        train.loc[i,'사회적거리두기 1단계']=0\n",
        "        train.loc[i,'사회적거리두기 1.5단계']=1\n",
        "        train.loc[i,'사회적거리두기 2단계 이상']=0"
      ],
      "execution_count": null,
      "outputs": []
    },
    {
      "cell_type": "markdown",
      "metadata": {
        "id": "asmvWOURJ0T7"
      },
      "source": [
        "# 타겟과 변수간의 관계 시각화 "
      ]
    },
    {
      "cell_type": "markdown",
      "metadata": {
        "id": "bwTtoSyvKUqX"
      },
      "source": [
        "\n",
        "***일자***\n",
        "\n"
      ]
    },
    {
      "cell_type": "code",
      "metadata": {
        "id": "8siK4W4BQ7TM"
      },
      "source": [
        "train_mon = train.set_index('일자')"
      ],
      "execution_count": null,
      "outputs": []
    },
    {
      "cell_type": "code",
      "metadata": {
        "id": "MU_OaYubTgu_"
      },
      "source": [
        "train_mon= train_mon.resample('M').mean()\n",
        "train_mon"
      ],
      "execution_count": null,
      "outputs": []
    },
    {
      "cell_type": "code",
      "metadata": {
        "id": "DAqtOKNnKvYf"
      },
      "source": [
        "plt.figure(figsize=(15, 12))\n",
        "sns.lineplot(data = train_mon , x = '일자', y = '중식계')\n",
        "plt.show()"
      ],
      "execution_count": null,
      "outputs": []
    },
    {
      "cell_type": "markdown",
      "metadata": {
        "id": "3T5FRuiNNWeA"
      },
      "source": [
        "매년 연초에는 상승하다가 중반기에 떨어지고 다시 상승하다가 연말에 떨어지는 형태를 보임\n"
      ]
    },
    {
      "cell_type": "code",
      "metadata": {
        "id": "FjYw-UjiU22f"
      },
      "source": [
        "plt.figure(figsize=(15, 12))\n",
        "sns.barplot(data = train , x = '요일' , y = '중식계')\n",
        "plt.show()"
      ],
      "execution_count": null,
      "outputs": []
    },
    {
      "cell_type": "code",
      "metadata": {
        "id": "KoCdoQX6BKJr"
      },
      "source": [
        "plt.figure(figsize=(15, 12))\n",
        "sns.barplot(data = train , x = '요일' , y = '석식계')\n",
        "plt.show()"
      ],
      "execution_count": null,
      "outputs": []
    },
    {
      "cell_type": "markdown",
      "metadata": {
        "id": "E6bREVBi6TTE"
      },
      "source": [
        "월요일이 사람이 가장 많고 점점 줄다가 금요일에는 가장 적어진다."
      ]
    },
    {
      "cell_type": "markdown",
      "metadata": {
        "id": "Rrl3MUBM7S_6"
      },
      "source": [
        "# 시간 흐름에 따른 정원 수"
      ]
    },
    {
      "cell_type": "code",
      "metadata": {
        "id": "lWMvfyKy_n8B"
      },
      "source": [
        "plt.figure(figsize=(12, 8))\n",
        "sns.lineplot(data = train_mon , x = '일자', y = '본사정원수',label = '정원 수')"
      ],
      "execution_count": null,
      "outputs": []
    },
    {
      "cell_type": "code",
      "metadata": {
        "id": "EIMxSrX06Slf"
      },
      "source": [
        "plt.figure(figsize=(15, 12))\n",
        "sns.lineplot(data = train_mon , x = '일자', y = '본사휴가자수',label = '휴가자 수')\n",
        "sns.lineplot(data = train_mon , x = '일자', y = '본사출장자수',label = '출장자 수')\n",
        "sns.lineplot(data = train_mon , x = '일자', y = '현본사소속재택근무자수',label = '재택근무자 수')\n",
        "plt.show()"
      ],
      "execution_count": null,
      "outputs": []
    },
    {
      "cell_type": "markdown",
      "metadata": {
        "id": "9uFvhBIA_0EJ"
      },
      "source": [
        "매년 휴가자 수는 매년 비슷한 형태로 반복되고 출장자수는 규칙이 없다.\n",
        "재택근무자수는 2020년 이후 폭발적으로 늘었다."
      ]
    },
    {
      "cell_type": "code",
      "metadata": {
        "id": "XOwhWi4CsNJW"
      },
      "source": [
        "sns.barplot(data = train , x = '사회적거리두기 2단계 이상',y = '중식계')\n"
      ],
      "execution_count": null,
      "outputs": []
    },
    {
      "cell_type": "markdown",
      "metadata": {
        "id": "3LCJBEGAAKtR"
      },
      "source": [
        "# 중식 메뉴와 석식 메뉴 분석\n",
        "https://dacon.io/competitions/official/235743/codeshare/2986?page=1&dtype=recent 참고"
      ]
    },
    {
      "cell_type": "code",
      "metadata": {
        "id": "9Twf6HNR5pcc"
      },
      "source": [
        "train"
      ],
      "execution_count": null,
      "outputs": []
    },
    {
      "cell_type": "code",
      "metadata": {
        "id": "vitJStTW2aDZ"
      },
      "source": [
        "# 일별 점심메뉴를 작은 리스트로 갖고 있는 큰 리스트 (lunch_train) 만들기 \n",
        "lunch_train = []\n",
        "for day in range(len(train)):\n",
        "    tmp = train.iloc[day, 8].split(' ') # 공백으로 문자열 구분 \n",
        "    tmp = ' '.join(tmp).split()    # 빈 원소 삭제\n",
        "\n",
        "    search = '('   # 원산지 정보는 삭제\n",
        "    for menu in tmp:\n",
        "        if search in menu:\n",
        "            tmp.remove(menu)\n",
        "    \n",
        "    lunch_train.append(tmp) "
      ],
      "execution_count": null,
      "outputs": []
    },
    {
      "cell_type": "code",
      "metadata": {
        "id": "T5rZlevuo2lc"
      },
      "source": [
        "# lunch train data에 메뉴명별 칼럼 만들기 (밥, 국, 반찬1-3)\n",
        "menu_len_list = []\n",
        "bob = []; gook = []; banchan1 = []; banchan2 = []; banchan3 = []; kimchi = []; side = [];\n",
        "for i, day_menu in enumerate(lunch_train):\n",
        "    bob_tmp = day_menu[0]; bob.append(bob_tmp)\n",
        "    gook_tmp = day_menu[1]; gook.append(gook_tmp)\n",
        "    banchan1_tmp = day_menu[2]; banchan1.append(banchan1_tmp)\n",
        "    banchan2_tmp = day_menu[3]; banchan2.append(banchan2_tmp)\n",
        "    banchan3_tmp = day_menu[4]; banchan3.append(banchan3_tmp)\n",
        "\n",
        "    if i < 1067:\n",
        "        kimchi_tmp = day_menu[-1]; kimchi.append(kimchi_tmp)\n",
        "        side_tmp = day_menu[-2]; side.append(side_tmp)\n",
        "    else: \n",
        "        kimchi_tmp = day_menu[-2]; kimchi.append(kimchi_tmp)\n",
        "        side_tmp  = day_menu[-1]; side.append(side_tmp)\n",
        "    menu_len_list.append([len(day_menu),i])"
      ],
      "execution_count": null,
      "outputs": []
    },
    {
      "cell_type": "code",
      "metadata": {
        "id": "8SKY1REfo34Q"
      },
      "source": [
        "train_ln = train.copy()\n",
        "\n",
        "train_ln['밥'] = bob\n",
        "train_ln['국'] = gook\n",
        "train_ln['반찬1'] = banchan1; \n",
        "train_ln['반찬2'] = banchan2;\n",
        "train_ln['반찬3'] = banchan3\n",
        "train_ln['김치'] = kimchi\n",
        "train_ln['사이드'] = side"
      ],
      "execution_count": null,
      "outputs": []
    },
    {
      "cell_type": "code",
      "metadata": {
        "id": "jri5hWvro9Jf"
      },
      "source": [
        "train_ln.head(5)"
      ],
      "execution_count": null,
      "outputs": []
    },
    {
      "cell_type": "markdown",
      "metadata": {
        "id": "F-6w5BbOpX91"
      },
      "source": [
        "저녁 메뉴 분석"
      ]
    },
    {
      "cell_type": "code",
      "metadata": {
        "id": "Sf9usRxKpW-P"
      },
      "source": [
        "# 일별 저녁메뉴를 작은 리스트로 갖고 있는 큰 리스트 (dinner_train) 만들기 \n",
        "dinner_train = []\n",
        "for day in range(len(train)):\n",
        "    tmp = train.iloc[day, 9].split(' ') # 공백으로 문자열 구분 \n",
        "    tmp = ' '.join(tmp).split()    # 빈 원소 삭제\n",
        "\n",
        "    search = '('   # 원산지 정보는 삭제\n",
        "    for menu in tmp:\n",
        "        if search in menu:\n",
        "            tmp.remove(menu)\n",
        "    \n",
        "    dinner_train.append(tmp) "
      ],
      "execution_count": null,
      "outputs": []
    },
    {
      "cell_type": "code",
      "metadata": {
        "id": "HAL3vvKPptQX"
      },
      "source": [
        "# dinner train data에 메뉴명별 칼럼 만들기 (밥, 국, 반찬1-3)\n",
        "bob = []; gook = []; banchan1 = []; banchan2 = []; banchan3 = []; kimchi = []; side = []\n",
        "for i, day_menu in enumerate(dinner_train):\n",
        "    if (len(day_menu) < 4 ):\n",
        "        bob.append('*')\n",
        "        gook.append('*')\n",
        "        banchan1.append('*')\n",
        "        banchan2.append('*')\n",
        "        banchan3.append('*')\n",
        "\n",
        "        if i < 1067:\n",
        "            kimchi.append('*')\n",
        "            side.append('*')\n",
        "        else: \n",
        "            kimchi.append('*')\n",
        "            side.append('*')\n",
        "\n",
        "    elif (len(day_menu)==4):\n",
        "        bob_tmp = day_menu[0]; bob.append(bob_tmp)\n",
        "        gook_tmp = day_menu[1]; gook.append(gook_tmp)\n",
        "        banchan1_tmp = day_menu[2]; banchan1.append(banchan1_tmp)\n",
        "        banchan2_tmp = day_menu[3]; banchan2.append(banchan2_tmp)\n",
        "        banchan3.append('*')\n",
        "\n",
        "        if i < 1067:\n",
        "            kimchi_tmp = day_menu[-1]; kimchi.append(kimchi_tmp)\n",
        "            side_tmp = day_menu[-2]; side.append(side_tmp)\n",
        "        else: \n",
        "            kimchi_tmp = day_menu[-2]; kimchi.append(kimchi_tmp)\n",
        "            side_tmp  = day_menu[-1]; side.append(side_tmp)\n",
        "    \n",
        "    else :\n",
        "        bob_tmp = day_menu[0]; bob.append(bob_tmp)\n",
        "        gook_tmp = day_menu[1]; gook.append(gook_tmp)\n",
        "        banchan1_tmp = day_menu[2]; banchan1.append(banchan1_tmp)\n",
        "        banchan2_tmp = day_menu[3]; banchan2.append(banchan2_tmp)\n",
        "        banchan3_tmp = day_menu[4]; banchan3.append(banchan3_tmp)\n",
        "\n",
        "        if i < 1067:\n",
        "            kimchi_tmp = day_menu[-1]; kimchi.append(kimchi_tmp)\n",
        "            side_tmp = day_menu[-2]; side.append(side_tmp)\n",
        "        else: \n",
        "            kimchi_tmp = day_menu[-2]; kimchi.append(kimchi_tmp)\n",
        "            side_tmp  = day_menu[-1]; side.append(side_tmp)"
      ],
      "execution_count": null,
      "outputs": []
    },
    {
      "cell_type": "code",
      "metadata": {
        "id": "Jg9IOz9WpvbE"
      },
      "source": [
        "train_dn = train.copy()\n",
        "\n",
        "train_dn['밥'] = bob\n",
        "train_dn['국'] = gook\n",
        "train_dn['반찬1'] = banchan1; train_dn['반찬2'] = banchan2;\n",
        "train_dn['반찬3'] = banchan3\n",
        "train_dn['김치'] = kimchi\n",
        "train_dn['사이드'] = side"
      ],
      "execution_count": null,
      "outputs": []
    },
    {
      "cell_type": "code",
      "metadata": {
        "id": "sRK-Q6zSp2GE"
      },
      "source": [
        "main30_t = train_ln['반찬1'].value_counts()[:30].to_frame().reset_index()"
      ],
      "execution_count": null,
      "outputs": []
    },
    {
      "cell_type": "code",
      "metadata": {
        "id": "h7kyFPr0pPha"
      },
      "source": [
        "target = list(main30_t[0:30]['index'])\n",
        "target\n",
        "main30 = train_ln[ train_ln['반찬1'].isin(target)] # top30 메뉴가 나온 날만 뽑기"
      ],
      "execution_count": null,
      "outputs": []
    },
    {
      "cell_type": "code",
      "metadata": {
        "id": "glv3kgvviQna"
      },
      "source": [
        "main30"
      ],
      "execution_count": null,
      "outputs": []
    },
    {
      "cell_type": "code",
      "metadata": {
        "id": "-IY0YjDmgckf"
      },
      "source": [
        "plt.figure(figsize=(20, 15))\n",
        "sns.barplot(data = main30, x = '반찬1' , y = '중식계')\n",
        "plt.xticks(rotation=45)\n",
        "plt.show()"
      ],
      "execution_count": null,
      "outputs": []
    },
    {
      "cell_type": "markdown",
      "metadata": {
        "id": "piX8tNJGkfmp"
      },
      "source": [
        "각 메뉴별 식사 인원 수\n"
      ]
    },
    {
      "cell_type": "markdown",
      "metadata": {
        "id": "brzdaN9yyojT"
      },
      "source": [
        "**가장 많은 인원이 점심을 먹엇을 때의 메뉴** \n",
        "\n",
        "메뉴의 공통점이나 5일 사이의 공통점을 좀 확인해보면 좋을 것 같습니다\n",
        "\n"
      ]
    },
    {
      "cell_type": "code",
      "metadata": {
        "id": "cL12ZnCxyoCw"
      },
      "source": [
        "train_ln.sort_values('중식계',ascending= False).head(5)"
      ],
      "execution_count": null,
      "outputs": []
    },
    {
      "cell_type": "markdown",
      "metadata": {
        "id": "vQrnVmdaKoal"
      },
      "source": [
        "이후 메뉴를 카테고리화 시켜서 그냥 모델에 돌리기"
      ]
    },
    {
      "cell_type": "code",
      "metadata": {
        "id": "VWiLVPUIKdmU"
      },
      "source": [
        "!pip install konlpy wordcloud"
      ],
      "execution_count": null,
      "outputs": []
    },
    {
      "cell_type": "code",
      "metadata": {
        "id": "F6385V1aVXNw"
      },
      "source": [
        "from PIL import Image\n",
        "from wordcloud import WordCloud\n",
        "\n",
        "import numpy as np"
      ],
      "execution_count": null,
      "outputs": []
    },
    {
      "cell_type": "markdown",
      "metadata": {
        "id": "tjtDHQGNnLGA"
      },
      "source": [
        "# 데이터 전처리"
      ]
    },
    {
      "cell_type": "markdown",
      "metadata": {
        "id": "wr23ba_Tqqhb"
      },
      "source": [
        "사용하지 않을 칼럼 제거! 출장자수와 휴가자수는 식사 인원 수를 사용하므로 제거 해주었습니당"
      ]
    },
    {
      "cell_type": "code",
      "metadata": {
        "id": "y_sBU26yjJgH"
      },
      "source": [
        "train_ln.drop(columns = ['본사정원수','본사휴가자수','본사출장자수','조식메뉴','중식메뉴','석식메뉴','석식계','현본사소속재택근무자수'],inplace = True)"
      ],
      "execution_count": null,
      "outputs": []
    },
    {
      "cell_type": "markdown",
      "metadata": {
        "id": "jVy9JPYdrBJn"
      },
      "source": [
        "단위가 흠 ,,, 다 같은 인원수라서 필요 없을 것 같지만.. 혹시 모르니까 스케일링은 진행 했습니다. 그래서 스케일링 한 것 과 안한 것의 차이를 좀 뒤에서 보는느낌.."
      ]
    },
    {
      "cell_type": "code",
      "metadata": {
        "id": "luo6GHTLnQmE"
      },
      "source": [
        "train_ln['요일'] =  train_ln['요일'].astype('category')\n",
        "train_ln['요일'] = train_ln['요일'].cat.codes\n",
        "\n",
        "\n",
        "train_ln['밥'] =  train_ln['밥'].astype('category')\n",
        "train_ln['밥'] = train_ln['밥'].cat.codes\n",
        "\n",
        "train_ln['국'] =  train_ln['국'].astype('category')\n",
        "train_ln['국'] = train_ln['국'].cat.codes\n",
        "\n",
        "train_ln['반찬1'] =  train_ln['반찬1'].astype('category')\n",
        "train_ln['반찬1'] = train_ln['반찬1'].cat.codes\n",
        "\n",
        "train_ln['반찬2'] =  train_ln['반찬2'].astype('category')\n",
        "train_ln['반찬2'] = train_ln['반찬2'].cat.codes\n",
        "\n",
        "train_ln['반찬3'] =  train_ln['반찬3'].astype('category')\n",
        "train_ln['반찬3'] = train_ln['반찬3'].cat.codes\n",
        "\n",
        "train_ln['김치'] =  train_ln['김치'].astype('category')\n",
        "train_ln['김치'] = train_ln['김치'].cat.codes\n",
        "\n",
        "train_ln['사이드'] =  train_ln['사이드'].astype('category')\n",
        "train_ln['사이드'] = train_ln['사이드'].cat.codes"
      ],
      "execution_count": null,
      "outputs": []
    },
    {
      "cell_type": "code",
      "metadata": {
        "id": "lebSoOoPtHAw"
      },
      "source": [
        "train_ln.info()"
      ],
      "execution_count": null,
      "outputs": []
    },
    {
      "cell_type": "code",
      "metadata": {
        "id": "qJ9mJ4sivu0x"
      },
      "source": [
        "train_ln_scaled = train_ln.copy()\n",
        "from sklearn.preprocessing import StandardScaler\n",
        "scaler = StandardScaler()\n",
        "train_ln_scaled[['본사시간외근무명령서승인건수','식사 인원 수']] = scaler.fit_transform(train_ln_scaled[['본사시간외근무명령서승인건수','식사 인원 수']])"
      ],
      "execution_count": null,
      "outputs": []
    },
    {
      "cell_type": "code",
      "metadata": {
        "id": "UWH0Gx4QtIL9"
      },
      "source": [
        "# 타겟과 관계가 높은 변수들 확인\n",
        "plt.figure(figsize=(8, 5))\n",
        "train_ln.corr()['중식계'].drop('중식계').sort_values().plot(kind='barh')"
      ],
      "execution_count": null,
      "outputs": []
    },
    {
      "cell_type": "markdown",
      "metadata": {
        "id": "kV3b0LRvve3F"
      },
      "source": [
        "요일, 야근하는 인원 수, 사회적 거리두기 2단계 변수들이 높게 나온 것을 알 수 있습니다.. 맞나여..\n",
        "\n",
        "야근 할만큼 일이 많고 바빠서 그냥 사내식당에서 많이 먹었나..?\n",
        "\n",
        "그리고 대한민국이라,, 김치가 높게 나온 것 같습니다.."
      ]
    },
    {
      "cell_type": "code",
      "metadata": {
        "id": "-bnQ15VNttUG"
      },
      "source": [
        "plt.figure(figsize = (15,12))\n",
        "sns.heatmap(train_ln.corr(),cmap = 'Blues')\n",
        "plt.show()"
      ],
      "execution_count": null,
      "outputs": []
    },
    {
      "cell_type": "markdown",
      "metadata": {
        "id": "70B0ysRsxna5"
      },
      "source": [
        "신기하게 반찬 3 와 사이드가 상관관계가 높은 것을 알 수 있습니다.\n",
        "이는 사이드 메뉴가 나오지 않을 경우 반찬 3와 같은 것으로 들어가서 그렇습니다..!"
      ]
    },
    {
      "cell_type": "code",
      "metadata": {
        "id": "BBS2tlO7xnGA"
      },
      "source": [
        "test['식사 인원 수'] = test['본사정원수']- test['본사휴가자수'] - test['본사출장자수'] - test['현본사소속재택근무자수']\n",
        "test['일자'] = pd.to_datetime(test['일자'])\n",
        "\n",
        "for i in range(len(test)):\n",
        "    if test['일자'][i]<datetime.datetime(2020,8,23):\n",
        "        test.loc[i,'사회적거리두기 1단계']=0\n",
        "        test.loc[i,'사회적거리두기 1.5단계']=0\n",
        "        test.loc[i,'사회적거리두기 2단계 이상']=0\n",
        "    elif datetime.datetime(2020,8,23)<=test['일자'][i]<datetime.datetime(2020,10,13):\n",
        "        test.loc[i,'사회적거리두기 1단계']=0\n",
        "        test.loc[i,'사회적거리두기 1.5단계']=0\n",
        "        test.loc[i,'사회적거리두기 2단계 이상']=1\n",
        "    elif datetime.datetime(2020,10,13)<=test['일자'][i]<datetime.datetime(2020,12,8):\n",
        "        test.loc[i,'사회적거리두기 1단계']=1\n",
        "        test.loc[i,'사회적거리두기 1.5단계']=0\n",
        "        test.loc[i,'사회적거리두기 2단계 이상']=0\n",
        "    elif datetime.datetime(2020,12,8)<=test['일자'][i]<datetime.datetime(2021,2,15):\n",
        "        test.loc[i,'사회적거리두기 1단계']=0\n",
        "        test.loc[i,'사회적거리두기 1.5단계']=0\n",
        "        test.loc[i,'사회적거리두기 2단계 이상']=1\n",
        "    elif datetime.datetime(2021,2,15)<=test['일자'][i]:\n",
        "        test.loc[i,'사회적거리두기 1단계']=0\n",
        "        test.loc[i,'사회적거리두기 1.5단계']=1\n",
        "        test.loc[i,'사회적거리두기 2단계 이상']=0"
      ],
      "execution_count": null,
      "outputs": []
    },
    {
      "cell_type": "code",
      "metadata": {
        "id": "zx2CNivo9_GN"
      },
      "source": [
        ""
      ],
      "execution_count": null,
      "outputs": []
    },
    {
      "cell_type": "code",
      "metadata": {
        "id": "iQqX7QMBZZko"
      },
      "source": [
        "# 일별 점심메뉴를 작은 리스트로 갖고 있는 큰 리스트 (lunch_train) 만들기 \n",
        "lunch_train = []\n",
        "for day in range(len(test)):\n",
        "    tmp = test.iloc[day, 8].split(' ') # 공백으로 문자열 구분 \n",
        "    tmp = ' '.join(tmp).split()    # 빈 원소 삭제\n",
        "\n",
        "    search = '('   # 원산지 정보는 삭제\n",
        "    for menu in tmp:\n",
        "        if search in menu:\n",
        "            tmp.remove(menu)\n",
        "    \n",
        "    lunch_train.append(tmp)\n",
        "\n",
        "# lunch train data에 메뉴명별 칼럼 만들기 (밥, 국, 반찬1-3)\n",
        "menu_len_list = []\n",
        "bob = []; gook = []; banchan1 = []; banchan2 = []; banchan3 = []; kimchi = []; side = [];\n",
        "for i, day_menu in enumerate(lunch_train):\n",
        "    bob_tmp = day_menu[0]; bob.append(bob_tmp)\n",
        "    gook_tmp = day_menu[1]; gook.append(gook_tmp)\n",
        "    banchan1_tmp = day_menu[2]; banchan1.append(banchan1_tmp)\n",
        "    banchan2_tmp = day_menu[3]; banchan2.append(banchan2_tmp)\n",
        "    banchan3_tmp = day_menu[4]; banchan3.append(banchan3_tmp)\n",
        "\n",
        "    if i < 1067:\n",
        "        kimchi_tmp = day_menu[-1]; kimchi.append(kimchi_tmp)\n",
        "        side_tmp = day_menu[-2]; side.append(side_tmp)\n",
        "    else: \n",
        "        kimchi_tmp = day_menu[-2]; kimchi.append(kimchi_tmp)\n",
        "        side_tmp  = day_menu[-1]; side.append(side_tmp)\n",
        "    menu_len_list.append([len(day_menu),i])\n",
        "\n",
        "test_ln = test.copy()\n",
        "\n",
        "test_ln['밥'] = bob\n",
        "test_ln['국'] = gook\n",
        "test_ln['반찬1'] = banchan1; \n",
        "test_ln['반찬2'] = banchan2;\n",
        "test_ln['반찬3'] = banchan3\n",
        "test_ln['김치'] = kimchi\n",
        "test_ln['사이드'] = side"
      ],
      "execution_count": null,
      "outputs": []
    },
    {
      "cell_type": "code",
      "metadata": {
        "id": "ZqISJBrTLGmx"
      },
      "source": [
        "test_ln['요일'] =  test_ln['요일'].astype('category')\n",
        "test_ln['요일'] = test_ln['요일'].cat.codes\n",
        "\n",
        "\n",
        "test_ln['밥'] =  test_ln['밥'].astype('category')\n",
        "test_ln['밥'] = test_ln['밥'].cat.codes\n",
        "\n",
        "test_ln['국'] =  test_ln['국'].astype('category')\n",
        "test_ln['국'] = test_ln['국'].cat.codes\n",
        "\n",
        "test_ln['반찬1'] =  test_ln['반찬1'].astype('category')\n",
        "test_ln['반찬1'] = test_ln['반찬1'].cat.codes\n",
        "\n",
        "test_ln['반찬2'] =  test_ln['반찬2'].astype('category')\n",
        "test_ln['반찬2'] = test_ln['반찬2'].cat.codes\n",
        "\n",
        "test_ln['반찬3'] =  test_ln['반찬3'].astype('category')\n",
        "test_ln['반찬3'] = test_ln['반찬3'].cat.codes\n",
        "\n",
        "test_ln['김치'] =  test_ln['김치'].astype('category')\n",
        "test_ln['김치'] = test_ln['김치'].cat.codes\n",
        "\n",
        "test_ln['사이드'] =  test_ln['사이드'].astype('category')\n",
        "test_ln['사이드'] = test_ln['사이드'].cat.codes"
      ],
      "execution_count": null,
      "outputs": []
    },
    {
      "cell_type": "code",
      "metadata": {
        "id": "Qb8zOUngZnYg"
      },
      "source": [
        "test_ln.drop(columns = ['본사정원수','본사휴가자수','본사출장자수','조식메뉴','중식메뉴','석식메뉴','현본사소속재택근무자수'],inplace = True)"
      ],
      "execution_count": null,
      "outputs": []
    },
    {
      "cell_type": "markdown",
      "metadata": {
        "id": "VuREj59Au2ko"
      },
      "source": [
        "# 모델링"
      ]
    },
    {
      "cell_type": "code",
      "metadata": {
        "id": "UH24Vx9Wu6eB"
      },
      "source": [
        "train_ln_scaled.info()"
      ],
      "execution_count": null,
      "outputs": []
    },
    {
      "cell_type": "code",
      "metadata": {
        "id": "f1UmEJEo2vp8"
      },
      "source": [
        "#best1 = compare_models(fold=5, n_select=2, exclude=['svm','ridge'])"
      ],
      "execution_count": null,
      "outputs": []
    },
    {
      "cell_type": "code",
      "metadata": {
        "id": "30mgYj8tSPfa"
      },
      "source": [
        "#tuned_best = tune_model(best1, n_iter = 3)"
      ],
      "execution_count": null,
      "outputs": []
    },
    {
      "cell_type": "code",
      "metadata": {
        "id": "_G9yzISaXM2N"
      },
      "source": [
        "#pred = predict_model(tuned_best,test_ln)"
      ],
      "execution_count": null,
      "outputs": []
    },
    {
      "cell_type": "code",
      "metadata": {
        "id": "ooRf41oBXYqz"
      },
      "source": [
        "#test['predict'] = pred"
      ],
      "execution_count": null,
      "outputs": []
    },
    {
      "cell_type": "code",
      "metadata": {
        "id": "i9fvOkg5_2Cc"
      },
      "source": [
        "train_ln"
      ],
      "execution_count": null,
      "outputs": []
    },
    {
      "cell_type": "markdown",
      "metadata": {
        "id": "8Piqq4phYmvy"
      },
      "source": [
        "일단 적당히 예측만 해보았는데... 다음번까지 직접 시계열모델로 구현하고 좀 더 성능을 높혀서 구현해보도록하겠습니다... 죄송합니당..ㅠㅠ"
      ]
    },
    {
      "cell_type": "code",
      "metadata": {
        "id": "7-jfJi5SbUdu"
      },
      "source": [
        "train_ln"
      ],
      "execution_count": null,
      "outputs": []
    },
    {
      "cell_type": "code",
      "metadata": {
        "id": "M5ruibqXAH42"
      },
      "source": [
        "# 라이브러리 설치\n",
        "!pip install delayed"
      ],
      "execution_count": null,
      "outputs": []
    },
    {
      "cell_type": "code",
      "metadata": {
        "id": "QGzmLG9x_tid"
      },
      "source": [
        "# 수치형 설명 변수를 활용한 선형 회귀 모형 적합\n",
        "from sklearn.linear_model import LinearRegression\n"
      ],
      "execution_count": null,
      "outputs": []
    },
    {
      "cell_type": "code",
      "metadata": {
        "id": "pUUKFoYdBCaa"
      },
      "source": [
        "pd.options.display.float_format = '{:.5f}'.format"
      ],
      "execution_count": null,
      "outputs": []
    },
    {
      "cell_type": "code",
      "metadata": {
        "id": "8X6PrZjC7jxR"
      },
      "source": [
        "#  회귀모형 재적합\n",
        "linear_model = LinearRegression()\n",
        "    \n",
        "X = train_ln.drop(columns=['일자','중식계'])\n",
        "y = train_ln['중식계']\n",
        "\n",
        "linear_model.fit(X, y)\n",
        "\n",
        "print(linear_model.intercept_)\n",
        "print(linear_model.coef_)"
      ],
      "execution_count": null,
      "outputs": []
    },
    {
      "cell_type": "code",
      "metadata": {
        "id": "tPOa8ZP7_7PH"
      },
      "source": [
        "# 회귀 계수 정리\n",
        "coeff = pd.DataFrame(linear_model.coef_, X.columns,columns=['Coefficient'])\n",
        "coeff"
      ],
      "execution_count": null,
      "outputs": []
    },
    {
      "cell_type": "code",
      "metadata": {
        "id": "ddt21LavBJdz"
      },
      "source": [
        "from sklearn.metrics import mean_absolute_error\n",
        "from sklearn.model_selection import train_test_split\n",
        "from xgboost import XGBRegressor\n",
        "from lightgbm import LGBMRegressor\n",
        "from sklearn.ensemble import GradientBoostingRegressor\n",
        "from sklearn.model_selection import GridSearchCV\n",
        "import numpy as np"
      ],
      "execution_count": null,
      "outputs": []
    },
    {
      "cell_type": "code",
      "metadata": {
        "id": "GHkjmbo1CTC_"
      },
      "source": [
        "X = train_ln.drop(columns=['일자','중식계'])\n",
        "y = train_ln['중식계']\n",
        "\n",
        "X_train, X_test , y_train, y_test = train_test_split(X,y,test_size = 0.2,random_state = 11)"
      ],
      "execution_count": null,
      "outputs": []
    },
    {
      "cell_type": "code",
      "metadata": {
        "id": "HzC_KbhbEM9r"
      },
      "source": [
        "xgb = XGBRegressor(n_estimators= 500 , learning_rate= 0.1 , max_depth= 4)\n",
        "xgb.fit(X_train,y_train)\n",
        "xgb_pred = xgb.predict(X_test)"
      ],
      "execution_count": null,
      "outputs": []
    },
    {
      "cell_type": "code",
      "metadata": {
        "id": "rFCNN741Em-m"
      },
      "source": [
        "mean_absolute_error(y_test, xgb_pred)"
      ],
      "execution_count": null,
      "outputs": []
    },
    {
      "cell_type": "code",
      "metadata": {
        "id": "7wz_vXh0E291"
      },
      "source": [
        "xgb_param_grid = {\n",
        "    'n_estimators' : [100,200,400,600],\n",
        "    'learning_rate' : [0.01 , 0.05 , 0.1,0.15,0.2],\n",
        "    'max_depth' : [4 , 6 , 8, 10 , 12]\n",
        "}\n",
        "\n",
        "xgb_grid = GridSearchCV(xgb , param_grid= xgb_param_grid , scoring= 'neg_mean_absolute_error',n_jobs= -1 , verbose= 1)\n",
        "xgb_grid.fit(X_train,y_train)"
      ],
      "execution_count": null,
      "outputs": []
    },
    {
      "cell_type": "code",
      "metadata": {
        "id": "QbN7bOH9G2fg"
      },
      "source": [
        "print('최고의 평균 정확도 : {0: 4f}'.format(xgb_grid.best_score_))\n",
        "print('최고의 파라미터 : ',xgb_grid.best_params_)"
      ],
      "execution_count": null,
      "outputs": []
    },
    {
      "cell_type": "code",
      "metadata": {
        "id": "J9ruZy-qIUUH"
      },
      "source": [
        "from xgboost import plot_importance\n",
        "fig, ax = plt.subplots(figsize = (15,12))\n",
        "plot_importance(xgb, ax = ax)\n",
        "plt.show()"
      ],
      "execution_count": null,
      "outputs": []
    },
    {
      "cell_type": "code",
      "metadata": {
        "id": "l6UcQUTrIyz9"
      },
      "source": [
        "train_ln['pred'] = xgb_grid.predict(X)\n",
        "train_ln"
      ],
      "execution_count": null,
      "outputs": []
    },
    {
      "cell_type": "code",
      "metadata": {
        "id": "L25wBNM7K48P"
      },
      "source": [
        "test_final = test_ln.drop(columns='일자')"
      ],
      "execution_count": null,
      "outputs": []
    },
    {
      "cell_type": "code",
      "metadata": {
        "id": "AGX88Vg0KCnn"
      },
      "source": [
        "submission['중식계'] = xgb_grid.predict(test_final)"
      ],
      "execution_count": null,
      "outputs": []
    },
    {
      "cell_type": "code",
      "metadata": {
        "id": "sixlzGMjKOFw"
      },
      "source": [
        "train_dn"
      ],
      "execution_count": null,
      "outputs": []
    },
    {
      "cell_type": "code",
      "metadata": {
        "id": "9WDPDuufKts1"
      },
      "source": [
        "train_dn.drop(columns = ['본사정원수','본사휴가자수','본사출장자수','조식메뉴','중식메뉴','석식메뉴','현본사소속재택근무자수'],inplace = True)"
      ],
      "execution_count": null,
      "outputs": []
    },
    {
      "cell_type": "code",
      "metadata": {
        "id": "GHLAEev5MjUc"
      },
      "source": [
        "train_dn"
      ],
      "execution_count": null,
      "outputs": []
    },
    {
      "cell_type": "code",
      "metadata": {
        "id": "Lhve0nzHMuHW"
      },
      "source": [
        "train_dn['요일'] =  train_dn['요일'].astype('category')\n",
        "train_dn['요일'] = train_dn['요일'].cat.codes\n",
        "\n",
        "train_dn['밥'] =  train_dn['밥'].astype('category')\n",
        "train_dn['밥'] = train_dn['밥'].cat.codes\n",
        "\n",
        "train_dn['국'] =  train_dn['국'].astype('category')\n",
        "train_dn['국'] = train_dn['국'].cat.codes\n",
        "\n",
        "train_dn['반찬1'] =  train_dn['반찬1'].astype('category')\n",
        "train_dn['반찬1'] = train_dn['반찬1'].cat.codes\n",
        "\n",
        "train_dn['반찬2'] =  train_dn['반찬2'].astype('category')\n",
        "train_dn['반찬2'] = train_dn['반찬2'].cat.codes\n",
        "\n",
        "train_dn['반찬3'] =  train_dn['반찬3'].astype('category')\n",
        "train_dn['반찬3'] = train_dn['반찬3'].cat.codes\n",
        "\n",
        "train_dn['김치'] =  train_dn['김치'].astype('category')\n",
        "train_dn['김치'] = train_dn['김치'].cat.codes\n",
        "\n",
        "train_dn['사이드'] =  train_dn['사이드'].astype('category')\n",
        "train_dn['사이드'] = train_dn['사이드'].cat.codes"
      ],
      "execution_count": null,
      "outputs": []
    },
    {
      "cell_type": "code",
      "metadata": {
        "id": "ZeX9CmMkOWDh"
      },
      "source": [
        ""
      ],
      "execution_count": null,
      "outputs": []
    },
    {
      "cell_type": "code",
      "metadata": {
        "id": "eG3w8cb2NWVG"
      },
      "source": [
        "X = train_dn.drop(columns=['일자','중식계','석식계'])\n",
        "y = train_dn['석식계']\n",
        "\n",
        "X2_train, X2_test , y2_train, y2_test = train_test_split(X,y,test_size = 0.2,random_state = 11)"
      ],
      "execution_count": null,
      "outputs": []
    },
    {
      "cell_type": "code",
      "metadata": {
        "id": "UKETjgRgNX4n"
      },
      "source": [
        "xgb1 = XGBRegressor(n_estimators= 500 , learning_rate= 0.1 , max_depth= 4)"
      ],
      "execution_count": null,
      "outputs": []
    },
    {
      "cell_type": "code",
      "metadata": {
        "id": "6v4GAnl-Ng7m"
      },
      "source": [
        "xgb_param_grid = {\n",
        "    'n_estimators' : [100,200,400,600],\n",
        "    'learning_rate' : [0.01 , 0.05 , 0.1,0.15,0.2],\n",
        "    'max_depth' : [4 , 6 , 8, 10 , 12]\n",
        "}\n",
        "\n",
        "xgb_grid1 = GridSearchCV(xgb1 , param_grid= xgb_param_grid , scoring= 'neg_mean_absolute_error',n_jobs= -1 , verbose= 1)\n",
        "xgb_grid1.fit(X_train,y_train)"
      ],
      "execution_count": null,
      "outputs": []
    },
    {
      "cell_type": "code",
      "metadata": {
        "id": "IV3whGeINwvV"
      },
      "source": [
        "print('최고의 평균 정확도 : {0: 4f}'.format(xgb_grid1.best_score_))\n",
        "print('최고의 파라미터 : ',xgb_grid1.best_params_)"
      ],
      "execution_count": null,
      "outputs": []
    },
    {
      "cell_type": "code",
      "metadata": {
        "id": "7kUOan5iVn0X"
      },
      "source": [
        "fig, ax = plt.subplots(figsize = (15,12))\n",
        "plot_importance(xgb1, ax = ax)\n",
        "plt.show()"
      ],
      "execution_count": null,
      "outputs": []
    },
    {
      "cell_type": "code",
      "metadata": {
        "id": "OX0pKqaaWLf0"
      },
      "source": [
        "test"
      ],
      "execution_count": null,
      "outputs": []
    },
    {
      "cell_type": "code",
      "metadata": {
        "id": "jW7hQ1NbOrlj"
      },
      "source": [
        "# 일별 점심메뉴를 작은 리스트로 갖고 있는 큰 리스트 (lunch_train) 만들기 \n",
        "lunch_train = []\n",
        "for day in range(len(test)):\n",
        "    tmp = test.iloc[day, 9].split(' ') # 공백으로 문자열 구분 \n",
        "    tmp = ' '.join(tmp).split()    # 빈 원소 삭제\n",
        "\n",
        "    search = '('   # 원산지 정보는 삭제\n",
        "    for menu in tmp:\n",
        "        if search in menu:\n",
        "            tmp.remove(menu)\n",
        "    \n",
        "    lunch_train.append(tmp)\n",
        "\n",
        "# lunch train data에 메뉴명별 칼럼 만들기 (밥, 국, 반찬1-3)\n",
        "menu_len_list = []\n",
        "bob = []; gook = []; banchan1 = []; banchan2 = []; banchan3 = []; kimchi = []; side = [];\n",
        "for i, day_menu in enumerate(lunch_train):\n",
        "    bob_tmp = day_menu[0]; bob.append(bob_tmp)\n",
        "    gook_tmp = day_menu[1]; gook.append(gook_tmp)\n",
        "    banchan1_tmp = day_menu[2]; banchan1.append(banchan1_tmp)\n",
        "    banchan2_tmp = day_menu[3]; banchan2.append(banchan2_tmp)\n",
        "    banchan3_tmp = day_menu[4]; banchan3.append(banchan3_tmp)\n",
        "\n",
        "    if i < 1067:\n",
        "        kimchi_tmp = day_menu[-1]; kimchi.append(kimchi_tmp)\n",
        "        side_tmp = day_menu[-2]; side.append(side_tmp)\n",
        "    else: \n",
        "        kimchi_tmp = day_menu[-2]; kimchi.append(kimchi_tmp)\n",
        "        side_tmp  = day_menu[-1]; side.append(side_tmp)\n",
        "    menu_len_list.append([len(day_menu),i])\n",
        "\n",
        "test_dn = test.copy()\n",
        "\n",
        "test_dn['밥'] = bob\n",
        "test_dn['국'] = gook\n",
        "test_dn['반찬1'] = banchan1; \n",
        "test_dn['반찬2'] = banchan2;\n",
        "test_dn['반찬3'] = banchan3\n",
        "test_dn['김치'] = kimchi\n",
        "test_dn['사이드'] = side"
      ],
      "execution_count": null,
      "outputs": []
    },
    {
      "cell_type": "code",
      "metadata": {
        "id": "M5LTKi8gPXWi"
      },
      "source": [
        "test_dn.drop(columns = ['본사정원수','본사휴가자수','본사출장자수','조식메뉴','중식메뉴','석식메뉴','현본사소속재택근무자수'],inplace = True)"
      ],
      "execution_count": null,
      "outputs": []
    },
    {
      "cell_type": "code",
      "metadata": {
        "id": "HBEpCMUUPYkY"
      },
      "source": [
        "test_dn['요일'] =  test_dn['요일'].astype('category')\n",
        "test_dn['요일'] = test_dn['요일'].cat.codes\n",
        "\n",
        "test_dn['밥'] =  test_dn['밥'].astype('category')\n",
        "test_dn['밥'] = test_dn['밥'].cat.codes\n",
        "\n",
        "test_dn['국'] =  test_dn['국'].astype('category')\n",
        "test_dn['국'] = test_dn['국'].cat.codes\n",
        "\n",
        "test_dn['반찬1'] =  test_dn['반찬1'].astype('category')\n",
        "test_dn['반찬1'] = test_dn['반찬1'].cat.codes\n",
        "\n",
        "test_dn['반찬2'] =  test_dn['반찬2'].astype('category')\n",
        "test_dn['반찬2'] = test_dn['반찬2'].cat.codes\n",
        "\n",
        "test_dn['반찬3'] =  test_dn['반찬3'].astype('category')\n",
        "test_dn['반찬3'] = test_dn['반찬3'].cat.codes\n",
        "\n",
        "test_dn['김치'] =  test_dn['김치'].astype('category')\n",
        "test_dn['김치'] = test_dn['김치'].cat.codes\n",
        "\n",
        "test_dn['사이드'] =  test_dn['사이드'].astype('category')\n",
        "test_dn['사이드'] = test_dn['사이드'].cat.codes"
      ],
      "execution_count": null,
      "outputs": []
    },
    {
      "cell_type": "code",
      "metadata": {
        "id": "TKzgbsHYPhGZ"
      },
      "source": [
        "test_dn_final = test_dn.drop(columns=['일자'])"
      ],
      "execution_count": null,
      "outputs": []
    },
    {
      "cell_type": "code",
      "metadata": {
        "id": "7FtqZqbgP2eg"
      },
      "source": [
        "submission['석식계'] = xgb_grid1.predict(test_dn_final)\n"
      ],
      "execution_count": null,
      "outputs": []
    },
    {
      "cell_type": "code",
      "metadata": {
        "id": "o6H667xIQJYc"
      },
      "source": [
        "fig, ax = plt.subplots(figsize = (15,12))\n",
        "plot_importance(xgb, ax = ax)\n",
        "plt.show()"
      ],
      "execution_count": null,
      "outputs": []
    },
    {
      "cell_type": "code",
      "metadata": {
        "id": "4aJZKvI2TsI1"
      },
      "source": [
        "submission.to_csv('/content/drive/MyDrive/TAVE 머신러닝 스터디/식수 인원 예측/submission_final_code1.csv', index=False)"
      ],
      "execution_count": null,
      "outputs": []
    },
    {
      "cell_type": "code",
      "metadata": {
        "id": "U0n7u0MXT04P"
      },
      "source": [
        "test_dn"
      ],
      "execution_count": null,
      "outputs": []
    },
    {
      "cell_type": "code",
      "metadata": {
        "id": "cMkZyuKtxVYo"
      },
      "source": [
        "test_ln"
      ],
      "execution_count": null,
      "outputs": []
    },
    {
      "cell_type": "code",
      "metadata": {
        "id": "yKQViKaazoGE"
      },
      "source": [
        "submission"
      ],
      "execution_count": null,
      "outputs": []
    },
    {
      "cell_type": "code",
      "metadata": {
        "id": "CUj5P43H2XgZ"
      },
      "source": [
        "xgb1.fit(X2_train,y2_train)\n",
        "xgb1_pred = xgb_grid1.predict(X2_test)"
      ],
      "execution_count": null,
      "outputs": []
    },
    {
      "cell_type": "code",
      "metadata": {
        "id": "m7N7SZBn3Oq7"
      },
      "source": [
        "mean_absolute_error(y2_test, xgb1_pred)"
      ],
      "execution_count": null,
      "outputs": []
    },
    {
      "cell_type": "code",
      "metadata": {
        "id": "lITJsP2g3QuJ"
      },
      "source": [
        ""
      ],
      "execution_count": null,
      "outputs": []
    }
  ]
}